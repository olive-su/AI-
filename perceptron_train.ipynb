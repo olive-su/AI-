{
  "nbformat": 4,
  "nbformat_minor": 0,
  "metadata": {
    "colab": {
      "name": "[3_1, 2]퍼셉트론 구현.ipynb",
      "provenance": [],
      "authorship_tag": "ABX9TyPN3Kkvl5FhHhHwdxzwAdJA",
      "include_colab_link": true
    },
    "kernelspec": {
      "name": "python3",
      "display_name": "Python 3"
    },
    "language_info": {
      "name": "python"
    }
  },
  "cells": [
    {
      "cell_type": "markdown",
      "metadata": {
        "id": "view-in-github",
        "colab_type": "text"
      },
      "source": [
        "<a href=\"https://colab.research.google.com/github/olive-su/AI_codepresso/blob/master/perceptron_train.ipynb\" target=\"_parent\"><img src=\"https://colab.research.google.com/assets/colab-badge.svg\" alt=\"Open In Colab\"/></a>"
      ]
    },
    {
      "cell_type": "code",
      "metadata": {
        "id": "yNyHQ3NHRuIO",
        "colab": {
          "base_uri": "https://localhost:8080/"
        },
        "outputId": "911530f9-fc51-4baa-de4a-f7573890dc20"
      },
      "source": [
        "import tensorflow as tf\n",
        "print(tf.__version__)"
      ],
      "execution_count": 1,
      "outputs": [
        {
          "output_type": "stream",
          "text": [
            "2.5.0\n"
          ],
          "name": "stdout"
        }
      ]
    },
    {
      "cell_type": "code",
      "metadata": {
        "id": "HplyucXiOWh9"
      },
      "source": [
        "# 파라미터 값 설정\n",
        "input_dim = 2 # 축 : 2\n",
        "hidden_units = 1 # 퍼셉트론을 하나만 만듦\n",
        "learning_rate = 0.01"
      ],
      "execution_count": 2,
      "outputs": []
    },
    {
      "cell_type": "code",
      "metadata": {
        "id": "ZpRrJ9OiOlWA"
      },
      "source": [
        "# 가중치(input 특성 : 2/ 퍼셉트론 : 1)\n",
        "w= tf.Variable(tf.random.uniform(shape=(input_dim, hidden_units))) # 랜덤값 할당\n",
        "\n",
        "# 편향(퍼셉트론 : 1)\n",
        "b = tf.Variable(tf.zeros(shape=(hidden_units,))) # zeros : 모두 0으로 채우는 메서드"
      ],
      "execution_count": 3,
      "outputs": []
    },
    {
      "cell_type": "code",
      "metadata": {
        "colab": {
          "base_uri": "https://localhost:8080/"
        },
        "id": "J0Ix68xUPSdJ",
        "outputId": "4d163486-2290-47fa-eb9c-7ee9f5778f33"
      },
      "source": [
        "w"
      ],
      "execution_count": 4,
      "outputs": [
        {
          "output_type": "execute_result",
          "data": {
            "text/plain": [
              "<tf.Variable 'Variable:0' shape=(2, 1) dtype=float32, numpy=\n",
              "array([[0.8147211],\n",
              "       [0.9899014]], dtype=float32)>"
            ]
          },
          "metadata": {
            "tags": []
          },
          "execution_count": 4
        }
      ]
    },
    {
      "cell_type": "code",
      "metadata": {
        "colab": {
          "base_uri": "https://localhost:8080/"
        },
        "id": "fBFpko5RPWY6",
        "outputId": "f4a2e968-5ebb-4bf5-c023-baee450ab719"
      },
      "source": [
        "b"
      ],
      "execution_count": 5,
      "outputs": [
        {
          "output_type": "execute_result",
          "data": {
            "text/plain": [
              "<tf.Variable 'Variable:0' shape=(1,) dtype=float32, numpy=array([0.], dtype=float32)>"
            ]
          },
          "metadata": {
            "tags": []
          },
          "execution_count": 5
        }
      ]
    },
    {
      "cell_type": "code",
      "metadata": {
        "id": "rvSEKaOVPZF_"
      },
      "source": [
        "# 퍼셉트론의 수학 모델 f(x*w+b)\n",
        "def predict(input):\n",
        "  x = tf.matmul(input, w) + b # matmul 함수 : 행렬의 곱 구함\n",
        "  x = tf.maximum(0, x) # activation 함수로 Relu 함수 사용\n",
        "  return x"
      ],
      "execution_count": 6,
      "outputs": []
    },
    {
      "cell_type": "code",
      "metadata": {
        "id": "y00i3xxtVuDZ"
      },
      "source": [
        "# loss값으로 mse를 구현하는 함수 생성\n",
        "def mse_loss(labels, predictions):\n",
        "  loss = tf.reduce_mean(tf.square(labels - predictions)) # '정답 - 모델의 예측값' 제곱 후 평균 반환\n",
        "  return loss"
      ],
      "execution_count": 7,
      "outputs": []
    },
    {
      "cell_type": "code",
      "metadata": {
        "id": "yWBEbnDNWQBe"
      },
      "source": [
        "# train\n",
        "def train(inputs, labels):\n",
        "  with tf.GradientTape() as tape:\n",
        "    # 퍼셉트론 모델의 예측값을 계산\n",
        "    predictions = predict(inputs)\n",
        "    # 모델의 예측값과 정답간의 에러를 loss를 이용해 계산\n",
        "    loss = mse_loss(labels, predictions)\n",
        "    # 모델의 변수(w, b) loss 값에 미치는 영향도를 미분(오차역전파)을 통해 계산\n",
        "    # weight가 loss에 미치는 영향도의 미분값, bias가 loss에 미치는 영향도의 미분값 구함\n",
        "    gradient_lw, gradient_lb = tape.gradient(loss, [w, b]) # 오차역전파로 값 도출\n",
        "  w.assign(w - learning_rate * gradient_lw) # 위에서 수행한 연산값을 weight에 업데이트\n",
        "  b.assign(b - learning_rate * gradient_lb) # 위에서 수행한 연산값을 bias에 업데이트\n",
        "  return loss\n"
      ],
      "execution_count": 8,
      "outputs": []
    },
    {
      "cell_type": "markdown",
      "metadata": {
        "id": "s3Vq9MPsX3gy"
      },
      "source": [
        "* 퍼셉트론 모델 학습을 위한 AND Gate 데이터 생성"
      ]
    },
    {
      "cell_type": "code",
      "metadata": {
        "id": "hclw7Y55YGy0"
      },
      "source": [
        "import numpy as np\n",
        "import matplotlib.pyplot as plt\n",
        "%matplotlib inline"
      ],
      "execution_count": 9,
      "outputs": []
    },
    {
      "cell_type": "code",
      "metadata": {
        "id": "oPOK6Xv6Z--3"
      },
      "source": [
        "inputs = np.array([[0, 0],\n",
        "                   [0, 1],\n",
        "                   [1, 0],\n",
        "                   [1, 1]], dtype=np.float32)"
      ],
      "execution_count": 10,
      "outputs": []
    },
    {
      "cell_type": "code",
      "metadata": {
        "id": "JlY1r5LFaBXG"
      },
      "source": [
        "labels = np.array([0,0,0,1], dtype=np.float32)"
      ],
      "execution_count": 11,
      "outputs": []
    },
    {
      "cell_type": "code",
      "metadata": {
        "colab": {
          "base_uri": "https://localhost:8080/"
        },
        "id": "YQDFMdKCh6QI",
        "outputId": "97213f80-b9dc-4f29-be7a-bbd2162cd507"
      },
      "source": [
        "inputs.shape"
      ],
      "execution_count": 12,
      "outputs": [
        {
          "output_type": "execute_result",
          "data": {
            "text/plain": [
              "(4, 2)"
            ]
          },
          "metadata": {
            "tags": []
          },
          "execution_count": 12
        }
      ]
    },
    {
      "cell_type": "code",
      "metadata": {
        "colab": {
          "base_uri": "https://localhost:8080/"
        },
        "id": "nslRjev-h9cV",
        "outputId": "800a7d33-ffc2-42b6-9191-51d41a8e0f1c"
      },
      "source": [
        "labels.shape"
      ],
      "execution_count": 13,
      "outputs": [
        {
          "output_type": "execute_result",
          "data": {
            "text/plain": [
              "(4,)"
            ]
          },
          "metadata": {
            "tags": []
          },
          "execution_count": 13
        }
      ]
    },
    {
      "cell_type": "code",
      "metadata": {
        "colab": {
          "base_uri": "https://localhost:8080/",
          "height": 283
        },
        "id": "WdGnvvHGdD1W",
        "outputId": "3e5c4029-6b1b-4703-f67f-afb854e323ed"
      },
      "source": [
        "plt.scatter(inputs[:, 0], inputs[:, 1], c=labels[:]) # x1 데이터, x2 데이터 적용"
      ],
      "execution_count": 14,
      "outputs": [
        {
          "output_type": "execute_result",
          "data": {
            "text/plain": [
              "<matplotlib.collections.PathCollection at 0x7eff97d16c50>"
            ]
          },
          "metadata": {
            "tags": []
          },
          "execution_count": 14
        },
        {
          "output_type": "display_data",
          "data": {
            "image/png": "[encoded data removed]",
            "text/plain": [
              "<Figure size 432x288 with 1 Axes>"
            ]
          },
          "metadata": {
            "tags": [],
            "needs_background": "light"
          }
        }
      ]
    },
    {
      "cell_type": "code",
      "metadata": {
        "colab": {
          "base_uri": "https://localhost:8080/"
        },
        "id": "UG6_5x-VdWGK",
        "outputId": "f3f8201b-0b01-4ee4-af0f-1b6f2d52b20e"
      },
      "source": [
        "for epoch in range(100): # 학습을 진행할 때마다 epoch 값이 1씩 증가\n",
        "  for x, y in zip(inputs, labels):\n",
        "    loss = train([x], [y]) # 보통 하나의 데이터로 학습을 진행하는 경우는 없어서\n",
        "    # 에러로 판단하므로 명시적으로 하나의 데이터라고 []를 이용해 표현함\n",
        "  print(\"Epoch {} : loss={}\".format(epoch+1, float(loss)))"
      ],
      "execution_count": 15,
      "outputs": [
        {
          "output_type": "stream",
          "text": [
            "Epoch 1 : loss=0.5376255512237549\n",
            "Epoch 2 : loss=0.38988134264945984\n",
            "Epoch 3 : loss=0.27871766686439514\n",
            "Epoch 4 : loss=0.19574737548828125\n",
            "Epoch 5 : loss=0.13443772494792938\n",
            "Epoch 6 : loss=0.08970781415700912\n",
            "Epoch 7 : loss=0.057612136006355286\n",
            "Epoch 8 : loss=0.03509347140789032\n",
            "Epoch 9 : loss=0.019787495955824852\n",
            "Epoch 10 : loss=0.009870843961834908\n",
            "Epoch 11 : loss=0.003941495902836323\n",
            "Epoch 12 : loss=0.0009254238684661686\n",
            "Epoch 13 : loss=3.223073008484789e-06\n",
            "Epoch 14 : loss=0.0005529994377866387\n",
            "Epoch 15 : loss=0.0021056162659078836\n",
            "Epoch 16 : loss=0.004309889394789934\n",
            "Epoch 17 : loss=0.006905335932970047\n",
            "Epoch 18 : loss=0.009701031260192394\n",
            "Epoch 19 : loss=0.012559222988784313\n",
            "Epoch 20 : loss=0.015382522717118263\n",
            "Epoch 21 : loss=0.01810409687459469\n",
            "Epoch 22 : loss=0.02067985199391842\n",
            "Epoch 23 : loss=0.023082861676812172\n",
            "Epoch 24 : loss=0.025298718363046646\n",
            "Epoch 25 : loss=0.027321945875883102\n",
            "Epoch 26 : loss=0.029153555631637573\n",
            "Epoch 27 : loss=0.030799049884080887\n",
            "Epoch 28 : loss=0.03226686641573906\n",
            "Epoch 29 : loss=0.03356730565428734\n",
            "Epoch 30 : loss=0.03471183404326439\n",
            "Epoch 31 : loss=0.035712216049432755\n",
            "Epoch 32 : loss=0.036580175161361694\n",
            "Epoch 33 : loss=0.037327248603105545\n",
            "Epoch 34 : loss=0.037964604794979095\n",
            "Epoch 35 : loss=0.03850262984633446\n",
            "Epoch 36 : loss=0.03895103186368942\n",
            "Epoch 37 : loss=0.03931891918182373\n",
            "Epoch 38 : loss=0.0396147146821022\n",
            "Epoch 39 : loss=0.03984593600034714\n",
            "Epoch 40 : loss=0.040019501000642776\n",
            "Epoch 41 : loss=0.040141813457012177\n",
            "Epoch 42 : loss=0.0402185395359993\n",
            "Epoch 43 : loss=0.04025481641292572\n",
            "Epoch 44 : loss=0.04025531932711601\n",
            "Epoch 45 : loss=0.04022408649325371\n",
            "Epoch 46 : loss=0.0401647686958313\n",
            "Epoch 47 : loss=0.04008081182837486\n",
            "Epoch 48 : loss=0.039975203573703766\n",
            "Epoch 49 : loss=0.03985055163502693\n",
            "Epoch 50 : loss=0.03970927372574806\n",
            "Epoch 51 : loss=0.03955330699682236\n",
            "Epoch 52 : loss=0.039384614676237106\n",
            "Epoch 53 : loss=0.039204809814691544\n",
            "Epoch 54 : loss=0.039015404880046844\n",
            "Epoch 55 : loss=0.03881765156984329\n",
            "Epoch 56 : loss=0.038612768054008484\n",
            "Epoch 57 : loss=0.0384017638862133\n",
            "Epoch 58 : loss=0.038185492157936096\n",
            "Epoch 59 : loss=0.0379648357629776\n",
            "Epoch 60 : loss=0.03774049133062363\n",
            "Epoch 61 : loss=0.03751299902796745\n",
            "Epoch 62 : loss=0.037282951176166534\n",
            "Epoch 63 : loss=0.03705080971121788\n",
            "Epoch 64 : loss=0.03681710734963417\n",
            "Epoch 65 : loss=0.036582157015800476\n",
            "Epoch 66 : loss=0.036346279084682465\n",
            "Epoch 67 : loss=0.03610983118414879\n",
            "Epoch 68 : loss=0.035873111337423325\n",
            "Epoch 69 : loss=0.03563618287444115\n",
            "Epoch 70 : loss=0.035399362444877625\n",
            "Epoch 71 : loss=0.03516282141208649\n",
            "Epoch 72 : loss=0.03492678329348564\n",
            "Epoch 73 : loss=0.034691184759140015\n",
            "Epoch 74 : loss=0.03445635735988617\n",
            "Epoch 75 : loss=0.0342223085463047\n",
            "Epoch 76 : loss=0.03398914635181427\n",
            "Epoch 77 : loss=0.033756889402866364\n",
            "Epoch 78 : loss=0.03352567180991173\n",
            "Epoch 79 : loss=0.03329552710056305\n",
            "Epoch 80 : loss=0.03306648135185242\n",
            "Epoch 81 : loss=0.03283867612481117\n",
            "Epoch 82 : loss=0.032612092792987823\n",
            "Epoch 83 : loss=0.032386764883995056\n",
            "Epoch 84 : loss=0.032162707298994064\n",
            "Epoch 85 : loss=0.03193992003798485\n",
            "Epoch 86 : loss=0.03171852231025696\n",
            "Epoch 87 : loss=0.03149844706058502\n",
            "Epoch 88 : loss=0.031279660761356354\n",
            "Epoch 89 : loss=0.0310622900724411\n",
            "Epoch 90 : loss=0.03084624372422695\n",
            "Epoch 91 : loss=0.030631639063358307\n",
            "Epoch 92 : loss=0.03041834384202957\n",
            "Epoch 93 : loss=0.030206499621272087\n",
            "Epoch 94 : loss=0.029996013268828392\n",
            "Epoch 95 : loss=0.029786964878439903\n",
            "Epoch 96 : loss=0.02957926131784916\n",
            "Epoch 97 : loss=0.029372917488217354\n",
            "Epoch 98 : loss=0.029168028384447098\n",
            "Epoch 99 : loss=0.028964506462216377\n",
            "Epoch 100 : loss=0.028762323781847954\n"
          ],
          "name": "stdout"
        }
      ]
    },
    {
      "cell_type": "code",
      "metadata": {
        "id": "ZmHzEAYrgzMZ"
      },
      "source": [
        "predictions = predict(inputs)"
      ],
      "execution_count": 16,
      "outputs": []
    },
    {
      "cell_type": "code",
      "metadata": {
        "colab": {
          "base_uri": "https://localhost:8080/"
        },
        "id": "u_V3Nd5bjUSM",
        "outputId": "51335b78-77b1-42b3-8605-1e75735baca3"
      },
      "source": [
        "predictions"
      ],
      "execution_count": 17,
      "outputs": [
        {
          "output_type": "execute_result",
          "data": {
            "text/plain": [
              "<tf.Tensor: shape=(4, 1), dtype=float32, numpy=\n",
              "array([[0.        ],\n",
              "       [0.13108599],\n",
              "       [0.11110067],\n",
              "       [0.8405812 ]], dtype=float32)>"
            ]
          },
          "metadata": {
            "tags": []
          },
          "execution_count": 17
        }
      ]
    },
    {
      "cell_type": "markdown",
      "metadata": {
        "id": "iHhvUAqHkk36"
      },
      "source": [
        "* 학습이 제대로 구현되었는지 그래프로 출력함"
      ]
    },
    {
      "cell_type": "code",
      "metadata": {
        "colab": {
          "base_uri": "https://localhost:8080/",
          "height": 283
        },
        "id": "0cx0dy-njYLP",
        "outputId": "7c815556-2597-4ddb-8d16-ff0a91cb2b52"
      },
      "source": [
        "plt.scatter(inputs[:, 0], inputs[:, 1], c=predictions[:]>0.5)"
      ],
      "execution_count": 18,
      "outputs": [
        {
          "output_type": "execute_result",
          "data": {
            "text/plain": [
              "<matplotlib.collections.PathCollection at 0x7effe447d550>"
            ]
          },
          "metadata": {
            "tags": []
          },
          "execution_count": 18
        },
        {
          "output_type": "display_data",
          "data": {
            "image/png": "[encoded data removed]",
            "text/plain": [
              "<Figure size 432x288 with 1 Axes>"
            ]
          },
          "metadata": {
            "tags": [],
            "needs_background": "light"
          }
        }
      ]
    },
    {
      "cell_type": "markdown",
      "metadata": {
        "id": "_DRnzQrIkY1N"
      },
      "source": [
        "* 테스트 데이터셋 생성"
      ]
    },
    {
      "cell_type": "code",
      "metadata": {
        "id": "DGLDH_zJjfG3"
      },
      "source": [
        "test_inputs = np.random.uniform(0, 1, (5000, 2)).astype(np.float32) # uniform : 랜덤함수 모듈 중 동일한 확률 분포의 값을 예측한다."
      ],
      "execution_count": 24,
      "outputs": []
    },
    {
      "cell_type": "code",
      "metadata": {
        "colab": {
          "base_uri": "https://localhost:8080/"
        },
        "id": "-yFa5__nkDIi",
        "outputId": "d5852408-aa2b-401c-cd82-e903583f3368"
      },
      "source": [
        "test_inputs"
      ],
      "execution_count": 20,
      "outputs": [
        {
          "output_type": "execute_result",
          "data": {
            "text/plain": [
              "array([[0.9655776 , 0.15440916],\n",
              "       [0.98921824, 0.7924623 ],\n",
              "       [0.7062553 , 0.5981796 ],\n",
              "       ...,\n",
              "       [0.2888947 , 0.32789078],\n",
              "       [0.56409484, 0.4223522 ],\n",
              "       [0.50041056, 0.6789125 ]], dtype=float32)"
            ]
          },
          "metadata": {
            "tags": []
          },
          "execution_count": 20
        }
      ]
    },
    {
      "cell_type": "code",
      "metadata": {
        "colab": {
          "base_uri": "https://localhost:8080/",
          "height": 283
        },
        "id": "OEy4zsRSkELC",
        "outputId": "390dc7ab-c7eb-430a-80a2-6ea2ba1e1fd1"
      },
      "source": [
        "predictions = predict(test_inputs)\n",
        "plt.scatter(test_inputs[:, 0], test_inputs[:, 1], c=predictions[:]>0.5)"
      ],
      "execution_count": 23,
      "outputs": [
        {
          "output_type": "execute_result",
          "data": {
            "text/plain": [
              "<matplotlib.collections.PathCollection at 0x7eff977d0850>"
            ]
          },
          "metadata": {
            "tags": []
          },
          "execution_count": 23
        },
        {
          "output_type": "display_data",
          "data": {
            "image/png": "[encoded data removed]",
            "text/plain": [
              "<Figure size 432x288 with 1 Axes>"
            ]
          },
          "metadata": {
            "tags": [],
            "needs_background": "light"
          }
        }
      ]
    },
    {
      "cell_type": "code",
      "metadata": {
        "colab": {
          "base_uri": "https://localhost:8080/"
        },
        "id": "EDZkLgxtkIWG",
        "outputId": "6786783f-55cc-4939-c4af-270ed324ed2c"
      },
      "source": [
        "w # 최적의 weight"
      ],
      "execution_count": 26,
      "outputs": [
        {
          "output_type": "execute_result",
          "data": {
            "text/plain": [
              "<tf.Variable 'Variable:0' shape=(2, 1) dtype=float32, numpy=\n",
              "array([[0.7094952],\n",
              "       [0.7294805]], dtype=float32)>"
            ]
          },
          "metadata": {
            "tags": []
          },
          "execution_count": 26
        }
      ]
    },
    {
      "cell_type": "code",
      "metadata": {
        "colab": {
          "base_uri": "https://localhost:8080/"
        },
        "id": "CKXbjdGbkvG6",
        "outputId": "b98f224c-78c4-4b04-b113-bb0774435a0d"
      },
      "source": [
        "b # 최적의 bias"
      ],
      "execution_count": 27,
      "outputs": [
        {
          "output_type": "execute_result",
          "data": {
            "text/plain": [
              "<tf.Variable 'Variable:0' shape=(1,) dtype=float32, numpy=array([-0.5983945], dtype=float32)>"
            ]
          },
          "metadata": {
            "tags": []
          },
          "execution_count": 27
        }
      ]
    },
    {
      "cell_type": "code",
      "metadata": {
        "id": "cSQOqOiVkyc9"
      },
      "source": [
        ""
      ],
      "execution_count": null,
      "outputs": []
    }
  ]
}
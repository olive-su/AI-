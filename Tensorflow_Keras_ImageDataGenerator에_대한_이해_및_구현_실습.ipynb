{
  "nbformat": 4,
  "nbformat_minor": 0,
  "metadata": {
    "colab": {
      "name": "Tensorflow_Keras ImageDataGenerator에 대한 이해 및 구현 실습.ipynb",
      "provenance": [],
      "collapsed_sections": [],
      "include_colab_link": true
    },
    "kernelspec": {
      "display_name": "Python 3",
      "language": "python",
      "name": "python3"
    },
    "language_info": {
      "codemirror_mode": {
        "name": "ipython",
        "version": 3
      },
      "file_extension": ".py",
      "mimetype": "text/x-python",
      "name": "python",
      "nbconvert_exporter": "python",
      "pygments_lexer": "ipython3",
      "version": "3.6.8"
    }
  },
  "cells": [
    {
      "cell_type": "markdown",
      "metadata": {
        "id": "view-in-github",
        "colab_type": "text"
      },
      "source": [
        "<a href=\"https://colab.research.google.com/github/olive-su/AI_codepresso/blob/master/Tensorflow_Keras_ImageDataGenerator%EC%97%90_%EB%8C%80%ED%95%9C_%EC%9D%B4%ED%95%B4_%EB%B0%8F_%EA%B5%AC%ED%98%84_%EC%8B%A4%EC%8A%B5.ipynb\" target=\"_parent\"><img src=\"https://colab.research.google.com/assets/colab-badge.svg\" alt=\"Open In Colab\"/></a>"
      ]
    },
    {
      "cell_type": "code",
      "metadata": {
        "id": "3PUX8Pbxfcmu"
      },
      "source": [
        "from tensorflow import keras\n",
        "import os"
      ],
      "execution_count": 1,
      "outputs": []
    },
    {
      "cell_type": "markdown",
      "metadata": {
        "id": "8tx5pLETRayc"
      },
      "source": [
        "### 1. Cats and Dogs 데이터셋 다운로드"
      ]
    },
    {
      "cell_type": "code",
      "metadata": {
        "id": "EU_txrdnuHIb"
      },
      "source": [
        "url = 'https://storage.googleapis.com/mledu-datasets/cats_and_dogs_filtered.zip'"
      ],
      "execution_count": 2,
      "outputs": []
    },
    {
      "cell_type": "code",
      "metadata": {
        "id": "nttUXJ5-8GBu",
        "colab": {
          "base_uri": "https://localhost:8080/"
        },
        "outputId": "1bdfdc9d-1333-459a-e1c0-f3f611200f97"
      },
      "source": [
        "path_zip=keras.utils.get_file(fname='cats_and_dogs_filtered.zip',\n",
        "                              origin=url,\n",
        "                              extract=True,\n",
        "                              cache_dir='/content')\n",
        "'''\n",
        "generator 연결시, 각 디렉토리를 읽어올 때 클래스로 분류하여\n",
        "'train' > 'cat', 'dog' 처럼 가져오기 때문에 이러한 디렉토리 구조로 만들어야한다.\n",
        "generator 는 상위 폴더와 연결됨\n",
        "'''"
      ],
      "execution_count": 3,
      "outputs": [
        {
          "output_type": "stream",
          "text": [
            "Downloading data from https://storage.googleapis.com/mledu-datasets/cats_and_dogs_filtered.zip\n",
            "68608000/68606236 [==============================] - 1s 0us/step\n"
          ],
          "name": "stdout"
        }
      ]
    },
    {
      "cell_type": "markdown",
      "metadata": {
        "id": "PddlPaLnRlzv"
      },
      "source": [
        "### 2. ImageDataGenerator를 이용해 이미지 파일을 load 하기 위한 경로 지정"
      ]
    },
    {
      "cell_type": "code",
      "metadata": {
        "id": "xFXxSobmRqrt"
      },
      "source": [
        "train_dir = '/content/datasets/cats_and_dogs_filtered/train'"
      ],
      "execution_count": 4,
      "outputs": []
    },
    {
      "cell_type": "markdown",
      "metadata": {
        "id": "yCq6t2OFvkFf"
      },
      "source": [
        "### 3.ImageDataGenerator 객체 생성"
      ]
    },
    {
      "cell_type": "code",
      "metadata": {
        "id": "t-ZBPOW0vgVX"
      },
      "source": [
        "from tensorflow.keras.preprocessing.image import ImageDataGenerator"
      ],
      "execution_count": 5,
      "outputs": []
    },
    {
      "cell_type": "code",
      "metadata": {
        "id": "fDZ94fG4vlfW"
      },
      "source": [
        "datagen = ImageDataGenerator()\n",
        "# 이미지 데이터 제너레이터 객체 생성(필요한 정보를 설정하여 iterator 를 생성해야함)"
      ],
      "execution_count": 6,
      "outputs": []
    },
    {
      "cell_type": "code",
      "metadata": {
        "id": "BfZRI8QxwLjn",
        "colab": {
          "base_uri": "https://localhost:8080/"
        },
        "outputId": "19ea3880-0ea3-48c0-cf7d-0997fd28402f"
      },
      "source": [
        "type(datagen)"
      ],
      "execution_count": 7,
      "outputs": [
        {
          "output_type": "execute_result",
          "data": {
            "text/plain": [
              "tensorflow.python.keras.preprocessing.image.ImageDataGenerator"
            ]
          },
          "metadata": {
            "tags": []
          },
          "execution_count": 7
        }
      ]
    },
    {
      "cell_type": "markdown",
      "metadata": {
        "id": "8Ntz7KcUzHc4"
      },
      "source": [
        "### 4. ImageDataGenerator.flow_from_directory() 함수 사용\n",
        "* ImageDataGenerator에 데이터를 읽어오는 경로 연결\n",
        "* 이미지 데이터를 읽어 텐서 객체로 변환하는 파이프라인 설정\n",
        "* DirectoryIterator 객체로 변화됨"
      ]
    },
    {
      "cell_type": "code",
      "metadata": {
        "id": "VxN6N_EKvt1p",
        "colab": {
          "base_uri": "https://localhost:8080/"
        },
        "outputId": "4ca8bfe3-9d35-4f30-e90c-546bedf97e51"
      },
      "source": [
        "'''\n",
        "고정된 사이즈를 받기위한 인자(target_size)\n",
        "데이터 순서가 고정되어 받기 때문에 셔플 인자 넘겨줌 (고정되어 받게 되면 개 or 고양이 데이터만 받아서 학습 \n",
        "→ 개 or 고양이만 잘 분류하는 모델이 됨)\n",
        "\n",
        "generator로 라벨 생성 시, 라벨을 어떤 방식으로 만들지 요청(one-hot(categorical) or label(binary))\n",
        "\n",
        "연결된 정보를 리턴하여 출력\n",
        "'''\n",
        "train_generator = datagen.flow_from_directory(directory=train_dir, \n",
        "                                              target_size=(150, 150), \n",
        "                                              batch_size=32, \n",
        "                                              shuffle=True,\n",
        "                                              class_mode='binary')"
      ],
      "execution_count": 8,
      "outputs": [
        {
          "output_type": "stream",
          "text": [
            "Found 2000 images belonging to 2 classes.\n"
          ],
          "name": "stdout"
        }
      ]
    },
    {
      "cell_type": "code",
      "metadata": {
        "id": "Rpw_Cnd_v6Rp",
        "colab": {
          "base_uri": "https://localhost:8080/"
        },
        "outputId": "697e682d-50cf-4f76-a8f9-851959f149df"
      },
      "source": [
        "type(train_generator)\n",
        "# ImageDataGenerator에서 설정 정보를 연결하여 Iterator 객체로 변환"
      ],
      "execution_count": 9,
      "outputs": [
        {
          "output_type": "execute_result",
          "data": {
            "text/plain": [
              "tensorflow.python.keras.preprocessing.image.DirectoryIterator"
            ]
          },
          "metadata": {
            "tags": []
          },
          "execution_count": 9
        }
      ]
    },
    {
      "cell_type": "markdown",
      "metadata": {
        "id": "KDrgFJkE0Cj4"
      },
      "source": [
        "### 5. DirectoryIterator 객체의 속성 및 메서드"
      ]
    },
    {
      "cell_type": "markdown",
      "metadata": {
        "id": "IVRurPBa7fnP"
      },
      "source": [
        "* .samples : 연결된 경로에서 읽어들일 이미지 파일의 개수"
      ]
    },
    {
      "cell_type": "code",
      "metadata": {
        "id": "cm8aOtcP0O4y",
        "colab": {
          "base_uri": "https://localhost:8080/"
        },
        "outputId": "1c875cac-b5e0-42df-cd84-3136ac46a2f6"
      },
      "source": [
        "train_generator.samples"
      ],
      "execution_count": 10,
      "outputs": [
        {
          "output_type": "execute_result",
          "data": {
            "text/plain": [
              "2000"
            ]
          },
          "metadata": {
            "tags": []
          },
          "execution_count": 10
        }
      ]
    },
    {
      "cell_type": "markdown",
      "metadata": {
        "id": "AyuvaNNl7sVw"
      },
      "source": [
        "* len() : batch 덩어리의 개수 확인 "
      ]
    },
    {
      "cell_type": "code",
      "metadata": {
        "id": "_YL7en0zHWIR",
        "colab": {
          "base_uri": "https://localhost:8080/"
        },
        "outputId": "e83e3baa-3fd5-4eef-dc56-8e1f8b432308"
      },
      "source": [
        "len(train_generator)\n",
        "# 63개의 배치 덩어리"
      ],
      "execution_count": 11,
      "outputs": [
        {
          "output_type": "execute_result",
          "data": {
            "text/plain": [
              "63"
            ]
          },
          "metadata": {
            "tags": []
          },
          "execution_count": 11
        }
      ]
    },
    {
      "cell_type": "code",
      "metadata": {
        "id": "4yLSxjV80kKm",
        "colab": {
          "base_uri": "https://localhost:8080/"
        },
        "outputId": "1cd54eca-6c40-4af8-b08d-b59253a7bb6c"
      },
      "source": [
        "2000/32 \n",
        "# '2000장의 데이터' / '32의 배치 사이즈'"
      ],
      "execution_count": 12,
      "outputs": [
        {
          "output_type": "execute_result",
          "data": {
            "text/plain": [
              "62.5"
            ]
          },
          "metadata": {
            "tags": []
          },
          "execution_count": 12
        }
      ]
    },
    {
      "cell_type": "markdown",
      "metadata": {
        "id": "_WUidzQ58rK_"
      },
      "source": [
        "* next() : batch 데이터 호출"
      ]
    },
    {
      "cell_type": "code",
      "metadata": {
        "id": "0-XmogSxwZA-"
      },
      "source": [
        "x, y = next(train_generator)"
      ],
      "execution_count": 13,
      "outputs": []
    },
    {
      "cell_type": "code",
      "metadata": {
        "id": "jDJ42VwKwaR6",
        "colab": {
          "base_uri": "https://localhost:8080/"
        },
        "outputId": "8d90c472-182b-42b3-8ce4-2bdccb1742fa"
      },
      "source": [
        "x.shape, y.shape # train data, label data 반환"
      ],
      "execution_count": 14,
      "outputs": [
        {
          "output_type": "execute_result",
          "data": {
            "text/plain": [
              "((32, 150, 150, 3), (32,))"
            ]
          },
          "metadata": {
            "tags": []
          },
          "execution_count": 14
        }
      ]
    },
    {
      "cell_type": "code",
      "metadata": {
        "id": "A5bwgscywb6H",
        "colab": {
          "base_uri": "https://localhost:8080/"
        },
        "outputId": "dc6a13e4-0ff1-488f-9129-469ff645aa96"
      },
      "source": [
        "y"
      ],
      "execution_count": 15,
      "outputs": [
        {
          "output_type": "execute_result",
          "data": {
            "text/plain": [
              "array([1., 1., 1., 0., 0., 1., 0., 0., 0., 0., 0., 0., 0., 1., 0., 1., 0.,\n",
              "       0., 1., 0., 0., 1., 0., 0., 1., 0., 0., 1., 1., 0., 1., 1.],\n",
              "      dtype=float32)"
            ]
          },
          "metadata": {
            "tags": []
          },
          "execution_count": 15
        }
      ]
    },
    {
      "cell_type": "markdown",
      "metadata": {
        "id": "7nUUJs9o85k2"
      },
      "source": [
        "* .__getitem__(idx) : 원하는 index 의 batch 데이터 호출"
      ]
    },
    {
      "cell_type": "code",
      "metadata": {
        "id": "WPWbbbgmsMVQ"
      },
      "source": [
        "x, y = train_generator.__getitem__(0)"
      ],
      "execution_count": 16,
      "outputs": []
    },
    {
      "cell_type": "code",
      "metadata": {
        "colab": {
          "base_uri": "https://localhost:8080/"
        },
        "id": "3W0av89Zs7F_",
        "outputId": "b0d4e791-df12-4af8-d6ea-1e8ef641497c"
      },
      "source": [
        "x.shape, y.shape"
      ],
      "execution_count": 17,
      "outputs": [
        {
          "output_type": "execute_result",
          "data": {
            "text/plain": [
              "((32, 150, 150, 3), (32,))"
            ]
          },
          "metadata": {
            "tags": []
          },
          "execution_count": 17
        }
      ]
    },
    {
      "cell_type": "code",
      "metadata": {
        "id": "r_J09v1Iwrca"
      },
      "source": [
        "x, y = train_generator.__getitem__(62) "
      ],
      "execution_count": 18,
      "outputs": []
    },
    {
      "cell_type": "code",
      "metadata": {
        "id": "Zwd-XWtsws0F",
        "colab": {
          "base_uri": "https://localhost:8080/"
        },
        "outputId": "2bcbbcc2-b15e-4927-a47e-423bfe05fa9e"
      },
      "source": [
        "x.shape, y.shape \n",
        "# 마지막 배치는 16개의 데이터가 들어있음"
      ],
      "execution_count": 19,
      "outputs": [
        {
          "output_type": "execute_result",
          "data": {
            "text/plain": [
              "((16, 150, 150, 3), (16,))"
            ]
          },
          "metadata": {
            "tags": []
          },
          "execution_count": 19
        }
      ]
    },
    {
      "cell_type": "code",
      "metadata": {
        "id": "BUF4p1z7wiWM"
      },
      "source": [
        "train_generator.reset() \n",
        "# Cursor 초기화"
      ],
      "execution_count": 20,
      "outputs": []
    },
    {
      "cell_type": "code",
      "metadata": {
        "id": "sGHTBoePwjY1",
        "colab": {
          "base_uri": "https://localhost:8080/",
          "height": 1000
        },
        "outputId": "436fcfc9-a8e1-4738-d8ee-26a86d274293"
      },
      "source": [
        "for idx, data in enumerate(train_generator):\n",
        "  print(idx, data[0].shape) \n",
        "# 데이터 반환 후에도 계속 shuffle이 진행되면서 무한 루프를 돌게됨\n",
        "# 최종 인덱스인 62를 넘어도 계속 진행된다. (이렇게 되면 epochs이 의미가 없어진다)\n",
        "# 따라서 generator를 사용할 때 1step당 값을 지정을 해줘야한다."
      ],
      "execution_count": 21,
      "outputs": [
        {
          "output_type": "stream",
          "text": [
            "0 (32, 150, 150, 3)\n",
            "1 (32, 150, 150, 3)\n",
            "2 (32, 150, 150, 3)\n",
            "3 (32, 150, 150, 3)\n",
            "4 (32, 150, 150, 3)\n",
            "5 (32, 150, 150, 3)\n",
            "6 (32, 150, 150, 3)\n",
            "7 (32, 150, 150, 3)\n",
            "8 (32, 150, 150, 3)\n",
            "9 (32, 150, 150, 3)\n",
            "10 (32, 150, 150, 3)\n",
            "11 (32, 150, 150, 3)\n",
            "12 (32, 150, 150, 3)\n",
            "13 (32, 150, 150, 3)\n",
            "14 (32, 150, 150, 3)\n",
            "15 (32, 150, 150, 3)\n",
            "16 (32, 150, 150, 3)\n",
            "17 (32, 150, 150, 3)\n",
            "18 (32, 150, 150, 3)\n",
            "19 (32, 150, 150, 3)\n",
            "20 (32, 150, 150, 3)\n",
            "21 (32, 150, 150, 3)\n",
            "22 (32, 150, 150, 3)\n",
            "23 (32, 150, 150, 3)\n",
            "24 (32, 150, 150, 3)\n",
            "25 (32, 150, 150, 3)\n",
            "26 (32, 150, 150, 3)\n",
            "27 (32, 150, 150, 3)\n",
            "28 (32, 150, 150, 3)\n",
            "29 (32, 150, 150, 3)\n",
            "30 (32, 150, 150, 3)\n",
            "31 (32, 150, 150, 3)\n",
            "32 (32, 150, 150, 3)\n",
            "33 (32, 150, 150, 3)\n",
            "34 (32, 150, 150, 3)\n",
            "35 (32, 150, 150, 3)\n",
            "36 (32, 150, 150, 3)\n",
            "37 (32, 150, 150, 3)\n",
            "38 (32, 150, 150, 3)\n",
            "39 (32, 150, 150, 3)\n",
            "40 (32, 150, 150, 3)\n",
            "41 (32, 150, 150, 3)\n",
            "42 (32, 150, 150, 3)\n",
            "43 (32, 150, 150, 3)\n",
            "44 (32, 150, 150, 3)\n",
            "45 (32, 150, 150, 3)\n",
            "46 (32, 150, 150, 3)\n",
            "47 (32, 150, 150, 3)\n",
            "48 (32, 150, 150, 3)\n",
            "49 (32, 150, 150, 3)\n",
            "50 (32, 150, 150, 3)\n",
            "51 (32, 150, 150, 3)\n",
            "52 (32, 150, 150, 3)\n",
            "53 (32, 150, 150, 3)\n",
            "54 (32, 150, 150, 3)\n",
            "55 (32, 150, 150, 3)\n",
            "56 (32, 150, 150, 3)\n",
            "57 (32, 150, 150, 3)\n",
            "58 (32, 150, 150, 3)\n",
            "59 (32, 150, 150, 3)\n",
            "60 (32, 150, 150, 3)\n",
            "61 (32, 150, 150, 3)\n",
            "62 (16, 150, 150, 3)\n",
            "63 (32, 150, 150, 3)\n",
            "64 (32, 150, 150, 3)\n",
            "65 (32, 150, 150, 3)\n",
            "66 (32, 150, 150, 3)\n",
            "67 (32, 150, 150, 3)\n",
            "68 (32, 150, 150, 3)\n",
            "69 (32, 150, 150, 3)\n",
            "70 (32, 150, 150, 3)\n",
            "71 (32, 150, 150, 3)\n",
            "72 (32, 150, 150, 3)\n",
            "73 (32, 150, 150, 3)\n",
            "74 (32, 150, 150, 3)\n",
            "75 (32, 150, 150, 3)\n",
            "76 (32, 150, 150, 3)\n",
            "77 (32, 150, 150, 3)\n",
            "78 (32, 150, 150, 3)\n",
            "79 (32, 150, 150, 3)\n",
            "80 (32, 150, 150, 3)\n",
            "81 (32, 150, 150, 3)\n",
            "82 (32, 150, 150, 3)\n",
            "83 (32, 150, 150, 3)\n",
            "84 (32, 150, 150, 3)\n",
            "85 (32, 150, 150, 3)\n",
            "86 (32, 150, 150, 3)\n",
            "87 (32, 150, 150, 3)\n",
            "88 (32, 150, 150, 3)\n",
            "89 (32, 150, 150, 3)\n",
            "90 (32, 150, 150, 3)\n",
            "91 (32, 150, 150, 3)\n"
          ],
          "name": "stdout"
        },
        {
          "output_type": "error",
          "ename": "KeyboardInterrupt",
          "evalue": "ignored",
          "traceback": [
            "\u001b[0;31m---------------------------------------------------------------------------\u001b[0m",
            "\u001b[0;31mKeyboardInterrupt\u001b[0m                         Traceback (most recent call last)",
            "\u001b[0;32m<ipython-input-21-16de38434abd>\u001b[0m in \u001b[0;36m<module>\u001b[0;34m()\u001b[0m\n\u001b[0;32m----> 1\u001b[0;31m \u001b[0;32mfor\u001b[0m \u001b[0midx\u001b[0m\u001b[0;34m,\u001b[0m \u001b[0mdata\u001b[0m \u001b[0;32min\u001b[0m \u001b[0menumerate\u001b[0m\u001b[0;34m(\u001b[0m\u001b[0mtrain_generator\u001b[0m\u001b[0;34m)\u001b[0m\u001b[0;34m:\u001b[0m\u001b[0;34m\u001b[0m\u001b[0;34m\u001b[0m\u001b[0m\n\u001b[0m\u001b[1;32m      2\u001b[0m   \u001b[0mprint\u001b[0m\u001b[0;34m(\u001b[0m\u001b[0midx\u001b[0m\u001b[0;34m,\u001b[0m \u001b[0mdata\u001b[0m\u001b[0;34m[\u001b[0m\u001b[0;36m0\u001b[0m\u001b[0;34m]\u001b[0m\u001b[0;34m.\u001b[0m\u001b[0mshape\u001b[0m\u001b[0;34m)\u001b[0m\u001b[0;34m\u001b[0m\u001b[0;34m\u001b[0m\u001b[0m\n\u001b[1;32m      3\u001b[0m \u001b[0;31m# 데이터 반환 후에도 계속 shuffle이 진행되면서 무한 루프를 돌게됨\u001b[0m\u001b[0;34m\u001b[0m\u001b[0;34m\u001b[0m\u001b[0;34m\u001b[0m\u001b[0m\n\u001b[1;32m      4\u001b[0m \u001b[0;31m# 최종 인덱스인 62를 넘어도 계속 진행된다. (이렇게 되면 epochs이 의미가 없어진다)\u001b[0m\u001b[0;34m\u001b[0m\u001b[0;34m\u001b[0m\u001b[0;34m\u001b[0m\u001b[0m\n\u001b[1;32m      5\u001b[0m \u001b[0;31m# 따라서 generator를 사용할 때 1step당 값을 지정을 해줘야한다.\u001b[0m\u001b[0;34m\u001b[0m\u001b[0;34m\u001b[0m\u001b[0;34m\u001b[0m\u001b[0m\n",
            "\u001b[0;32m/usr/local/lib/python3.7/dist-packages/keras_preprocessing/image/iterator.py\u001b[0m in \u001b[0;36m__next__\u001b[0;34m(self, *args, **kwargs)\u001b[0m\n\u001b[1;32m    102\u001b[0m \u001b[0;34m\u001b[0m\u001b[0m\n\u001b[1;32m    103\u001b[0m     \u001b[0;32mdef\u001b[0m \u001b[0m__next__\u001b[0m\u001b[0;34m(\u001b[0m\u001b[0mself\u001b[0m\u001b[0;34m,\u001b[0m \u001b[0;34m*\u001b[0m\u001b[0margs\u001b[0m\u001b[0;34m,\u001b[0m \u001b[0;34m**\u001b[0m\u001b[0mkwargs\u001b[0m\u001b[0;34m)\u001b[0m\u001b[0;34m:\u001b[0m\u001b[0;34m\u001b[0m\u001b[0;34m\u001b[0m\u001b[0m\n\u001b[0;32m--> 104\u001b[0;31m         \u001b[0;32mreturn\u001b[0m \u001b[0mself\u001b[0m\u001b[0;34m.\u001b[0m\u001b[0mnext\u001b[0m\u001b[0;34m(\u001b[0m\u001b[0;34m*\u001b[0m\u001b[0margs\u001b[0m\u001b[0;34m,\u001b[0m \u001b[0;34m**\u001b[0m\u001b[0mkwargs\u001b[0m\u001b[0;34m)\u001b[0m\u001b[0;34m\u001b[0m\u001b[0;34m\u001b[0m\u001b[0m\n\u001b[0m\u001b[1;32m    105\u001b[0m \u001b[0;34m\u001b[0m\u001b[0m\n\u001b[1;32m    106\u001b[0m     \u001b[0;32mdef\u001b[0m \u001b[0mnext\u001b[0m\u001b[0;34m(\u001b[0m\u001b[0mself\u001b[0m\u001b[0;34m)\u001b[0m\u001b[0;34m:\u001b[0m\u001b[0;34m\u001b[0m\u001b[0;34m\u001b[0m\u001b[0m\n",
            "\u001b[0;32m/usr/local/lib/python3.7/dist-packages/keras_preprocessing/image/iterator.py\u001b[0m in \u001b[0;36mnext\u001b[0;34m(self)\u001b[0m\n\u001b[1;32m    114\u001b[0m         \u001b[0;31m# The transformation of images is not under thread lock\u001b[0m\u001b[0;34m\u001b[0m\u001b[0;34m\u001b[0m\u001b[0;34m\u001b[0m\u001b[0m\n\u001b[1;32m    115\u001b[0m         \u001b[0;31m# so it can be done in parallel\u001b[0m\u001b[0;34m\u001b[0m\u001b[0;34m\u001b[0m\u001b[0;34m\u001b[0m\u001b[0m\n\u001b[0;32m--> 116\u001b[0;31m         \u001b[0;32mreturn\u001b[0m \u001b[0mself\u001b[0m\u001b[0;34m.\u001b[0m\u001b[0m_get_batches_of_transformed_samples\u001b[0m\u001b[0;34m(\u001b[0m\u001b[0mindex_array\u001b[0m\u001b[0;34m)\u001b[0m\u001b[0;34m\u001b[0m\u001b[0;34m\u001b[0m\u001b[0m\n\u001b[0m\u001b[1;32m    117\u001b[0m \u001b[0;34m\u001b[0m\u001b[0m\n\u001b[1;32m    118\u001b[0m     \u001b[0;32mdef\u001b[0m \u001b[0m_get_batches_of_transformed_samples\u001b[0m\u001b[0;34m(\u001b[0m\u001b[0mself\u001b[0m\u001b[0;34m,\u001b[0m \u001b[0mindex_array\u001b[0m\u001b[0;34m)\u001b[0m\u001b[0;34m:\u001b[0m\u001b[0;34m\u001b[0m\u001b[0;34m\u001b[0m\u001b[0m\n",
            "\u001b[0;32m/usr/local/lib/python3.7/dist-packages/keras_preprocessing/image/iterator.py\u001b[0m in \u001b[0;36m_get_batches_of_transformed_samples\u001b[0;34m(self, index_array)\u001b[0m\n\u001b[1;32m    228\u001b[0m                            \u001b[0mcolor_mode\u001b[0m\u001b[0;34m=\u001b[0m\u001b[0mself\u001b[0m\u001b[0;34m.\u001b[0m\u001b[0mcolor_mode\u001b[0m\u001b[0;34m,\u001b[0m\u001b[0;34m\u001b[0m\u001b[0;34m\u001b[0m\u001b[0m\n\u001b[1;32m    229\u001b[0m                            \u001b[0mtarget_size\u001b[0m\u001b[0;34m=\u001b[0m\u001b[0mself\u001b[0m\u001b[0;34m.\u001b[0m\u001b[0mtarget_size\u001b[0m\u001b[0;34m,\u001b[0m\u001b[0;34m\u001b[0m\u001b[0;34m\u001b[0m\u001b[0m\n\u001b[0;32m--> 230\u001b[0;31m                            interpolation=self.interpolation)\n\u001b[0m\u001b[1;32m    231\u001b[0m             \u001b[0mx\u001b[0m \u001b[0;34m=\u001b[0m \u001b[0mimg_to_array\u001b[0m\u001b[0;34m(\u001b[0m\u001b[0mimg\u001b[0m\u001b[0;34m,\u001b[0m \u001b[0mdata_format\u001b[0m\u001b[0;34m=\u001b[0m\u001b[0mself\u001b[0m\u001b[0;34m.\u001b[0m\u001b[0mdata_format\u001b[0m\u001b[0;34m)\u001b[0m\u001b[0;34m\u001b[0m\u001b[0;34m\u001b[0m\u001b[0m\n\u001b[1;32m    232\u001b[0m             \u001b[0;31m# Pillow images should be closed after `load_img`,\u001b[0m\u001b[0;34m\u001b[0m\u001b[0;34m\u001b[0m\u001b[0;34m\u001b[0m\u001b[0m\n",
            "\u001b[0;32m/usr/local/lib/python3.7/dist-packages/keras_preprocessing/image/utils.py\u001b[0m in \u001b[0;36mload_img\u001b[0;34m(path, grayscale, color_mode, target_size, interpolation)\u001b[0m\n\u001b[1;32m    136\u001b[0m                             \", \".join(_PIL_INTERPOLATION_METHODS.keys())))\n\u001b[1;32m    137\u001b[0m                 \u001b[0mresample\u001b[0m \u001b[0;34m=\u001b[0m \u001b[0m_PIL_INTERPOLATION_METHODS\u001b[0m\u001b[0;34m[\u001b[0m\u001b[0minterpolation\u001b[0m\u001b[0;34m]\u001b[0m\u001b[0;34m\u001b[0m\u001b[0;34m\u001b[0m\u001b[0m\n\u001b[0;32m--> 138\u001b[0;31m                 \u001b[0mimg\u001b[0m \u001b[0;34m=\u001b[0m \u001b[0mimg\u001b[0m\u001b[0;34m.\u001b[0m\u001b[0mresize\u001b[0m\u001b[0;34m(\u001b[0m\u001b[0mwidth_height_tuple\u001b[0m\u001b[0;34m,\u001b[0m \u001b[0mresample\u001b[0m\u001b[0;34m)\u001b[0m\u001b[0;34m\u001b[0m\u001b[0;34m\u001b[0m\u001b[0m\n\u001b[0m\u001b[1;32m    139\u001b[0m         \u001b[0;32mreturn\u001b[0m \u001b[0mimg\u001b[0m\u001b[0;34m\u001b[0m\u001b[0;34m\u001b[0m\u001b[0m\n\u001b[1;32m    140\u001b[0m \u001b[0;34m\u001b[0m\u001b[0m\n",
            "\u001b[0;32m/usr/local/lib/python3.7/dist-packages/PIL/Image.py\u001b[0m in \u001b[0;36mresize\u001b[0;34m(self, size, resample, box, reducing_gap)\u001b[0m\n\u001b[1;32m   1903\u001b[0m                 )\n\u001b[1;32m   1904\u001b[0m \u001b[0;34m\u001b[0m\u001b[0m\n\u001b[0;32m-> 1905\u001b[0;31m         \u001b[0;32mreturn\u001b[0m \u001b[0mself\u001b[0m\u001b[0;34m.\u001b[0m\u001b[0m_new\u001b[0m\u001b[0;34m(\u001b[0m\u001b[0mself\u001b[0m\u001b[0;34m.\u001b[0m\u001b[0mim\u001b[0m\u001b[0;34m.\u001b[0m\u001b[0mresize\u001b[0m\u001b[0;34m(\u001b[0m\u001b[0msize\u001b[0m\u001b[0;34m,\u001b[0m \u001b[0mresample\u001b[0m\u001b[0;34m,\u001b[0m \u001b[0mbox\u001b[0m\u001b[0;34m)\u001b[0m\u001b[0;34m)\u001b[0m\u001b[0;34m\u001b[0m\u001b[0;34m\u001b[0m\u001b[0m\n\u001b[0m\u001b[1;32m   1906\u001b[0m \u001b[0;34m\u001b[0m\u001b[0m\n\u001b[1;32m   1907\u001b[0m     \u001b[0;32mdef\u001b[0m \u001b[0mreduce\u001b[0m\u001b[0;34m(\u001b[0m\u001b[0mself\u001b[0m\u001b[0;34m,\u001b[0m \u001b[0mfactor\u001b[0m\u001b[0;34m,\u001b[0m \u001b[0mbox\u001b[0m\u001b[0;34m=\u001b[0m\u001b[0;32mNone\u001b[0m\u001b[0;34m)\u001b[0m\u001b[0;34m:\u001b[0m\u001b[0;34m\u001b[0m\u001b[0;34m\u001b[0m\u001b[0m\n",
            "\u001b[0;31mKeyboardInterrupt\u001b[0m: "
          ]
        }
      ]
    }
  ]
}
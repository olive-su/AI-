{
  "nbformat": 4,
  "nbformat_minor": 0,
  "metadata": {
    "kernelspec": {
      "name": "python3",
      "display_name": "Python 3"
    },
    "language_info": {
      "codemirror_mode": {
        "name": "ipython",
        "version": 3
      },
      "file_extension": ".py",
      "mimetype": "text/x-python",
      "name": "python",
      "nbconvert_exporter": "python",
      "pygments_lexer": "ipython3",
      "version": "3.6.6"
    },
    "colab": {
      "name": "적층 LSTM+Embedding 모델을 이용한 IMDB 영화리뷰 분류 분석_실습.ipynb",
      "provenance": [],
      "collapsed_sections": [],
      "include_colab_link": true
    },
    "accelerator": "GPU"
  },
  "cells": [
    {
      "cell_type": "markdown",
      "metadata": {
        "id": "view-in-github",
        "colab_type": "text"
      },
      "source": [
        "<a href=\"https://colab.research.google.com/github/olive-su/AI_codepresso/blob/master/%EC%A0%81%EC%B8%B5_LSTM%2BEmbedding_%EB%AA%A8%EB%8D%B8%EC%9D%84_%EC%9D%B4%EC%9A%A9%ED%95%9C_IMDB_%EC%98%81%ED%99%94%EB%A6%AC%EB%B7%B0_%EB%B6%84%EB%A5%98_%EB%B6%84%EC%84%9D_%EC%8B%A4%EC%8A%B5.ipynb\" target=\"_parent\"><img src=\"https://colab.research.google.com/assets/colab-badge.svg\" alt=\"Open In Colab\"/></a>"
      ]
    },
    {
      "cell_type": "markdown",
      "metadata": {
        "id": "hiwEVOV3G3dF"
      },
      "source": [
        "## 적층 LSTM 모델을 이용한 영화리뷰 분류 분석"
      ]
    },
    {
      "cell_type": "code",
      "metadata": {
        "id": "73nNmH04Ag7D"
      },
      "source": [
        "import matplotlib.pyplot as plt\n",
        "\n",
        "import tensorflow as tf\n",
        "from tensorflow.keras.datasets import imdb"
      ],
      "execution_count": null,
      "outputs": []
    },
    {
      "cell_type": "markdown",
      "metadata": {
        "id": "jJGbMTr8Ag7R"
      },
      "source": [
        "### Step 1-1. Input tensor 와 Target tensor 준비(훈련데이터)\n",
        "* IMDB 영화 리뷰 데이터 down"
      ]
    },
    {
      "cell_type": "code",
      "metadata": {
        "id": "73MqaPo_Ag7R",
        "colab": {
          "base_uri": "https://localhost:8080/"
        },
        "outputId": "9984646d-497f-42b6-cbb0-ec7c149b4e1d"
      },
      "source": [
        "(input_train, y_train), (input_test, y_test) = imdb.load_data(num_words=10000)"
      ],
      "execution_count": null,
      "outputs": [
        {
          "output_type": "stream",
          "text": [
            "Downloading data from https://storage.googleapis.com/tensorflow/tf-keras-datasets/imdb.npz\n",
            "17465344/17464789 [==============================] - 0s 0us/step\n"
          ],
          "name": "stdout"
        },
        {
          "output_type": "stream",
          "text": [
            "<string>:6: VisibleDeprecationWarning: Creating an ndarray from ragged nested sequences (which is a list-or-tuple of lists-or-tuples-or ndarrays with different lengths or shapes) is deprecated. If you meant to do this, you must specify 'dtype=object' when creating the ndarray\n",
            "/usr/local/lib/python3.7/dist-packages/tensorflow/python/keras/datasets/imdb.py:155: VisibleDeprecationWarning: Creating an ndarray from ragged nested sequences (which is a list-or-tuple of lists-or-tuples-or ndarrays with different lengths or shapes) is deprecated. If you meant to do this, you must specify 'dtype=object' when creating the ndarray\n",
            "  x_train, y_train = np.array(xs[:idx]), np.array(labels[:idx])\n",
            "/usr/local/lib/python3.7/dist-packages/tensorflow/python/keras/datasets/imdb.py:156: VisibleDeprecationWarning: Creating an ndarray from ragged nested sequences (which is a list-or-tuple of lists-or-tuples-or ndarrays with different lengths or shapes) is deprecated. If you meant to do this, you must specify 'dtype=object' when creating the ndarray\n",
            "  x_test, y_test = np.array(xs[idx:]), np.array(labels[idx:])\n"
          ],
          "name": "stderr"
        }
      ]
    },
    {
      "cell_type": "markdown",
      "metadata": {
        "id": "jFdUAnJlLTvK"
      },
      "source": [
        "### Step 1-2. 입력 데이터의 전처리 \n",
        "* LSTM 모델에 데이터를 입력하기 위해 시퀀스 데이터의 길이를 통일"
      ]
    },
    {
      "cell_type": "code",
      "metadata": {
        "id": "37iQ2jnz7oD4"
      },
      "source": [
        "from tensorflow.keras.preprocessing import sequence"
      ],
      "execution_count": null,
      "outputs": []
    },
    {
      "cell_type": "code",
      "metadata": {
        "id": "UvoXgzITArVM"
      },
      "source": [
        "input_train = sequence.pad_sequences(input_train, 800)\n",
        "input_test = sequence.pad_sequences(input_test, 800)"
      ],
      "execution_count": null,
      "outputs": []
    },
    {
      "cell_type": "code",
      "metadata": {
        "id": "7cD70xDWIQya",
        "colab": {
          "base_uri": "https://localhost:8080/"
        },
        "outputId": "2f175911-5fb0-43da-d6a0-2c61b902cb54"
      },
      "source": [
        "input_train.shape, input_test.shape"
      ],
      "execution_count": null,
      "outputs": [
        {
          "output_type": "execute_result",
          "data": {
            "text/plain": [
              "((25000, 800), (25000, 800))"
            ]
          },
          "metadata": {
            "tags": []
          },
          "execution_count": 12
        }
      ]
    },
    {
      "cell_type": "markdown",
      "metadata": {
        "id": "HlYZ5ncTs8LP"
      },
      "source": [
        "### Step2. 적층 LSTM 모델 디자인"
      ]
    },
    {
      "cell_type": "code",
      "metadata": {
        "id": "5VYZ7LeX7ym3"
      },
      "source": [
        "from tensorflow.keras import models, layers"
      ],
      "execution_count": null,
      "outputs": []
    },
    {
      "cell_type": "code",
      "metadata": {
        "id": "jvn46OSnSXj6"
      },
      "source": [
        "model = models.Sequential()"
      ],
      "execution_count": null,
      "outputs": []
    },
    {
      "cell_type": "code",
      "metadata": {
        "id": "t2zMhzYbm_M2"
      },
      "source": [
        "# embedding layer: 32차원\n",
        "# hidden layer : LSTM 2개[32, 16]\n",
        "# dropout rate : 0.5\n",
        "# output layer\n",
        "model.add(layers.Embedding(input_dim=10000,\n",
        "                           output_dim=32,\n",
        "                           input_length=800))\n",
        "model.add(layers.LSTM(units=32, return_sequences=True))\n",
        "model.add(layers.GRU(units=16))\n",
        "model.add(layers.Dropout(0.5))\n",
        "model.add(layers.Dense(units=1, activation='sigmoid'))"
      ],
      "execution_count": null,
      "outputs": []
    },
    {
      "cell_type": "code",
      "metadata": {
        "id": "92GAoFNvtCn_",
        "colab": {
          "base_uri": "https://localhost:8080/"
        },
        "outputId": "5c48700a-a8f4-447c-ae1c-6c1cd34aa7fc"
      },
      "source": [
        "model.summary()"
      ],
      "execution_count": null,
      "outputs": [
        {
          "output_type": "stream",
          "text": [
            "Model: \"sequential_2\"\n",
            "_________________________________________________________________\n",
            "Layer (type)                 Output Shape              Param #   \n",
            "=================================================================\n",
            "embedding_3 (Embedding)      (None, 800, 32)           320000    \n",
            "_________________________________________________________________\n",
            "lstm_3 (LSTM)                (None, 800, 32)           8320      \n",
            "_________________________________________________________________\n",
            "gru (GRU)                    (None, 16)                2400      \n",
            "_________________________________________________________________\n",
            "dropout (Dropout)            (None, 16)                0         \n",
            "_________________________________________________________________\n",
            "dense (Dense)                (None, 1)                 17        \n",
            "=================================================================\n",
            "Total params: 330,737\n",
            "Trainable params: 330,737\n",
            "Non-trainable params: 0\n",
            "_________________________________________________________________\n"
          ],
          "name": "stdout"
        }
      ]
    },
    {
      "cell_type": "code",
      "metadata": {
        "id": "8gPQf_OStIkq"
      },
      "source": [
        "# loss : binary crossentropy/ optimizer : rmsprop/ metric : accuracy\n",
        "model.compile(loss='binary_crossentropy',\n",
        "              optimizer='rmsprop',\n",
        "              metrics=['accuracy'])"
      ],
      "execution_count": null,
      "outputs": []
    },
    {
      "cell_type": "code",
      "metadata": {
        "id": "s0eZdMMXtLu4",
        "colab": {
          "base_uri": "https://localhost:8080/"
        },
        "outputId": "9f5478ca-6f61-4df4-e98b-9a089570c4ff"
      },
      "source": [
        "# batch size : 128, epochs : 10, validation data set percent : 20%\n",
        "# batch size : 128, epochs : 10, validation data set percent : 20%\n",
        "history = model.fit(\n",
        "    x=input_train, y=y_train,\n",
        "    batch_size=128,\n",
        "    epochs=10,\n",
        "    validation_split=0.2\n",
        ")"
      ],
      "execution_count": null,
      "outputs": [
        {
          "output_type": "stream",
          "text": [
            "Epoch 1/10\n",
            "157/157 [==============================] - 18s 73ms/step - loss: 0.5147 - accuracy: 0.7413 - val_loss: 0.3424 - val_accuracy: 0.8612\n",
            "Epoch 2/10\n",
            "157/157 [==============================] - 11s 70ms/step - loss: 0.2969 - accuracy: 0.8876 - val_loss: 0.5258 - val_accuracy: 0.8078\n",
            "Epoch 3/10\n",
            "157/157 [==============================] - 11s 70ms/step - loss: 0.2414 - accuracy: 0.9148 - val_loss: 0.7521 - val_accuracy: 0.7280\n",
            "Epoch 4/10\n",
            "157/157 [==============================] - 11s 70ms/step - loss: 0.2028 - accuracy: 0.9277 - val_loss: 0.3740 - val_accuracy: 0.8536\n",
            "Epoch 5/10\n",
            "157/157 [==============================] - 11s 72ms/step - loss: 0.1732 - accuracy: 0.9380 - val_loss: 0.3131 - val_accuracy: 0.8870\n",
            "Epoch 6/10\n",
            "157/157 [==============================] - 11s 71ms/step - loss: 0.1681 - accuracy: 0.9464 - val_loss: 0.3077 - val_accuracy: 0.8880\n",
            "Epoch 7/10\n",
            "157/157 [==============================] - 11s 70ms/step - loss: 0.1387 - accuracy: 0.9556 - val_loss: 0.3364 - val_accuracy: 0.8794\n",
            "Epoch 8/10\n",
            "157/157 [==============================] - 11s 71ms/step - loss: 0.1177 - accuracy: 0.9628 - val_loss: 0.3625 - val_accuracy: 0.8784\n",
            "Epoch 9/10\n",
            "157/157 [==============================] - 11s 70ms/step - loss: 0.1049 - accuracy: 0.9671 - val_loss: 0.4565 - val_accuracy: 0.8854\n",
            "Epoch 10/10\n",
            "157/157 [==============================] - 11s 71ms/step - loss: 0.0933 - accuracy: 0.9703 - val_loss: 0.4334 - val_accuracy: 0.8830\n"
          ],
          "name": "stdout"
        }
      ]
    },
    {
      "cell_type": "code",
      "metadata": {
        "id": "c36CUjVGtOOQ"
      },
      "source": [
        "# 학습과정 시각화를 위한 정보 추출\n",
        "acc = history.history['accuracy']\n",
        "val_acc = history.history['val_accuracy']\n",
        "loss = history.history['loss']\n",
        "val_loss = history.history['val_loss']\n",
        "\n",
        "epochs = range(1, len(acc) + 1)"
      ],
      "execution_count": null,
      "outputs": []
    },
    {
      "cell_type": "code",
      "metadata": {
        "id": "plOhTdYctSKC",
        "colab": {
          "base_uri": "https://localhost:8080/",
          "height": 281
        },
        "outputId": "354da118-9294-4d11-9055-c5d9349702ae"
      },
      "source": [
        "# 정합도 정보 시각화\n",
        "plt.plot(epochs, acc, label='Training acc')\n",
        "plt.plot(epochs, val_acc, label='Validation acc')\n",
        "plt.title('Training and validation accuracy')\n",
        "plt.legend()\n",
        "plt.show()"
      ],
      "execution_count": null,
      "outputs": [
        {
          "output_type": "display_data",
          "data": {
            "image/png": "[encoded data removed]",
            "text/plain": [
              "<Figure size 432x288 with 1 Axes>"
            ]
          },
          "metadata": {
            "tags": [],
            "needs_background": "light"
          }
        }
      ]
    },
    {
      "cell_type": "code",
      "metadata": {
        "id": "5EUQzV1GtV7H",
        "colab": {
          "base_uri": "https://localhost:8080/",
          "height": 281
        },
        "outputId": "bdd1d4fd-1111-488d-edc5-61de2286aaa6"
      },
      "source": [
        "# loss 정보 시각화\n",
        "plt.plot(epochs, loss, label='Training loss')\n",
        "plt.plot(epochs, val_loss, label='Validation loss')\n",
        "plt.title('Training and validation loss')\n",
        "plt.legend()\n",
        "\n",
        "plt.show()"
      ],
      "execution_count": null,
      "outputs": [
        {
          "output_type": "display_data",
          "data": {
            "image/png": "[encoded data removed]",
            "text/plain": [
              "<Figure size 432x288 with 1 Axes>"
            ]
          },
          "metadata": {
            "tags": [],
            "needs_background": "light"
          }
        }
      ]
    },
    {
      "cell_type": "code",
      "metadata": {
        "id": "1dIM7a4mtYkX",
        "colab": {
          "base_uri": "https://localhost:8080/"
        },
        "outputId": "fadb2e66-3fdb-4d89-aeb6-2e6286f5900e"
      },
      "source": [
        "# 테스트 데이터 셋을 통한 성능 측정\n",
        "loss, acc = model.evaluate(x=input_test, y = y_test)"
      ],
      "execution_count": null,
      "outputs": [
        {
          "output_type": "stream",
          "text": [
            "782/782 [==============================] - 18s 23ms/step - loss: 0.4905 - accuracy: 0.8666\n"
          ],
          "name": "stdout"
        }
      ]
    },
    {
      "cell_type": "code",
      "metadata": {
        "id": "HdN3b3D1UWH0"
      },
      "source": [
        ""
      ],
      "execution_count": null,
      "outputs": []
    }
  ]
}
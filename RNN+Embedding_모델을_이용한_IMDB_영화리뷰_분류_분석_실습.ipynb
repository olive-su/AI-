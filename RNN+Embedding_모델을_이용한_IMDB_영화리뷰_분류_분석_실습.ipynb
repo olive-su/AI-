{
  "nbformat": 4,
  "nbformat_minor": 0,
  "metadata": {
    "kernelspec": {
      "name": "python3",
      "display_name": "Python 3"
    },
    "language_info": {
      "codemirror_mode": {
        "name": "ipython",
        "version": 3
      },
      "file_extension": ".py",
      "mimetype": "text/x-python",
      "name": "python",
      "nbconvert_exporter": "python",
      "pygments_lexer": "ipython3",
      "version": "3.6.6"
    },
    "colab": {
      "name": "RNN+Embedding 모델을 이용한 IMDB 영화리뷰 분류 분석_실습.ipynb",
      "provenance": [],
      "collapsed_sections": [],
      "include_colab_link": true
    }
  },
  "cells": [
    {
      "cell_type": "markdown",
      "metadata": {
        "id": "view-in-github",
        "colab_type": "text"
      },
      "source": [
        "<a href=\"https://colab.research.google.com/github/olive-su/AI_codepresso/blob/master/RNN%2BEmbedding_%EB%AA%A8%EB%8D%B8%EC%9D%84_%EC%9D%B4%EC%9A%A9%ED%95%9C_IMDB_%EC%98%81%ED%99%94%EB%A6%AC%EB%B7%B0_%EB%B6%84%EB%A5%98_%EB%B6%84%EC%84%9D_%EC%8B%A4%EC%8A%B5.ipynb\" target=\"_parent\"><img src=\"https://colab.research.google.com/assets/colab-badge.svg\" alt=\"Open In Colab\"/></a>"
      ]
    },
    {
      "cell_type": "markdown",
      "metadata": {
        "id": "hiwEVOV3G3dF"
      },
      "source": [
        "## RNN 모델을 이용한 영화리뷰 분류 분석"
      ]
    },
    {
      "cell_type": "code",
      "metadata": {
        "id": "73nNmH04Ag7D"
      },
      "source": [
        "import matplotlib.pyplot as plt\n",
        "\n",
        "import tensorflow as tf\n",
        "from tensorflow.keras.datasets import imdb"
      ],
      "execution_count": null,
      "outputs": []
    },
    {
      "cell_type": "markdown",
      "metadata": {
        "id": "jJGbMTr8Ag7R"
      },
      "source": [
        "### Step 1-1. Input tensor 와 Target tensor 준비(훈련데이터)\n",
        "* IMDB 영화 리뷰 데이터 down"
      ]
    },
    {
      "cell_type": "code",
      "metadata": {
        "id": "73MqaPo_Ag7R",
        "colab": {
          "base_uri": "https://localhost:8080/"
        },
        "outputId": "45e06ab4-9f90-492d-c80d-8e3fccf0dff1"
      },
      "source": [
        "(train_x, train_y), (test_x, test_y) = imdb.load_data(num_words=10000)"
      ],
      "execution_count": null,
      "outputs": [
        {
          "output_type": "stream",
          "text": [
            "Downloading data from https://storage.googleapis.com/tensorflow/tf-keras-datasets/imdb.npz\n",
            "17465344/17464789 [==============================] - 0s 0us/step\n"
          ],
          "name": "stdout"
        },
        {
          "output_type": "stream",
          "text": [
            "<string>:6: VisibleDeprecationWarning: Creating an ndarray from ragged nested sequences (which is a list-or-tuple of lists-or-tuples-or ndarrays with different lengths or shapes) is deprecated. If you meant to do this, you must specify 'dtype=object' when creating the ndarray\n",
            "/usr/local/lib/python3.7/dist-packages/tensorflow/python/keras/datasets/imdb.py:155: VisibleDeprecationWarning: Creating an ndarray from ragged nested sequences (which is a list-or-tuple of lists-or-tuples-or ndarrays with different lengths or shapes) is deprecated. If you meant to do this, you must specify 'dtype=object' when creating the ndarray\n",
            "  x_train, y_train = np.array(xs[:idx]), np.array(labels[:idx])\n",
            "/usr/local/lib/python3.7/dist-packages/tensorflow/python/keras/datasets/imdb.py:156: VisibleDeprecationWarning: Creating an ndarray from ragged nested sequences (which is a list-or-tuple of lists-or-tuples-or ndarrays with different lengths or shapes) is deprecated. If you meant to do this, you must specify 'dtype=object' when creating the ndarray\n",
            "  x_test, y_test = np.array(xs[idx:]), np.array(labels[idx:])\n"
          ],
          "name": "stderr"
        }
      ]
    },
    {
      "cell_type": "code",
      "metadata": {
        "id": "H8qAAYUUHzzr",
        "colab": {
          "base_uri": "https://localhost:8080/"
        },
        "outputId": "b7dac660-b026-4018-c14c-c964794c04ef"
      },
      "source": [
        "print(train_x[0])"
      ],
      "execution_count": null,
      "outputs": [
        {
          "output_type": "stream",
          "text": [
            "[1, 14, 22, 16, 43, 530, 973, 1622, 1385, 65, 458, 4468, 66, 3941, 4, 173, 36, 256, 5, 25, 100, 43, 838, 112, 50, 670, 2, 9, 35, 480, 284, 5, 150, 4, 172, 112, 167, 2, 336, 385, 39, 4, 172, 4536, 1111, 17, 546, 38, 13, 447, 4, 192, 50, 16, 6, 147, 2025, 19, 14, 22, 4, 1920, 4613, 469, 4, 22, 71, 87, 12, 16, 43, 530, 38, 76, 15, 13, 1247, 4, 22, 17, 515, 17, 12, 16, 626, 18, 2, 5, 62, 386, 12, 8, 316, 8, 106, 5, 4, 2223, 5244, 16, 480, 66, 3785, 33, 4, 130, 12, 16, 38, 619, 5, 25, 124, 51, 36, 135, 48, 25, 1415, 33, 6, 22, 12, 215, 28, 77, 52, 5, 14, 407, 16, 82, 2, 8, 4, 107, 117, 5952, 15, 256, 4, 2, 7, 3766, 5, 723, 36, 71, 43, 530, 476, 26, 400, 317, 46, 7, 4, 2, 1029, 13, 104, 88, 4, 381, 15, 297, 98, 32, 2071, 56, 26, 141, 6, 194, 7486, 18, 4, 226, 22, 21, 134, 476, 26, 480, 5, 144, 30, 5535, 18, 51, 36, 28, 224, 92, 25, 104, 4, 226, 65, 16, 38, 1334, 88, 12, 16, 283, 5, 16, 4472, 113, 103, 32, 15, 16, 5345, 19, 178, 32]\n"
          ],
          "name": "stdout"
        }
      ]
    },
    {
      "cell_type": "code",
      "metadata": {
        "id": "y0jubVnBID0R",
        "colab": {
          "base_uri": "https://localhost:8080/"
        },
        "outputId": "5369bf12-cfe2-4cea-a2e9-f39fc5c9486a"
      },
      "source": [
        "word_idx = imdb.get_word_index()"
      ],
      "execution_count": null,
      "outputs": [
        {
          "output_type": "stream",
          "text": [
            "Downloading data from https://storage.googleapis.com/tensorflow/tf-keras-datasets/imdb_word_index.json\n",
            "1646592/1641221 [==============================] - 0s 0us/step\n"
          ],
          "name": "stdout"
        }
      ]
    },
    {
      "cell_type": "code",
      "metadata": {
        "id": "E7abKkNIptAX"
      },
      "source": [
        "idx_word = {idx+3 : word  for word, idx in word_idx.items()}"
      ],
      "execution_count": null,
      "outputs": []
    },
    {
      "cell_type": "code",
      "metadata": {
        "id": "QBsR_L6Dp2OU"
      },
      "source": [
        "idx_word[0] = '<pad>'\n",
        "idx_word[1] = '<sos>'\n",
        "idx_word[2] =  '<unk>'"
      ],
      "execution_count": null,
      "outputs": []
    },
    {
      "cell_type": "code",
      "metadata": {
        "id": "QrTVRfRjrmOy"
      },
      "source": [
        "tokens = [idx_word[idx] for idx in train_x[0]]"
      ],
      "execution_count": null,
      "outputs": []
    },
    {
      "cell_type": "code",
      "metadata": {
        "id": "Q9bDiNg8qFSv",
        "colab": {
          "base_uri": "https://localhost:8080/"
        },
        "outputId": "709a38f9-2d81-43da-e68f-d7ddb3f02de8"
      },
      "source": [
        "print(tokens)"
      ],
      "execution_count": null,
      "outputs": [
        {
          "output_type": "stream",
          "text": [
            "['<sos>', 'this', 'film', 'was', 'just', 'brilliant', 'casting', 'location', 'scenery', 'story', 'direction', \"everyone's\", 'really', 'suited', 'the', 'part', 'they', 'played', 'and', 'you', 'could', 'just', 'imagine', 'being', 'there', 'robert', '<unk>', 'is', 'an', 'amazing', 'actor', 'and', 'now', 'the', 'same', 'being', 'director', '<unk>', 'father', 'came', 'from', 'the', 'same', 'scottish', 'island', 'as', 'myself', 'so', 'i', 'loved', 'the', 'fact', 'there', 'was', 'a', 'real', 'connection', 'with', 'this', 'film', 'the', 'witty', 'remarks', 'throughout', 'the', 'film', 'were', 'great', 'it', 'was', 'just', 'brilliant', 'so', 'much', 'that', 'i', 'bought', 'the', 'film', 'as', 'soon', 'as', 'it', 'was', 'released', 'for', '<unk>', 'and', 'would', 'recommend', 'it', 'to', 'everyone', 'to', 'watch', 'and', 'the', 'fly', 'fishing', 'was', 'amazing', 'really', 'cried', 'at', 'the', 'end', 'it', 'was', 'so', 'sad', 'and', 'you', 'know', 'what', 'they', 'say', 'if', 'you', 'cry', 'at', 'a', 'film', 'it', 'must', 'have', 'been', 'good', 'and', 'this', 'definitely', 'was', 'also', '<unk>', 'to', 'the', 'two', 'little', \"boy's\", 'that', 'played', 'the', '<unk>', 'of', 'norman', 'and', 'paul', 'they', 'were', 'just', 'brilliant', 'children', 'are', 'often', 'left', 'out', 'of', 'the', '<unk>', 'list', 'i', 'think', 'because', 'the', 'stars', 'that', 'play', 'them', 'all', 'grown', 'up', 'are', 'such', 'a', 'big', 'profile', 'for', 'the', 'whole', 'film', 'but', 'these', 'children', 'are', 'amazing', 'and', 'should', 'be', 'praised', 'for', 'what', 'they', 'have', 'done', \"don't\", 'you', 'think', 'the', 'whole', 'story', 'was', 'so', 'lovely', 'because', 'it', 'was', 'true', 'and', 'was', \"someone's\", 'life', 'after', 'all', 'that', 'was', 'shared', 'with', 'us', 'all']\n"
          ],
          "name": "stdout"
        }
      ]
    },
    {
      "cell_type": "markdown",
      "metadata": {
        "id": "jFdUAnJlLTvK"
      },
      "source": [
        "### Step 1-2. 입력 데이터의 전처리 \n",
        "* RNN 모델에 데이터를 입력하기 위해 시퀀스 데이터의 길이를 통일"
      ]
    },
    {
      "cell_type": "code",
      "metadata": {
        "id": "hHu_Kj0LpkfT"
      },
      "source": [
        "from tensorflow.keras.preprocessing.sequence import pad_sequences"
      ],
      "execution_count": null,
      "outputs": []
    },
    {
      "cell_type": "code",
      "metadata": {
        "id": "UvoXgzITArVM"
      },
      "source": [
        "train_x = pad_sequences(train_x, maxlen=800)\n",
        "test_x = pad_sequences(test_x, maxlen=800)"
      ],
      "execution_count": null,
      "outputs": []
    },
    {
      "cell_type": "code",
      "metadata": {
        "id": "7cD70xDWIQya",
        "colab": {
          "base_uri": "https://localhost:8080/"
        },
        "outputId": "2b85fe60-cbc2-44e7-d7cb-bb326f796e36"
      },
      "source": [
        "train_x.shape, test_x.shape"
      ],
      "execution_count": null,
      "outputs": [
        {
          "output_type": "execute_result",
          "data": {
            "text/plain": [
              "((25000, 800), (25000, 800))"
            ]
          },
          "metadata": {
            "tags": []
          },
          "execution_count": 20
        }
      ]
    },
    {
      "cell_type": "code",
      "metadata": {
        "id": "17Tsm7tfCn_q",
        "colab": {
          "base_uri": "https://localhost:8080/"
        },
        "outputId": "551ccea4-6e9e-4200-a66f-cf3e0e821f58"
      },
      "source": [
        "train_x[0]"
      ],
      "execution_count": null,
      "outputs": [
        {
          "output_type": "execute_result",
          "data": {
            "text/plain": [
              "array([   0,    0,    0,    0,    0,    0,    0,    0,    0,    0,    0,\n",
              "          0,    0,    0,    0,    0,    0,    0,    0,    0,    0,    0,\n",
              "          0,    0,    0,    0,    0,    0,    0,    0,    0,    0,    0,\n",
              "          0,    0,    0,    0,    0,    0,    0,    0,    0,    0,    0,\n",
              "          0,    0,    0,    0,    0,    0,    0,    0,    0,    0,    0,\n",
              "          0,    0,    0,    0,    0,    0,    0,    0,    0,    0,    0,\n",
              "          0,    0,    0,    0,    0,    0,    0,    0,    0,    0,    0,\n",
              "          0,    0,    0,    0,    0,    0,    0,    0,    0,    0,    0,\n",
              "          0,    0,    0,    0,    0,    0,    0,    0,    0,    0,    0,\n",
              "          0,    0,    0,    0,    0,    0,    0,    0,    0,    0,    0,\n",
              "          0,    0,    0,    0,    0,    0,    0,    0,    0,    0,    0,\n",
              "          0,    0,    0,    0,    0,    0,    0,    0,    0,    0,    0,\n",
              "          0,    0,    0,    0,    0,    0,    0,    0,    0,    0,    0,\n",
              "          0,    0,    0,    0,    0,    0,    0,    0,    0,    0,    0,\n",
              "          0,    0,    0,    0,    0,    0,    0,    0,    0,    0,    0,\n",
              "          0,    0,    0,    0,    0,    0,    0,    0,    0,    0,    0,\n",
              "          0,    0,    0,    0,    0,    0,    0,    0,    0,    0,    0,\n",
              "          0,    0,    0,    0,    0,    0,    0,    0,    0,    0,    0,\n",
              "          0,    0,    0,    0,    0,    0,    0,    0,    0,    0,    0,\n",
              "          0,    0,    0,    0,    0,    0,    0,    0,    0,    0,    0,\n",
              "          0,    0,    0,    0,    0,    0,    0,    0,    0,    0,    0,\n",
              "          0,    0,    0,    0,    0,    0,    0,    0,    0,    0,    0,\n",
              "          0,    0,    0,    0,    0,    0,    0,    0,    0,    0,    0,\n",
              "          0,    0,    0,    0,    0,    0,    0,    0,    0,    0,    0,\n",
              "          0,    0,    0,    0,    0,    0,    0,    0,    0,    0,    0,\n",
              "          0,    0,    0,    0,    0,    0,    0,    0,    0,    0,    0,\n",
              "          0,    0,    0,    0,    0,    0,    0,    0,    0,    0,    0,\n",
              "          0,    0,    0,    0,    0,    0,    0,    0,    0,    0,    0,\n",
              "          0,    0,    0,    0,    0,    0,    0,    0,    0,    0,    0,\n",
              "          0,    0,    0,    0,    0,    0,    0,    0,    0,    0,    0,\n",
              "          0,    0,    0,    0,    0,    0,    0,    0,    0,    0,    0,\n",
              "          0,    0,    0,    0,    0,    0,    0,    0,    0,    0,    0,\n",
              "          0,    0,    0,    0,    0,    0,    0,    0,    0,    0,    0,\n",
              "          0,    0,    0,    0,    0,    0,    0,    0,    0,    0,    0,\n",
              "          0,    0,    0,    0,    0,    0,    0,    0,    0,    0,    0,\n",
              "          0,    0,    0,    0,    0,    0,    0,    0,    0,    0,    0,\n",
              "          0,    0,    0,    0,    0,    0,    0,    0,    0,    0,    0,\n",
              "          0,    0,    0,    0,    0,    0,    0,    0,    0,    0,    0,\n",
              "          0,    0,    0,    0,    0,    0,    0,    0,    0,    0,    0,\n",
              "          0,    0,    0,    0,    0,    0,    0,    0,    0,    0,    0,\n",
              "          0,    0,    0,    0,    0,    0,    0,    0,    0,    0,    0,\n",
              "          0,    0,    0,    0,    0,    0,    0,    0,    0,    0,    0,\n",
              "          0,    0,    0,    0,    0,    0,    0,    0,    0,    0,    0,\n",
              "          0,    0,    0,    0,    0,    0,    0,    0,    0,    0,    0,\n",
              "          0,    0,    0,    0,    0,    0,    0,    0,    0,    0,    0,\n",
              "          0,    0,    0,    0,    0,    0,    0,    0,    0,    0,    0,\n",
              "          0,    0,    0,    0,    0,    0,    0,    0,    0,    0,    0,\n",
              "          0,    0,    0,    0,    0,    0,    0,    0,    0,    0,    0,\n",
              "          0,    0,    0,    0,    0,    0,    0,    0,    0,    0,    0,\n",
              "          0,    0,    0,    0,    0,    0,    0,    0,    0,    0,    0,\n",
              "          0,    0,    0,    0,    0,    0,    0,    0,    0,    0,    0,\n",
              "          0,    0,    0,    0,    0,    0,    0,    0,    0,    0,    0,\n",
              "          0,    0,    0,    0,    0,    0,    0,    0,    0,    0,    1,\n",
              "         14,   22,   16,   43,  530,  973, 1622, 1385,   65,  458, 4468,\n",
              "         66, 3941,    4,  173,   36,  256,    5,   25,  100,   43,  838,\n",
              "        112,   50,  670,    2,    9,   35,  480,  284,    5,  150,    4,\n",
              "        172,  112,  167,    2,  336,  385,   39,    4,  172, 4536, 1111,\n",
              "         17,  546,   38,   13,  447,    4,  192,   50,   16,    6,  147,\n",
              "       2025,   19,   14,   22,    4, 1920, 4613,  469,    4,   22,   71,\n",
              "         87,   12,   16,   43,  530,   38,   76,   15,   13, 1247,    4,\n",
              "         22,   17,  515,   17,   12,   16,  626,   18,    2,    5,   62,\n",
              "        386,   12,    8,  316,    8,  106,    5,    4, 2223, 5244,   16,\n",
              "        480,   66, 3785,   33,    4,  130,   12,   16,   38,  619,    5,\n",
              "         25,  124,   51,   36,  135,   48,   25, 1415,   33,    6,   22,\n",
              "         12,  215,   28,   77,   52,    5,   14,  407,   16,   82,    2,\n",
              "          8,    4,  107,  117, 5952,   15,  256,    4,    2,    7, 3766,\n",
              "          5,  723,   36,   71,   43,  530,  476,   26,  400,  317,   46,\n",
              "          7,    4,    2, 1029,   13,  104,   88,    4,  381,   15,  297,\n",
              "         98,   32, 2071,   56,   26,  141,    6,  194, 7486,   18,    4,\n",
              "        226,   22,   21,  134,  476,   26,  480,    5,  144,   30, 5535,\n",
              "         18,   51,   36,   28,  224,   92,   25,  104,    4,  226,   65,\n",
              "         16,   38, 1334,   88,   12,   16,  283,    5,   16, 4472,  113,\n",
              "        103,   32,   15,   16, 5345,   19,  178,   32], dtype=int32)"
            ]
          },
          "metadata": {
            "tags": []
          },
          "execution_count": 21
        }
      ]
    },
    {
      "cell_type": "markdown",
      "metadata": {
        "id": "9bH4xnf6L7Gy"
      },
      "source": [
        "### Step2. RNN 모델 디자인"
      ]
    },
    {
      "cell_type": "code",
      "metadata": {
        "id": "1JVNicy5r4d_"
      },
      "source": [
        "from tensorflow.keras import models, layers"
      ],
      "execution_count": null,
      "outputs": []
    },
    {
      "cell_type": "code",
      "metadata": {
        "id": "kFkKlbDI45et"
      },
      "source": [
        "model = models.Sequential()"
      ],
      "execution_count": null,
      "outputs": []
    },
    {
      "cell_type": "code",
      "metadata": {
        "id": "hByPr3YBAg7T"
      },
      "source": [
        "# embedding layer: 32차원, \n",
        "# RNN hidden layer : RNN1개[32], activation : tanh\n",
        "# output layer : 직접 설계\n",
        "model.add(layers.Embedding(input_dim=10000,\n",
        "                           output_dim=32,\n",
        "                           input_length=800))\n",
        "model.add(layers.SimpleRNN(units=32))\n",
        "model.add(layers.Dense(units=1, activation='sigmoid'))"
      ],
      "execution_count": null,
      "outputs": []
    },
    {
      "cell_type": "code",
      "metadata": {
        "colab": {
          "base_uri": "https://localhost:8080/"
        },
        "id": "zpO90hsJ5UZ4",
        "outputId": "970cc62c-e56f-4413-a90b-1f8d46a192ad"
      },
      "source": [
        "model.summary()"
      ],
      "execution_count": null,
      "outputs": [
        {
          "output_type": "stream",
          "text": [
            "Model: \"sequential\"\n",
            "_________________________________________________________________\n",
            "Layer (type)                 Output Shape              Param #   \n",
            "=================================================================\n",
            "embedding (Embedding)        (None, 800, 32)           320000    \n",
            "_________________________________________________________________\n",
            "simple_rnn (SimpleRNN)       (None, 32)                2080      \n",
            "_________________________________________________________________\n",
            "dense (Dense)                (None, 1)                 33        \n",
            "=================================================================\n",
            "Total params: 322,113\n",
            "Trainable params: 322,113\n",
            "Non-trainable params: 0\n",
            "_________________________________________________________________\n"
          ],
          "name": "stdout"
        }
      ]
    },
    {
      "cell_type": "markdown",
      "metadata": {
        "id": "9ur4E4sGMGJj"
      },
      "source": [
        "### Step 3. 모델의 학습 정보 설정"
      ]
    },
    {
      "cell_type": "code",
      "metadata": {
        "id": "BrDdFZg_D9RQ"
      },
      "source": [
        "# loss : binary crossentropy/ optimizer : rmsprop/ metric : accuracy\n",
        "model.compile(loss='binary_crossentropy',\n",
        "              optimizer='rmsprop',\n",
        "              metrics='accuracy')"
      ],
      "execution_count": null,
      "outputs": []
    },
    {
      "cell_type": "markdown",
      "metadata": {
        "id": "0h2kj5IWMLDR"
      },
      "source": [
        "### Step 4. 모델에 input, target 데이터 연결 후 학습"
      ]
    },
    {
      "cell_type": "code",
      "metadata": {
        "id": "WUW_z3AYD-xN",
        "colab": {
          "base_uri": "https://localhost:8080/"
        },
        "outputId": "375dcdb3-26f3-4bf7-ba27-af626e518524"
      },
      "source": [
        "# batch size : 128, epochs : 10, validation data set percent : 20%\n",
        "history = model.fit(\n",
        "    x=train_x, y=train_y,\n",
        "    batch_size=128,\n",
        "    epochs=10,\n",
        "    validation_split=0.2\n",
        ")"
      ],
      "execution_count": null,
      "outputs": [
        {
          "output_type": "stream",
          "text": [
            "Epoch 1/10\n",
            "157/157 [==============================] - 47s 289ms/step - loss: 0.6548 - accuracy: 0.6046 - val_loss: 0.5093 - val_accuracy: 0.7796\n",
            "Epoch 2/10\n",
            "157/157 [==============================] - 43s 276ms/step - loss: 0.4187 - accuracy: 0.8173 - val_loss: 0.3763 - val_accuracy: 0.8452\n",
            "Epoch 3/10\n",
            "157/157 [==============================] - 43s 276ms/step - loss: 0.3161 - accuracy: 0.8740 - val_loss: 0.3588 - val_accuracy: 0.8526\n",
            "Epoch 4/10\n",
            "157/157 [==============================] - 44s 280ms/step - loss: 0.2512 - accuracy: 0.9039 - val_loss: 0.3832 - val_accuracy: 0.8314\n",
            "Epoch 5/10\n",
            "157/157 [==============================] - 44s 282ms/step - loss: 0.2613 - accuracy: 0.8929 - val_loss: 0.4218 - val_accuracy: 0.8320\n",
            "Epoch 6/10\n",
            "157/157 [==============================] - 44s 282ms/step - loss: 0.1966 - accuracy: 0.9244 - val_loss: 0.4868 - val_accuracy: 0.8128\n",
            "Epoch 7/10\n",
            "157/157 [==============================] - 44s 282ms/step - loss: 0.1993 - accuracy: 0.9316 - val_loss: 1.0824 - val_accuracy: 0.7024\n",
            "Epoch 8/10\n",
            "157/157 [==============================] - 45s 287ms/step - loss: 0.1209 - accuracy: 0.9580 - val_loss: 0.5983 - val_accuracy: 0.8148\n",
            "Epoch 9/10\n",
            "157/157 [==============================] - 45s 287ms/step - loss: 0.0987 - accuracy: 0.9672 - val_loss: 0.5651 - val_accuracy: 0.8002\n",
            "Epoch 10/10\n",
            "157/157 [==============================] - 45s 285ms/step - loss: 0.0727 - accuracy: 0.9758 - val_loss: 0.5290 - val_accuracy: 0.8296\n"
          ],
          "name": "stdout"
        }
      ]
    },
    {
      "cell_type": "markdown",
      "metadata": {
        "id": "Ak2AIbp9MUD1"
      },
      "source": [
        "### 학습과정의 시각화 및 성능 테스트"
      ]
    },
    {
      "cell_type": "code",
      "metadata": {
        "id": "R6zph8mBAg7X"
      },
      "source": [
        "# 학습과정 시각화를 위한 정보 추출\n",
        "acc = history.history['accuracy']\n",
        "val_acc = history.history['val_accuracy']\n",
        "loss = history.history['loss']\n",
        "val_loss = history.history['val_loss']"
      ],
      "execution_count": null,
      "outputs": []
    },
    {
      "cell_type": "code",
      "metadata": {
        "id": "hEu9zJoMMh_h"
      },
      "source": [
        "# 차트의 x 축을 위한 epoch 정보 생성\n",
        "epochs = range(1, len(acc) + 1)"
      ],
      "execution_count": null,
      "outputs": []
    },
    {
      "cell_type": "code",
      "metadata": {
        "id": "_gCd3BdWJInD",
        "colab": {
          "base_uri": "https://localhost:8080/",
          "height": 281
        },
        "outputId": "b31d3383-02a7-4353-a064-a3f099382bd5"
      },
      "source": [
        "# 정합도 정보 시각화\n",
        "plt.plot(epochs, acc, label='Training acc')\n",
        "plt.plot(epochs, val_acc, label='Validation acc')\n",
        "plt.title('Training and validation accuracy')\n",
        "plt.legend()\n",
        "plt.show()"
      ],
      "execution_count": null,
      "outputs": [
        {
          "output_type": "display_data",
          "data": {
            "image/png": "[encoded data removed]",
            "text/plain": [
              "<Figure size 432x288 with 1 Axes>"
            ]
          },
          "metadata": {
            "tags": [],
            "needs_background": "light"
          }
        }
      ]
    },
    {
      "cell_type": "code",
      "metadata": {
        "id": "hFHfedUuJNW1",
        "colab": {
          "base_uri": "https://localhost:8080/",
          "height": 281
        },
        "outputId": "9002d6f4-48ba-4092-a1df-ef6e3ad80be0"
      },
      "source": [
        "# loss 정보 시각화\n",
        "plt.plot(epochs, loss, label='Training loss')\n",
        "plt.plot(epochs, val_loss, label='Validation loss')\n",
        "plt.title('Training and validation loss')\n",
        "plt.legend()\n",
        "\n",
        "plt.show()"
      ],
      "execution_count": null,
      "outputs": [
        {
          "output_type": "display_data",
          "data": {
            "image/png": "[encoded data removed]",
            "text/plain": [
              "<Figure size 432x288 with 1 Axes>"
            ]
          },
          "metadata": {
            "tags": [],
            "needs_background": "light"
          }
        }
      ]
    },
    {
      "cell_type": "code",
      "metadata": {
        "id": "ZPlQmoPqM25c",
        "colab": {
          "base_uri": "https://localhost:8080/"
        },
        "outputId": "a83b0187-5518-453d-b8ad-51566735f520"
      },
      "source": [
        "# 테스트 데이터 셋을 통한 성능 측정\n",
        "test_loss, test_acc = model.evaluate(x=test_x, y=test_y)"
      ],
      "execution_count": null,
      "outputs": [
        {
          "output_type": "stream",
          "text": [
            "782/782 [==============================] - 32s 41ms/step - loss: 0.5655 - accuracy: 0.8164\n"
          ],
          "name": "stdout"
        }
      ]
    },
    {
      "cell_type": "code",
      "metadata": {
        "id": "-KBxchdHvgfP"
      },
      "source": [
        "import numpy as np"
      ],
      "execution_count": null,
      "outputs": []
    },
    {
      "cell_type": "code",
      "metadata": {
        "id": "sJSj8btYu1Wr"
      },
      "source": [
        "test_sequences = np.delete(test_x[1], np.argwhere(test_x[1] == 0))"
      ],
      "execution_count": null,
      "outputs": []
    },
    {
      "cell_type": "code",
      "metadata": {
        "id": "FusDvKLmvs0Q"
      },
      "source": [
        "print(test_sequences)"
      ],
      "execution_count": null,
      "outputs": []
    },
    {
      "cell_type": "code",
      "metadata": {
        "id": "KF2t7YeJv1If"
      },
      "source": [
        "sentense = [idx_word.get(idx, \"Nono\")  for idx in test_sequences]"
      ],
      "execution_count": null,
      "outputs": []
    },
    {
      "cell_type": "code",
      "metadata": {
        "id": "B6zDPSoBr79P",
        "colab": {
          "base_uri": "https://localhost:8080/"
        },
        "outputId": "7cbedac7-1b8f-42b5-916c-d1cd9edccf04"
      },
      "source": [
        "print(sentense)"
      ],
      "execution_count": null,
      "outputs": [
        {
          "output_type": "stream",
          "text": [
            "['<sos>', 'this', 'film', 'requires', 'a', 'lot', 'of', 'patience', 'because', 'it', 'focuses', 'on', 'mood', 'and', 'character', 'development', 'the', 'plot', 'is', 'very', 'simple', 'and', 'many', 'of', 'the', 'scenes', 'take', 'place', 'on', 'the', 'same', 'set', 'in', 'frances', '<unk>', 'the', 'sandy', 'dennis', 'character', 'apartment', 'but', 'the', 'film', 'builds', 'to', 'a', 'disturbing', 'climax', 'br', 'br', 'the', 'characters', 'create', 'an', 'atmosphere', '<unk>', 'with', 'sexual', 'tension', 'and', 'psychological', '<unk>', \"it's\", 'very', 'interesting', 'that', 'robert', 'altman', 'directed', 'this', 'considering', 'the', 'style', 'and', 'structure', 'of', 'his', 'other', 'films', 'still', 'the', 'trademark', 'altman', 'audio', 'style', 'is', 'evident', 'here', 'and', 'there', 'i', 'think', 'what', 'really', 'makes', 'this', 'film', 'work', 'is', 'the', 'brilliant', 'performance', 'by', 'sandy', 'dennis', \"it's\", 'definitely', 'one', 'of', 'her', 'darker', 'characters', 'but', 'she', 'plays', 'it', 'so', 'perfectly', 'and', 'convincingly', 'that', \"it's\", 'scary', 'michael', 'burns', 'does', 'a', 'good', 'job', 'as', 'the', 'mute', 'young', 'man', 'regular', 'altman', 'player', 'michael', 'murphy', 'has', 'a', 'small', 'part', 'the', '<unk>', 'moody', 'set', 'fits', 'the', 'content', 'of', 'the', 'story', 'very', 'well', 'in', 'short', 'this', 'movie', 'is', 'a', 'powerful', 'study', 'of', 'loneliness', 'sexual', '<unk>', 'and', 'desperation', 'be', 'patient', '<unk>', 'up', 'the', 'atmosphere', 'and', 'pay', 'attention', 'to', 'the', 'wonderfully', 'written', 'script', 'br', 'br', 'i', 'praise', 'robert', 'altman', 'this', 'is', 'one', 'of', 'his', 'many', 'films', 'that', 'deals', 'with', 'unconventional', 'fascinating', 'subject', 'matter', 'this', 'film', 'is', 'disturbing', 'but', \"it's\", 'sincere', 'and', \"it's\", 'sure', 'to', '<unk>', 'a', 'strong', 'emotional', 'response', 'from', 'the', 'viewer', 'if', 'you', 'want', 'to', 'see', 'an', 'unusual', 'film', 'some', 'might', 'even', 'say', 'bizarre', 'this', 'is', 'worth', 'the', 'time', 'br', 'br', 'unfortunately', \"it's\", 'very', 'difficult', 'to', 'find', 'in', 'video', 'stores', 'you', 'may', 'have', 'to', 'buy', 'it', 'off', 'the', 'internet']\n"
          ],
          "name": "stdout"
        }
      ]
    },
    {
      "cell_type": "code",
      "metadata": {
        "colab": {
          "base_uri": "https://localhost:8080/"
        },
        "id": "bgcSMscaA9Ad",
        "outputId": "30bdac73-c48c-4281-84b1-fd89ae85b445"
      },
      "source": [
        "model.predict(test_x[1].reshape(1, -1))"
      ],
      "execution_count": null,
      "outputs": [
        {
          "output_type": "execute_result",
          "data": {
            "text/plain": [
              "array([[0.98965585]], dtype=float32)"
            ]
          },
          "metadata": {
            "tags": []
          },
          "execution_count": 43
        }
      ]
    },
    {
      "cell_type": "code",
      "metadata": {
        "id": "BnZTJ3AgBdbo",
        "outputId": "f5dd1efa-9011-48f1-df32-bf796a8406bd",
        "colab": {
          "base_uri": "https://localhost:8080/"
        }
      },
      "source": [
        "test_y[1]"
      ],
      "execution_count": null,
      "outputs": [
        {
          "output_type": "execute_result",
          "data": {
            "text/plain": [
              "1"
            ]
          },
          "metadata": {
            "tags": []
          },
          "execution_count": 45
        }
      ]
    },
    {
      "cell_type": "code",
      "metadata": {
        "id": "P695iHHzBhix"
      },
      "source": [
        ""
      ],
      "execution_count": null,
      "outputs": []
    }
  ]
}
{
  "nbformat": 4,
  "nbformat_minor": 0,
  "metadata": {
    "colab": {
      "name": "[1-1차시 실습] CNN 모델을 이용한 FASHION-MNIST 분류 분석.ipynb",
      "provenance": [],
      "collapsed_sections": [],
      "authorship_tag": "ABX9TyN8ocFABWrEh88G4ZdHHmAg",
      "include_colab_link": true
    },
    "kernelspec": {
      "display_name": "Python 3",
      "name": "python3"
    },
    "language_info": {
      "name": "python"
    }
  },
  "cells": [
    {
      "cell_type": "markdown",
      "metadata": {
        "id": "view-in-github",
        "colab_type": "text"
      },
      "source": [
        "<a href=\"https://colab.research.google.com/github/olive-su/AI_codepresso/blob/master/%5B01_01%5D_CNN_%EB%AA%A8%EB%8D%B8%EC%9D%84_%EC%9D%B4%EC%9A%A9%ED%95%9C_FASHION_MNIST_%EB%B6%84%EB%A5%98_%EB%B6%84%EC%84%9D.ipynb\" target=\"_parent\"><img src=\"https://colab.research.google.com/assets/colab-badge.svg\" alt=\"Open In Colab\"/></a>"
      ]
    },
    {
      "cell_type": "code",
      "metadata": {
        "id": "oR5u2_ksHKQt"
      },
      "source": [
        "import tensorflow as tf\n",
        "import tensorflow_datasets as ds \n",
        "import numpy as np"
      ],
      "execution_count": null,
      "outputs": []
    },
    {
      "cell_type": "code",
      "metadata": {
        "id": "Ng775Zt7kbOJ"
      },
      "source": [
        "from tensorflow.keras.datasets import fashion_mnist"
      ],
      "execution_count": null,
      "outputs": []
    },
    {
      "cell_type": "code",
      "metadata": {
        "id": "u4uPOiRCkjaI"
      },
      "source": [
        "(train_x, train_y), (test_x, test_y) = fashion_mnist.load_data()"
      ],
      "execution_count": null,
      "outputs": []
    },
    {
      "cell_type": "code",
      "metadata": {
        "colab": {
          "base_uri": "https://localhost:8080/"
        },
        "id": "VtnNPQ_Zktlr",
        "outputId": "cdae20e4-3932-4b13-b96f-c05386866eff"
      },
      "source": [
        "train_x.shape, train_y.shape"
      ],
      "execution_count": null,
      "outputs": [
        {
          "output_type": "execute_result",
          "data": {
            "text/plain": [
              "((60000, 28, 28), (60000,))"
            ]
          },
          "metadata": {
            "tags": []
          },
          "execution_count": 4
        }
      ]
    },
    {
      "cell_type": "code",
      "metadata": {
        "colab": {
          "base_uri": "https://localhost:8080/"
        },
        "id": "vkUcbO8UlAdV",
        "outputId": "d526d697-0342-45ae-ab8b-0c78268a56d6"
      },
      "source": [
        "test_x.shape, test_y.shape"
      ],
      "execution_count": null,
      "outputs": [
        {
          "output_type": "execute_result",
          "data": {
            "text/plain": [
              "((10000, 28, 28), (10000,))"
            ]
          },
          "metadata": {
            "tags": []
          },
          "execution_count": 5
        }
      ]
    },
    {
      "cell_type": "code",
      "metadata": {
        "colab": {
          "base_uri": "https://localhost:8080/"
        },
        "id": "dOiCDndClDbB",
        "outputId": "64734e17-279e-4e81-994b-3e88ea645356"
      },
      "source": [
        "train_y[:10] # label_id가 기본 0 ~ 10이 아니라 제각각 mapping 되어있음"
      ],
      "execution_count": null,
      "outputs": [
        {
          "output_type": "execute_result",
          "data": {
            "text/plain": [
              "array([9, 0, 0, 3, 0, 2, 7, 2, 5, 5], dtype=uint8)"
            ]
          },
          "metadata": {
            "tags": []
          },
          "execution_count": 6
        }
      ]
    },
    {
      "cell_type": "code",
      "metadata": {
        "id": "nD82YIewlgb0"
      },
      "source": [
        "train_x = train_x.reshape((-1, 28, 28, 1))\n",
        "test_x = test_x.reshape((-1, 28, 28, 1))"
      ],
      "execution_count": null,
      "outputs": []
    },
    {
      "cell_type": "code",
      "metadata": {
        "colab": {
          "base_uri": "https://localhost:8080/"
        },
        "id": "f5NjtyV6mbmZ",
        "outputId": "e81d01a0-3678-4cbc-8c3b-ed3143ff8a34"
      },
      "source": [
        "train_x.shape, test_x.shape"
      ],
      "execution_count": null,
      "outputs": [
        {
          "output_type": "execute_result",
          "data": {
            "text/plain": [
              "((60000, 28, 28, 1), (10000, 28, 28, 1))"
            ]
          },
          "metadata": {
            "tags": []
          },
          "execution_count": 8
        }
      ]
    },
    {
      "cell_type": "code",
      "metadata": {
        "id": "6DfyIGYHnl3U"
      },
      "source": [
        "from tensorflow.keras import models,layers"
      ],
      "execution_count": null,
      "outputs": []
    },
    {
      "cell_type": "code",
      "metadata": {
        "id": "rleJ842LsO1y"
      },
      "source": [
        "# 모델 생성시, []로 레이어 한번에 만들어도 가능\n",
        "model = models.Sequential()"
      ],
      "execution_count": null,
      "outputs": []
    },
    {
      "cell_type": "code",
      "metadata": {
        "id": "_f9skROcvArB"
      },
      "source": [
        ""
      ],
      "execution_count": null,
      "outputs": []
    },
    {
      "cell_type": "code",
      "metadata": {
        "id": "DzVveXe9qCJR"
      },
      "source": [
        "# 레이어 추가하는 과정\n",
        "# 1st Conv2d\n",
        "# filter_cnt : 32, kerner_size : (3,3), relu\n",
        "model.add(layers.Conv2D(filters=32, kernel_size=3, activation='relu',input_shape=(28, 28,1),name='block_1_conv'))\n",
        "# 이름 지정이 가능하다.(sequential_layer의 경우 이름지정이 크게 필요하진 않지만 추후 모델 구현에서는 필요하다)\n",
        "# 1st max pooling 풀링 레이어 추가\n",
        "# pool_size = (2,2)\n",
        "model.add(layers.MaxPool2D(pool_size=2, name='block_1_pool'))\n",
        "# 2st Conv2d\n",
        "# filter_cnt : 64, kerner_size : (3,3), relu\n",
        "model.add(layers.Conv2D(filters=64, kernel_size=3, activation='relu', name='block_2_conv'))\n",
        "# 2st max pooling\n",
        "# pool_size = (2,2)\n",
        "model.add(layers.MaxPool2D(pool_size=2, name='block_2_pool'))\n",
        "# 3st Conv2d\n",
        "# filter_cnt : 64, kerner_size : (3,3), relu\n",
        "model.add(layers.Conv2D(filters=64, kernel_size=3, activation='relu', name='block_3_conv'))\n",
        "# Flatten\n",
        "model.add(layers.Flatten())\n",
        "\n",
        "#classification module\n",
        "model.add(layers.Dense(units=64, activation='relu'))\n",
        "model.add(layers.Dense(units=10, activation='softmax'))"
      ],
      "execution_count": null,
      "outputs": []
    },
    {
      "cell_type": "code",
      "metadata": {
        "colab": {
          "base_uri": "https://localhost:8080/"
        },
        "id": "1bQ29Rjjq5Jz",
        "outputId": "518ce19f-d073-4095-9265-9acfda217693"
      },
      "source": [
        "model.summary()"
      ],
      "execution_count": null,
      "outputs": [
        {
          "output_type": "stream",
          "text": [
            "Model: \"sequential\"\n",
            "_________________________________________________________________\n",
            "Layer (type)                 Output Shape              Param #   \n",
            "=================================================================\n",
            "block_1_conv (Conv2D)        (None, 26, 26, 32)        320       \n",
            "_________________________________________________________________\n",
            "block_1_pool (MaxPooling2D)  (None, 13, 13, 32)        0         \n",
            "_________________________________________________________________\n",
            "block_2_conv (Conv2D)        (None, 11, 11, 64)        18496     \n",
            "_________________________________________________________________\n",
            "block_2_pool (MaxPooling2D)  (None, 5, 5, 64)          0         \n",
            "_________________________________________________________________\n",
            "block_3_conv (Conv2D)        (None, 3, 3, 64)          36928     \n",
            "_________________________________________________________________\n",
            "flatten (Flatten)            (None, 576)               0         \n",
            "_________________________________________________________________\n",
            "dense (Dense)                (None, 64)                36928     \n",
            "_________________________________________________________________\n",
            "dense_1 (Dense)              (None, 10)                650       \n",
            "=================================================================\n",
            "Total params: 93,322\n",
            "Trainable params: 93,322\n",
            "Non-trainable params: 0\n",
            "_________________________________________________________________\n"
          ],
          "name": "stdout"
        }
      ]
    },
    {
      "cell_type": "code",
      "metadata": {
        "id": "doJgswN3rWio"
      },
      "source": [
        "model.compile(loss='sparse_categorical_crossentropy',\n",
        "              optimizer='rmsprop',\n",
        "              metrics=['accuracy'])"
      ],
      "execution_count": null,
      "outputs": []
    },
    {
      "cell_type": "code",
      "metadata": {
        "colab": {
          "background_save": true,
          "base_uri": "https://localhost:8080/"
        },
        "id": "BJRoZqOpzNUz",
        "outputId": "970f4c86-70fa-4a9c-c117-df8609cb21d3"
      },
      "source": [
        "model.fit(x=train_x, y=train_y, epochs=50, batch_size=128,\n",
        "          validation_split=0.2)"
      ],
      "execution_count": null,
      "outputs": [
        {
          "output_type": "stream",
          "text": [
            "Epoch 1/50\n",
            "375/375 [==============================] - 30s 79ms/step - loss: 0.9595 - accuracy: 0.7590 - val_loss: 0.4360 - val_accuracy: 0.8413\n",
            "Epoch 2/50\n",
            "375/375 [==============================] - 29s 77ms/step - loss: 0.3739 - accuracy: 0.8633 - val_loss: 0.3403 - val_accuracy: 0.8778\n",
            "Epoch 3/50\n",
            "375/375 [==============================] - 29s 77ms/step - loss: 0.3110 - accuracy: 0.8873 - val_loss: 0.3301 - val_accuracy: 0.8843\n",
            "Epoch 4/50\n",
            "375/375 [==============================] - 28s 76ms/step - loss: 0.2795 - accuracy: 0.8968 - val_loss: 0.3239 - val_accuracy: 0.8870\n",
            "Epoch 5/50\n",
            "375/375 [==============================] - 28s 76ms/step - loss: 0.2547 - accuracy: 0.9066 - val_loss: 0.3207 - val_accuracy: 0.8882\n",
            "Epoch 6/50\n",
            "375/375 [==============================] - 28s 76ms/step - loss: 0.2366 - accuracy: 0.9138 - val_loss: 0.3524 - val_accuracy: 0.8863\n",
            "Epoch 7/50\n",
            "375/375 [==============================] - 28s 76ms/step - loss: 0.2204 - accuracy: 0.9200 - val_loss: 0.3356 - val_accuracy: 0.8907\n",
            "Epoch 8/50\n",
            "375/375 [==============================] - 28s 76ms/step - loss: 0.2071 - accuracy: 0.9246 - val_loss: 0.3704 - val_accuracy: 0.8947\n",
            "Epoch 9/50\n",
            "375/375 [==============================] - 28s 76ms/step - loss: 0.1976 - accuracy: 0.9286 - val_loss: 0.3217 - val_accuracy: 0.9000\n",
            "Epoch 10/50\n",
            "375/375 [==============================] - 28s 75ms/step - loss: 0.1888 - accuracy: 0.9305 - val_loss: 0.3372 - val_accuracy: 0.8949\n",
            "Epoch 11/50\n",
            "375/375 [==============================] - 28s 76ms/step - loss: 0.1780 - accuracy: 0.9346 - val_loss: 0.3452 - val_accuracy: 0.8898\n",
            "Epoch 12/50\n",
            "375/375 [==============================] - 28s 76ms/step - loss: 0.1718 - accuracy: 0.9367 - val_loss: 0.3505 - val_accuracy: 0.9016\n",
            "Epoch 13/50\n",
            "375/375 [==============================] - 28s 76ms/step - loss: 0.1670 - accuracy: 0.9392 - val_loss: 0.3393 - val_accuracy: 0.9016\n",
            "Epoch 14/50\n",
            "375/375 [==============================] - 28s 76ms/step - loss: 0.1608 - accuracy: 0.9423 - val_loss: 0.4390 - val_accuracy: 0.8917\n",
            "Epoch 15/50\n",
            "375/375 [==============================] - 28s 75ms/step - loss: 0.1569 - accuracy: 0.9430 - val_loss: 0.4163 - val_accuracy: 0.8916\n",
            "Epoch 16/50\n",
            "375/375 [==============================] - 28s 75ms/step - loss: 0.1520 - accuracy: 0.9446 - val_loss: 0.3927 - val_accuracy: 0.8942\n",
            "Epoch 17/50\n",
            "375/375 [==============================] - 28s 76ms/step - loss: 0.1507 - accuracy: 0.9464 - val_loss: 0.4326 - val_accuracy: 0.9007\n",
            "Epoch 18/50\n",
            "375/375 [==============================] - 28s 76ms/step - loss: 0.1499 - accuracy: 0.9460 - val_loss: 0.4330 - val_accuracy: 0.8945\n",
            "Epoch 19/50\n",
            "375/375 [==============================] - 28s 76ms/step - loss: 0.1420 - accuracy: 0.9489 - val_loss: 0.5066 - val_accuracy: 0.8924\n",
            "Epoch 20/50\n",
            "375/375 [==============================] - 28s 76ms/step - loss: 0.1380 - accuracy: 0.9506 - val_loss: 0.4765 - val_accuracy: 0.8962\n",
            "Epoch 21/50\n",
            "375/375 [==============================] - 28s 75ms/step - loss: 0.1394 - accuracy: 0.9510 - val_loss: 0.4939 - val_accuracy: 0.8952\n",
            "Epoch 22/50\n",
            "375/375 [==============================] - 28s 76ms/step - loss: 0.1379 - accuracy: 0.9510 - val_loss: 0.4858 - val_accuracy: 0.8965\n",
            "Epoch 23/50\n",
            "375/375 [==============================] - 28s 76ms/step - loss: 0.1377 - accuracy: 0.9508 - val_loss: 0.5717 - val_accuracy: 0.8877\n",
            "Epoch 24/50\n",
            "375/375 [==============================] - 28s 76ms/step - loss: 0.1379 - accuracy: 0.9519 - val_loss: 0.5631 - val_accuracy: 0.8928\n",
            "Epoch 25/50\n",
            "375/375 [==============================] - 28s 76ms/step - loss: 0.1343 - accuracy: 0.9545 - val_loss: 0.5486 - val_accuracy: 0.8942\n",
            "Epoch 26/50\n",
            "375/375 [==============================] - 28s 76ms/step - loss: 0.1349 - accuracy: 0.9535 - val_loss: 0.7048 - val_accuracy: 0.8909\n",
            "Epoch 27/50\n",
            "375/375 [==============================] - 28s 76ms/step - loss: 0.1313 - accuracy: 0.9548 - val_loss: 0.5891 - val_accuracy: 0.8978\n",
            "Epoch 28/50\n",
            "375/375 [==============================] - 29s 76ms/step - loss: 0.1338 - accuracy: 0.9545 - val_loss: 0.6229 - val_accuracy: 0.8887\n",
            "Epoch 29/50\n",
            "375/375 [==============================] - 28s 75ms/step - loss: 0.1285 - accuracy: 0.9557 - val_loss: 0.6296 - val_accuracy: 0.8951\n",
            "Epoch 30/50\n",
            "375/375 [==============================] - 28s 76ms/step - loss: 0.1310 - accuracy: 0.9549 - val_loss: 0.6331 - val_accuracy: 0.8906\n",
            "Epoch 31/50\n",
            "375/375 [==============================] - 28s 76ms/step - loss: 0.1281 - accuracy: 0.9560 - val_loss: 0.6738 - val_accuracy: 0.8924\n",
            "Epoch 32/50\n",
            "375/375 [==============================] - 28s 76ms/step - loss: 0.1346 - accuracy: 0.9555 - val_loss: 0.5940 - val_accuracy: 0.8899\n",
            "Epoch 33/50\n",
            "375/375 [==============================] - 28s 76ms/step - loss: 0.1253 - accuracy: 0.9573 - val_loss: 0.6288 - val_accuracy: 0.8956\n",
            "Epoch 34/50\n",
            "375/375 [==============================] - 28s 76ms/step - loss: 0.1319 - accuracy: 0.9570 - val_loss: 0.6700 - val_accuracy: 0.8997\n",
            "Epoch 35/50\n",
            "375/375 [==============================] - 28s 76ms/step - loss: 0.1265 - accuracy: 0.9579 - val_loss: 0.7488 - val_accuracy: 0.8928\n",
            "Epoch 36/50\n",
            "375/375 [==============================] - 28s 76ms/step - loss: 0.1326 - accuracy: 0.9558 - val_loss: 0.6501 - val_accuracy: 0.8899\n",
            "Epoch 37/50\n",
            "375/375 [==============================] - 28s 75ms/step - loss: 0.1231 - accuracy: 0.9585 - val_loss: 0.7374 - val_accuracy: 0.8893\n",
            "Epoch 38/50\n",
            "375/375 [==============================] - 28s 76ms/step - loss: 0.1267 - accuracy: 0.9587 - val_loss: 0.7218 - val_accuracy: 0.8917\n",
            "Epoch 39/50\n",
            "375/375 [==============================] - 29s 76ms/step - loss: 0.1282 - accuracy: 0.9585 - val_loss: 0.6969 - val_accuracy: 0.8940\n",
            "Epoch 40/50\n",
            "375/375 [==============================] - 29s 76ms/step - loss: 0.1351 - accuracy: 0.9582 - val_loss: 0.8890 - val_accuracy: 0.8997\n",
            "Epoch 41/50\n",
            "375/375 [==============================] - 29s 76ms/step - loss: 0.1341 - accuracy: 0.9583 - val_loss: 0.9271 - val_accuracy: 0.8994\n",
            "Epoch 42/50\n",
            "375/375 [==============================] - 29s 76ms/step - loss: 0.1263 - accuracy: 0.9591 - val_loss: 0.9506 - val_accuracy: 0.8941\n",
            "Epoch 43/50\n",
            "375/375 [==============================] - 29s 76ms/step - loss: 0.1330 - accuracy: 0.9581 - val_loss: 0.8769 - val_accuracy: 0.8938\n",
            "Epoch 44/50\n",
            "375/375 [==============================] - 29s 76ms/step - loss: 0.1315 - accuracy: 0.9578 - val_loss: 0.7770 - val_accuracy: 0.8939\n",
            "Epoch 45/50\n",
            "375/375 [==============================] - 29s 77ms/step - loss: 0.1345 - accuracy: 0.9586 - val_loss: 0.8407 - val_accuracy: 0.8858\n",
            "Epoch 46/50\n",
            "375/375 [==============================] - 29s 77ms/step - loss: 0.1277 - accuracy: 0.9593 - val_loss: 1.6968 - val_accuracy: 0.8849\n",
            "Epoch 47/50\n",
            "375/375 [==============================] - 29s 77ms/step - loss: 0.1336 - accuracy: 0.9604 - val_loss: 0.7225 - val_accuracy: 0.8959\n",
            "Epoch 48/50\n",
            "375/375 [==============================] - 29s 77ms/step - loss: 0.1308 - accuracy: 0.9586 - val_loss: 0.8995 - val_accuracy: 0.8986\n",
            "Epoch 49/50\n",
            "375/375 [==============================] - 29s 77ms/step - loss: 0.1267 - accuracy: 0.9614 - val_loss: 0.9511 - val_accuracy: 0.8889\n",
            "Epoch 50/50\n",
            "375/375 [==============================] - 29s 77ms/step - loss: 0.1303 - accuracy: 0.9608 - val_loss: 0.9153 - val_accuracy: 0.8926\n"
          ],
          "name": "stdout"
        },
        {
          "output_type": "execute_result",
          "data": {
            "text/plain": [
              "<tensorflow.python.keras.callbacks.History at 0x7f6f35777890>"
            ]
          },
          "metadata": {
            "tags": []
          },
          "execution_count": 0
        }
      ]
    },
    {
      "cell_type": "code",
      "metadata": {
        "colab": {
          "background_save": true,
          "base_uri": "https://localhost:8080/"
        },
        "id": "zw2uKcep0XBO",
        "outputId": "232425d3-8175-4811-c36a-01e4a3687280"
      },
      "source": [
        "loss, accuracy = model.evaluate(x=test_x, y=test_y)"
      ],
      "execution_count": null,
      "outputs": [
        {
          "output_type": "stream",
          "text": [
            "313/313 [==============================] - 2s 7ms/step - loss: 0.9658 - accuracy: 0.8898\n"
          ],
          "name": "stdout"
        }
      ]
    },
    {
      "cell_type": "code",
      "metadata": {
        "colab": {
          "background_save": true
        },
        "id": "7bTJ3penzn-3"
      },
      "source": [
        "\n"
      ],
      "execution_count": null,
      "outputs": []
    }
  ]
}
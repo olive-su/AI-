{
  "nbformat": 4,
  "nbformat_minor": 0,
  "metadata": {
    "colab": {
      "name": "01_0705_CNN_practice.ipynb",
      "provenance": [],
      "authorship_tag": "ABX9TyN8ocFABWrEh88G4ZdHHmAg",
      "include_colab_link": true
    },
    "kernelspec": {
      "name": "python3",
      "display_name": "Python 3"
    },
    "language_info": {
      "name": "python"
    },
    "accelerator": "GPU"
  },
  "cells": [
    {
      "cell_type": "markdown",
      "metadata": {
        "id": "view-in-github",
        "colab_type": "text"
      },
      "source": [
        "<a href=\"https://colab.research.google.com/github/olive-su/AI_codepresso/blob/master/CNN_fashion-mnist_classification.ipynb\" target=\"_parent\"><img src=\"https://colab.research.google.com/assets/colab-badge.svg\" alt=\"Open In Colab\"/></a>"
      ]
    },
    {
      "cell_type": "code",
      "metadata": {
        "id": "oR5u2_ksHKQt"
      },
      "source": [
        "import tensorflow as tf\n",
        "import tensorflow_datasets as ds \n",
        "import numpy as np"
      ],
      "execution_count": 1,
      "outputs": []
    },
    {
      "cell_type": "code",
      "metadata": {
        "id": "Ng775Zt7kbOJ"
      },
      "source": [
        "from tensorflow.keras.datasets import fashion_mnist"
      ],
      "execution_count": 2,
      "outputs": []
    },
    {
      "cell_type": "code",
      "metadata": {
        "id": "u4uPOiRCkjaI"
      },
      "source": [
        "(train_x, train_y), (test_x, test_y) = fashion_mnist.load_data()"
      ],
      "execution_count": 3,
      "outputs": []
    },
    {
      "cell_type": "code",
      "metadata": {
        "colab": {
          "base_uri": "https://localhost:8080/"
        },
        "id": "VtnNPQ_Zktlr",
        "outputId": "cdae20e4-3932-4b13-b96f-c05386866eff"
      },
      "source": [
        "train_x.shape, train_y.shape"
      ],
      "execution_count": 4,
      "outputs": [
        {
          "output_type": "execute_result",
          "data": {
            "text/plain": [
              "((60000, 28, 28), (60000,))"
            ]
          },
          "metadata": {
            "tags": []
          },
          "execution_count": 4
        }
      ]
    },
    {
      "cell_type": "code",
      "metadata": {
        "colab": {
          "base_uri": "https://localhost:8080/"
        },
        "id": "vkUcbO8UlAdV",
        "outputId": "d526d697-0342-45ae-ab8b-0c78268a56d6"
      },
      "source": [
        "test_x.shape, test_y.shape"
      ],
      "execution_count": 5,
      "outputs": [
        {
          "output_type": "execute_result",
          "data": {
            "text/plain": [
              "((10000, 28, 28), (10000,))"
            ]
          },
          "metadata": {
            "tags": []
          },
          "execution_count": 5
        }
      ]
    },
    {
      "cell_type": "code",
      "metadata": {
        "colab": {
          "base_uri": "https://localhost:8080/"
        },
        "id": "dOiCDndClDbB",
        "outputId": "64734e17-279e-4e81-994b-3e88ea645356"
      },
      "source": [
        "train_y[:10] # label_id가 기본 0 ~ 10이 아니라 제각각 mapping 되어있음"
      ],
      "execution_count": 6,
      "outputs": [
        {
          "output_type": "execute_result",
          "data": {
            "text/plain": [
              "array([9, 0, 0, 3, 0, 2, 7, 2, 5, 5], dtype=uint8)"
            ]
          },
          "metadata": {
            "tags": []
          },
          "execution_count": 6
        }
      ]
    },
    {
      "cell_type": "code",
      "metadata": {
        "id": "nD82YIewlgb0"
      },
      "source": [
        "train_x = train_x.reshape((-1, 28, 28, 1))\n",
        "test_x = test_x.reshape((-1, 28, 28, 1))"
      ],
      "execution_count": 7,
      "outputs": []
    },
    {
      "cell_type": "code",
      "metadata": {
        "colab": {
          "base_uri": "https://localhost:8080/"
        },
        "id": "f5NjtyV6mbmZ",
        "outputId": "e81d01a0-3678-4cbc-8c3b-ed3143ff8a34"
      },
      "source": [
        "train_x.shape, test_x.shape"
      ],
      "execution_count": 8,
      "outputs": [
        {
          "output_type": "execute_result",
          "data": {
            "text/plain": [
              "((60000, 28, 28, 1), (10000, 28, 28, 1))"
            ]
          },
          "metadata": {
            "tags": []
          },
          "execution_count": 8
        }
      ]
    },
    {
      "cell_type": "code",
      "metadata": {
        "id": "6DfyIGYHnl3U"
      },
      "source": [
        "from tensorflow.keras import models,layers"
      ],
      "execution_count": 9,
      "outputs": []
    },
    {
      "cell_type": "code",
      "metadata": {
        "id": "rleJ842LsO1y"
      },
      "source": [
        "# 모델 생성시, []로 레이어 한번에 만들어도 가능\n",
        "model = models.Sequential()"
      ],
      "execution_count": 10,
      "outputs": []
    },
    {
      "cell_type": "code",
      "metadata": {
        "id": "_f9skROcvArB"
      },
      "source": [
        ""
      ],
      "execution_count": 10,
      "outputs": []
    },
    {
      "cell_type": "code",
      "metadata": {
        "id": "DzVveXe9qCJR"
      },
      "source": [
        "# 레이어 추가하는 과정\n",
        "# 1st Conv2d\n",
        "# filter_cnt : 32, kerner_size : (3,3), relu\n",
        "model.add(layers.Conv2D(filters=32, kernel_size=3, activation='relu',input_shape=(28, 28,1),name='block_1_conv'))\n",
        "# 이름 지정이 가능하다.(sequential_layer의 경우 이름지정이 크게 필요하진 않지만 추후 모델 구현에서는 필요하다)\n",
        "# 1st max pooling 풀링 레이어 추가\n",
        "# pool_size = (2,2)\n",
        "model.add(layers.MaxPool2D(pool_size=2, name='block_1_pool'))\n",
        "# 2st Conv2d\n",
        "# filter_cnt : 64, kerner_size : (3,3), relu\n",
        "model.add(layers.Conv2D(filters=64, kernel_size=3, activation='relu', name='block_2_conv'))\n",
        "# 2st max pooling\n",
        "# pool_size = (2,2)\n",
        "model.add(layers.MaxPool2D(pool_size=2, name='block_2_pool'))\n",
        "# 3st Conv2d\n",
        "# filter_cnt : 64, kerner_size : (3,3), relu\n",
        "model.add(layers.Conv2D(filters=64, kernel_size=3, activation='relu', name='block_3_conv'))\n",
        "# Flatten\n",
        "model.add(layers.Flatten())\n",
        "\n",
        "#classification module\n",
        "model.add(layers.Dense(units=64, activation='relu'))\n",
        "model.add(layers.Dense(units=10, activation='softmax'))"
      ],
      "execution_count": 11,
      "outputs": []
    },
    {
      "cell_type": "code",
      "metadata": {
        "colab": {
          "base_uri": "https://localhost:8080/"
        },
        "id": "1bQ29Rjjq5Jz",
        "outputId": "518ce19f-d073-4095-9265-9acfda217693"
      },
      "source": [
        "model.summary()"
      ],
      "execution_count": 12,
      "outputs": [
        {
          "output_type": "stream",
          "text": [
            "Model: \"sequential\"\n",
            "_________________________________________________________________\n",
            "Layer (type)                 Output Shape              Param #   \n",
            "=================================================================\n",
            "block_1_conv (Conv2D)        (None, 26, 26, 32)        320       \n",
            "_________________________________________________________________\n",
            "block_1_pool (MaxPooling2D)  (None, 13, 13, 32)        0         \n",
            "_________________________________________________________________\n",
            "block_2_conv (Conv2D)        (None, 11, 11, 64)        18496     \n",
            "_________________________________________________________________\n",
            "block_2_pool (MaxPooling2D)  (None, 5, 5, 64)          0         \n",
            "_________________________________________________________________\n",
            "block_3_conv (Conv2D)        (None, 3, 3, 64)          36928     \n",
            "_________________________________________________________________\n",
            "flatten (Flatten)            (None, 576)               0         \n",
            "_________________________________________________________________\n",
            "dense (Dense)                (None, 64)                36928     \n",
            "_________________________________________________________________\n",
            "dense_1 (Dense)              (None, 10)                650       \n",
            "=================================================================\n",
            "Total params: 93,322\n",
            "Trainable params: 93,322\n",
            "Non-trainable params: 0\n",
            "_________________________________________________________________\n"
          ],
          "name": "stdout"
        }
      ]
    },
    {
      "cell_type": "code",
      "metadata": {
        "id": "doJgswN3rWio"
      },
      "source": [
        "model.compile(loss='sparse_categorical_crossentropy',\n",
        "              optimizer='rmsprop',\n",
        "              metrics=['accuracy'])"
      ],
      "execution_count": 13,
      "outputs": []
    },
    {
      "cell_type": "code",
      "metadata": {
        "colab": {
          "base_uri": "https://localhost:8080/"
        },
        "id": "BJRoZqOpzNUz",
        "outputId": "8106d90b-e7b4-4116-f3fd-f154b3a77994"
      },
      "source": [
        "model.fit(x=train_x, y=train_y, epochs=50, batch_size=128,\n",
        "          validation_split=0.2)"
      ],
      "execution_count": 14,
      "outputs": [
        {
          "output_type": "stream",
          "text": [
            "Epoch 1/50\n",
            "375/375 [==============================] - 30s 79ms/step - loss: 1.1967 - accuracy: 0.7666 - val_loss: 0.4645 - val_accuracy: 0.8248\n",
            "Epoch 2/50\n",
            "375/375 [==============================] - 29s 77ms/step - loss: 0.3720 - accuracy: 0.8645 - val_loss: 0.3678 - val_accuracy: 0.8648\n",
            "Epoch 3/50\n",
            "375/375 [==============================] - 29s 78ms/step - loss: 0.3113 - accuracy: 0.8863 - val_loss: 0.3538 - val_accuracy: 0.8740\n",
            "Epoch 4/50\n",
            "375/375 [==============================] - 29s 78ms/step - loss: 0.2797 - accuracy: 0.8974 - val_loss: 0.3138 - val_accuracy: 0.8910\n",
            "Epoch 5/50\n",
            "375/375 [==============================] - 30s 79ms/step - loss: 0.2507 - accuracy: 0.9079 - val_loss: 0.3221 - val_accuracy: 0.8891\n",
            "Epoch 6/50\n",
            "375/375 [==============================] - 29s 78ms/step - loss: 0.2325 - accuracy: 0.9144 - val_loss: 0.3242 - val_accuracy: 0.8941\n",
            "Epoch 7/50\n",
            "375/375 [==============================] - 30s 79ms/step - loss: 0.2171 - accuracy: 0.9190 - val_loss: 0.3362 - val_accuracy: 0.8931\n",
            "Epoch 8/50\n",
            "375/375 [==============================] - 30s 79ms/step - loss: 0.2026 - accuracy: 0.9249 - val_loss: 0.3120 - val_accuracy: 0.8938\n",
            "Epoch 9/50\n",
            "375/375 [==============================] - 30s 79ms/step - loss: 0.1916 - accuracy: 0.9293 - val_loss: 0.3501 - val_accuracy: 0.8951\n",
            "Epoch 10/50\n",
            "375/375 [==============================] - 30s 79ms/step - loss: 0.1808 - accuracy: 0.9326 - val_loss: 0.3209 - val_accuracy: 0.8991\n",
            "Epoch 11/50\n",
            "375/375 [==============================] - 30s 79ms/step - loss: 0.1741 - accuracy: 0.9351 - val_loss: 0.3362 - val_accuracy: 0.8997\n",
            "Epoch 12/50\n",
            "375/375 [==============================] - 29s 79ms/step - loss: 0.1654 - accuracy: 0.9394 - val_loss: 0.3733 - val_accuracy: 0.8874\n",
            "Epoch 13/50\n",
            "375/375 [==============================] - 29s 79ms/step - loss: 0.1591 - accuracy: 0.9419 - val_loss: 0.3994 - val_accuracy: 0.8997\n",
            "Epoch 14/50\n",
            "375/375 [==============================] - 29s 78ms/step - loss: 0.1550 - accuracy: 0.9445 - val_loss: 0.4101 - val_accuracy: 0.8950\n",
            "Epoch 15/50\n",
            "375/375 [==============================] - 30s 79ms/step - loss: 0.1459 - accuracy: 0.9457 - val_loss: 0.4399 - val_accuracy: 0.8963\n",
            "Epoch 16/50\n",
            "375/375 [==============================] - 30s 79ms/step - loss: 0.1450 - accuracy: 0.9476 - val_loss: 0.4037 - val_accuracy: 0.8957\n",
            "Epoch 17/50\n",
            "375/375 [==============================] - 30s 79ms/step - loss: 0.1381 - accuracy: 0.9504 - val_loss: 0.4531 - val_accuracy: 0.9001\n",
            "Epoch 18/50\n",
            "375/375 [==============================] - 30s 79ms/step - loss: 0.1383 - accuracy: 0.9505 - val_loss: 0.4771 - val_accuracy: 0.8702\n",
            "Epoch 19/50\n",
            "375/375 [==============================] - 30s 79ms/step - loss: 0.1350 - accuracy: 0.9510 - val_loss: 0.4817 - val_accuracy: 0.8959\n",
            "Epoch 20/50\n",
            "375/375 [==============================] - 30s 79ms/step - loss: 0.1327 - accuracy: 0.9535 - val_loss: 0.4945 - val_accuracy: 0.8972\n",
            "Epoch 21/50\n",
            "375/375 [==============================] - 29s 78ms/step - loss: 0.1326 - accuracy: 0.9533 - val_loss: 0.4985 - val_accuracy: 0.9016\n",
            "Epoch 22/50\n",
            "375/375 [==============================] - 29s 78ms/step - loss: 0.1289 - accuracy: 0.9546 - val_loss: 0.5614 - val_accuracy: 0.8995\n",
            "Epoch 23/50\n",
            "375/375 [==============================] - 29s 78ms/step - loss: 0.1287 - accuracy: 0.9551 - val_loss: 0.4970 - val_accuracy: 0.8937\n",
            "Epoch 24/50\n",
            "375/375 [==============================] - 29s 78ms/step - loss: 0.1272 - accuracy: 0.9564 - val_loss: 0.6532 - val_accuracy: 0.8965\n",
            "Epoch 25/50\n",
            "375/375 [==============================] - 29s 78ms/step - loss: 0.1261 - accuracy: 0.9567 - val_loss: 0.5499 - val_accuracy: 0.8898\n",
            "Epoch 26/50\n",
            "375/375 [==============================] - 29s 78ms/step - loss: 0.1276 - accuracy: 0.9567 - val_loss: 0.5099 - val_accuracy: 0.8893\n",
            "Epoch 27/50\n",
            "375/375 [==============================] - 29s 78ms/step - loss: 0.1231 - accuracy: 0.9587 - val_loss: 0.4531 - val_accuracy: 0.8798\n",
            "Epoch 28/50\n",
            "375/375 [==============================] - 29s 79ms/step - loss: 0.1272 - accuracy: 0.9592 - val_loss: 0.8060 - val_accuracy: 0.8936\n",
            "Epoch 29/50\n",
            "375/375 [==============================] - 29s 78ms/step - loss: 0.1216 - accuracy: 0.9592 - val_loss: 0.6120 - val_accuracy: 0.8971\n",
            "Epoch 30/50\n",
            "375/375 [==============================] - 29s 78ms/step - loss: 0.1185 - accuracy: 0.9600 - val_loss: 0.8674 - val_accuracy: 0.8989\n",
            "Epoch 31/50\n",
            "375/375 [==============================] - 29s 78ms/step - loss: 0.1220 - accuracy: 0.9601 - val_loss: 0.6497 - val_accuracy: 0.8938\n",
            "Epoch 32/50\n",
            "375/375 [==============================] - 29s 78ms/step - loss: 0.1179 - accuracy: 0.9613 - val_loss: 0.7691 - val_accuracy: 0.8881\n",
            "Epoch 33/50\n",
            "375/375 [==============================] - 29s 79ms/step - loss: 0.1142 - accuracy: 0.9623 - val_loss: 0.8825 - val_accuracy: 0.8980\n",
            "Epoch 34/50\n",
            "375/375 [==============================] - 29s 78ms/step - loss: 0.1226 - accuracy: 0.9610 - val_loss: 0.6859 - val_accuracy: 0.8913\n",
            "Epoch 35/50\n",
            "375/375 [==============================] - 29s 79ms/step - loss: 0.1173 - accuracy: 0.9637 - val_loss: 0.5855 - val_accuracy: 0.8899\n",
            "Epoch 36/50\n",
            "375/375 [==============================] - 30s 79ms/step - loss: 0.1148 - accuracy: 0.9637 - val_loss: 0.7191 - val_accuracy: 0.8928\n",
            "Epoch 37/50\n",
            "375/375 [==============================] - 29s 78ms/step - loss: 0.1193 - accuracy: 0.9631 - val_loss: 0.6641 - val_accuracy: 0.8933\n",
            "Epoch 38/50\n",
            "375/375 [==============================] - 29s 79ms/step - loss: 0.1160 - accuracy: 0.9631 - val_loss: 0.8146 - val_accuracy: 0.8925\n",
            "Epoch 39/50\n",
            "375/375 [==============================] - 29s 78ms/step - loss: 0.1211 - accuracy: 0.9626 - val_loss: 0.8071 - val_accuracy: 0.8972\n",
            "Epoch 40/50\n",
            "375/375 [==============================] - 29s 78ms/step - loss: 0.1188 - accuracy: 0.9646 - val_loss: 0.7012 - val_accuracy: 0.8871\n",
            "Epoch 41/50\n",
            "375/375 [==============================] - 29s 79ms/step - loss: 0.1172 - accuracy: 0.9655 - val_loss: 0.7760 - val_accuracy: 0.8853\n",
            "Epoch 42/50\n",
            "375/375 [==============================] - 30s 79ms/step - loss: 0.1236 - accuracy: 0.9615 - val_loss: 0.9795 - val_accuracy: 0.8963\n",
            "Epoch 43/50\n",
            "375/375 [==============================] - 29s 79ms/step - loss: 0.1179 - accuracy: 0.9636 - val_loss: 1.0484 - val_accuracy: 0.8938\n",
            "Epoch 44/50\n",
            "375/375 [==============================] - 29s 78ms/step - loss: 0.1147 - accuracy: 0.9648 - val_loss: 0.7355 - val_accuracy: 0.8836\n",
            "Epoch 45/50\n",
            "375/375 [==============================] - 29s 78ms/step - loss: 0.1230 - accuracy: 0.9631 - val_loss: 0.8020 - val_accuracy: 0.8873\n",
            "Epoch 46/50\n",
            "375/375 [==============================] - 29s 78ms/step - loss: 0.1319 - accuracy: 0.9614 - val_loss: 0.8473 - val_accuracy: 0.8916\n",
            "Epoch 47/50\n",
            "375/375 [==============================] - 29s 79ms/step - loss: 0.1151 - accuracy: 0.9657 - val_loss: 0.9966 - val_accuracy: 0.8902\n",
            "Epoch 48/50\n",
            "375/375 [==============================] - 30s 79ms/step - loss: 0.1325 - accuracy: 0.9628 - val_loss: 0.8121 - val_accuracy: 0.8926\n",
            "Epoch 49/50\n",
            "375/375 [==============================] - 29s 79ms/step - loss: 0.1189 - accuracy: 0.9633 - val_loss: 0.9583 - val_accuracy: 0.8894\n",
            "Epoch 50/50\n",
            "375/375 [==============================] - 30s 79ms/step - loss: 0.1235 - accuracy: 0.9632 - val_loss: 0.7757 - val_accuracy: 0.8923\n"
          ],
          "name": "stdout"
        },
        {
          "output_type": "execute_result",
          "data": {
            "text/plain": [
              "<tensorflow.python.keras.callbacks.History at 0x7f6f3e1fa050>"
            ]
          },
          "metadata": {
            "tags": []
          },
          "execution_count": 14
        }
      ]
    },
    {
      "cell_type": "code",
      "metadata": {
        "id": "zw2uKcep0XBO",
        "colab": {
          "base_uri": "https://localhost:8080/"
        },
        "outputId": "c8d4a882-954e-4541-9bf6-80a5d2309a0d"
      },
      "source": [
        "loss, accuracy = model.evaluate(x=test_x, y=test_y)"
      ],
      "execution_count": 15,
      "outputs": [
        {
          "output_type": "stream",
          "text": [
            "313/313 [==============================] - 2s 7ms/step - loss: 0.8495 - accuracy: 0.8884\n"
          ],
          "name": "stdout"
        }
      ]
    },
    {
      "cell_type": "code",
      "metadata": {
        "id": "7bTJ3penzn-3"
      },
      "source": [
        "\n"
      ],
      "execution_count": 15,
      "outputs": []
    }
  ]
}
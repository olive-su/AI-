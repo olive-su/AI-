{
  "nbformat": 4,
  "nbformat_minor": 0,
  "metadata": {
    "colab": {
      "name": "ImageDataGenerator에 대한 이해 및 실습.ipynb",
      "provenance": [],
      "collapsed_sections": [],
      "include_colab_link": true
    },
    "kernelspec": {
      "display_name": "Python 3",
      "language": "python",
      "name": "python3"
    },
    "language_info": {
      "codemirror_mode": {
        "name": "ipython",
        "version": 3
      },
      "file_extension": ".py",
      "mimetype": "text/x-python",
      "name": "python",
      "nbconvert_exporter": "python",
      "pygments_lexer": "ipython3",
      "version": "3.6.8"
    }
  },
  "cells": [
    {
      "cell_type": "markdown",
      "metadata": {
        "id": "view-in-github",
        "colab_type": "text"
      },
      "source": [
        "<a href=\"https://colab.research.google.com/github/olive-su/AI_codepresso/blob/master/ImageDataGenerator%EC%97%90_%EB%8C%80%ED%95%9C_%EC%9D%B4%ED%95%B4_%EB%B0%8F_%EC%8B%A4%EC%8A%B5.ipynb\" target=\"_parent\"><img src=\"https://colab.research.google.com/assets/colab-badge.svg\" alt=\"Open In Colab\"/></a>"
      ]
    },
    {
      "cell_type": "code",
      "metadata": {
        "id": "3PUX8Pbxfcmu"
      },
      "source": [
        "from tensorflow import keras\n",
        "import os"
      ],
      "execution_count": null,
      "outputs": []
    },
    {
      "cell_type": "markdown",
      "metadata": {
        "id": "8tx5pLETRayc"
      },
      "source": [
        "### 1. Cats and Dogs 데이터셋 다운로드"
      ]
    },
    {
      "cell_type": "code",
      "metadata": {
        "id": "EU_txrdnuHIb"
      },
      "source": [
        "url = 'https://storage.googleapis.com/mledu-datasets/cats_and_dogs_filtered.zip'"
      ],
      "execution_count": null,
      "outputs": []
    },
    {
      "cell_type": "code",
      "metadata": {
        "id": "nttUXJ5-8GBu",
        "colab": {
          "base_uri": "https://localhost:8080/"
        },
        "outputId": "184a39a3-e8a8-49ef-fdba-5c21ba52fefa"
      },
      "source": [
        "path_zip = keras.utils.get_file(fname='cats_and_dogs_filtered.zip',origin=url,\n",
        "                                extract=True, cache_dir='/content')"
      ],
      "execution_count": null,
      "outputs": [
        {
          "output_type": "stream",
          "text": [
            "Downloading data from https://storage.googleapis.com/mledu-datasets/cats_and_dogs_filtered.zip\n",
            "68608000/68606236 [==============================] - 1s 0us/step\n"
          ],
          "name": "stdout"
        }
      ]
    },
    {
      "cell_type": "code",
      "metadata": {
        "colab": {
          "base_uri": "https://localhost:8080/",
          "height": 35
        },
        "id": "uDLEUyxfoUaS",
        "outputId": "ac416f1d-1c2f-4b58-e744-21c0c4d94bf9"
      },
      "source": [
        "path_zip"
      ],
      "execution_count": null,
      "outputs": [
        {
          "output_type": "execute_result",
          "data": {
            "application/vnd.google.colaboratory.intrinsic+json": {
              "type": "string"
            },
            "text/plain": [
              "'/content/datasets/cats_and_dogs_filtered.zip'"
            ]
          },
          "metadata": {
            "tags": []
          },
          "execution_count": 4
        }
      ]
    },
    {
      "cell_type": "markdown",
      "metadata": {
        "id": "PddlPaLnRlzv"
      },
      "source": [
        "### 2. ImageDataGenerator를 이용해 이미지 파일을 load 하기 위한 경로 지정"
      ]
    },
    {
      "cell_type": "code",
      "metadata": {
        "id": "xFXxSobmRqrt"
      },
      "source": [
        "train_dir = '/content/datasets/cats_and_dogs_filtered/train'"
      ],
      "execution_count": null,
      "outputs": []
    },
    {
      "cell_type": "markdown",
      "metadata": {
        "id": "yCq6t2OFvkFf"
      },
      "source": [
        "### 3.ImageDataGenerator 객체 생성"
      ]
    },
    {
      "cell_type": "code",
      "metadata": {
        "id": "t-ZBPOW0vgVX"
      },
      "source": [
        "from tensorflow.keras.preprocessing.image import ImageDataGenerator"
      ],
      "execution_count": null,
      "outputs": []
    },
    {
      "cell_type": "code",
      "metadata": {
        "id": "fDZ94fG4vlfW"
      },
      "source": [
        "datagen = ImageDataGenerator()"
      ],
      "execution_count": null,
      "outputs": []
    },
    {
      "cell_type": "code",
      "metadata": {
        "id": "BfZRI8QxwLjn",
        "colab": {
          "base_uri": "https://localhost:8080/"
        },
        "outputId": "36b4089c-a2a5-4ee0-d751-2438b5cc2e6d"
      },
      "source": [
        "type(datagen)"
      ],
      "execution_count": null,
      "outputs": [
        {
          "output_type": "execute_result",
          "data": {
            "text/plain": [
              "tensorflow.python.keras.preprocessing.image.ImageDataGenerator"
            ]
          },
          "metadata": {
            "tags": []
          },
          "execution_count": 8
        }
      ]
    },
    {
      "cell_type": "markdown",
      "metadata": {
        "id": "8Ntz7KcUzHc4"
      },
      "source": [
        "### 4. ImageDataGenerator.flow_from_directory() 함수 사용\n",
        "* ImageDataGenerator에 데이터를 읽어오는 경로 연결\n",
        "* 이미지 데이터를 읽어 텐서 객체로 변환하는 파이프라인 설정\n",
        "* DirectoryIterator 객체로 변화됨"
      ]
    },
    {
      "cell_type": "code",
      "metadata": {
        "id": "VxN6N_EKvt1p",
        "colab": {
          "base_uri": "https://localhost:8080/"
        },
        "outputId": "0d6b8ceb-2d9c-491c-8307-f21af7e8edf7"
      },
      "source": [
        "train_generator = datagen.flow_from_directory(\n",
        "    directory=train_dir,\n",
        "    target_size=(150, 150),\n",
        "    batch_size=32,\n",
        "    shuffle=True,\n",
        "    class_mode='binary')"
      ],
      "execution_count": null,
      "outputs": [
        {
          "output_type": "stream",
          "text": [
            "Found 2000 images belonging to 2 classes.\n"
          ],
          "name": "stdout"
        }
      ]
    },
    {
      "cell_type": "code",
      "metadata": {
        "id": "Rpw_Cnd_v6Rp",
        "colab": {
          "base_uri": "https://localhost:8080/"
        },
        "outputId": "f571a758-6b9d-4f8b-de75-d424ba481735"
      },
      "source": [
        "type(train_generator)"
      ],
      "execution_count": null,
      "outputs": [
        {
          "output_type": "execute_result",
          "data": {
            "text/plain": [
              "tensorflow.python.keras.preprocessing.image.DirectoryIterator"
            ]
          },
          "metadata": {
            "tags": []
          },
          "execution_count": 10
        }
      ]
    },
    {
      "cell_type": "markdown",
      "metadata": {
        "id": "KDrgFJkE0Cj4"
      },
      "source": [
        "### 5. DirectoryIterator 객체의 속성 및 메서드"
      ]
    },
    {
      "cell_type": "markdown",
      "metadata": {
        "id": "IVRurPBa7fnP"
      },
      "source": [
        "* .samples : 연결된 경로에서 읽어들일 이미지 파일의 개수"
      ]
    },
    {
      "cell_type": "code",
      "metadata": {
        "id": "cm8aOtcP0O4y",
        "colab": {
          "base_uri": "https://localhost:8080/"
        },
        "outputId": "5ff5cd28-b34b-4cb4-ecd1-bac4e048db15"
      },
      "source": [
        "train_generator.samples"
      ],
      "execution_count": null,
      "outputs": [
        {
          "output_type": "execute_result",
          "data": {
            "text/plain": [
              "2000"
            ]
          },
          "metadata": {
            "tags": []
          },
          "execution_count": 11
        }
      ]
    },
    {
      "cell_type": "markdown",
      "metadata": {
        "id": "AyuvaNNl7sVw"
      },
      "source": [
        "* len() : batch 덩어리의 개수 확인 "
      ]
    },
    {
      "cell_type": "code",
      "metadata": {
        "id": "_YL7en0zHWIR",
        "colab": {
          "base_uri": "https://localhost:8080/"
        },
        "outputId": "3e77f12e-8e69-4a81-de54-555b82c99793"
      },
      "source": [
        "len(train_generator)"
      ],
      "execution_count": null,
      "outputs": [
        {
          "output_type": "execute_result",
          "data": {
            "text/plain": [
              "63"
            ]
          },
          "metadata": {
            "tags": []
          },
          "execution_count": 12
        }
      ]
    },
    {
      "cell_type": "code",
      "metadata": {
        "id": "4yLSxjV80kKm",
        "colab": {
          "base_uri": "https://localhost:8080/"
        },
        "outputId": "784ac52d-ac2f-43ac-d3fe-09c9f2ee503d"
      },
      "source": [
        "2000/32"
      ],
      "execution_count": null,
      "outputs": [
        {
          "output_type": "execute_result",
          "data": {
            "text/plain": [
              "62.5"
            ]
          },
          "metadata": {
            "tags": []
          },
          "execution_count": 13
        }
      ]
    },
    {
      "cell_type": "markdown",
      "metadata": {
        "id": "_WUidzQ58rK_"
      },
      "source": [
        "* next() : batch 데이터 호출"
      ]
    },
    {
      "cell_type": "code",
      "metadata": {
        "id": "0-XmogSxwZA-"
      },
      "source": [
        "x, y = next(train_generator)"
      ],
      "execution_count": null,
      "outputs": []
    },
    {
      "cell_type": "code",
      "metadata": {
        "colab": {
          "base_uri": "https://localhost:8080/"
        },
        "id": "t9L7yeMxsaGb",
        "outputId": "6bed43bd-474c-4812-ad19-345253832c9e"
      },
      "source": [
        "x.shape, y.shape"
      ],
      "execution_count": null,
      "outputs": [
        {
          "output_type": "execute_result",
          "data": {
            "text/plain": [
              "((32, 150, 150, 3), (32,))"
            ]
          },
          "metadata": {
            "tags": []
          },
          "execution_count": 21
        }
      ]
    },
    {
      "cell_type": "code",
      "metadata": {
        "id": "jDJ42VwKwaR6",
        "colab": {
          "base_uri": "https://localhost:8080/"
        },
        "outputId": "759a0c0e-733d-4ebc-a9b6-11ce7aa32c50"
      },
      "source": [
        "y"
      ],
      "execution_count": null,
      "outputs": [
        {
          "output_type": "execute_result",
          "data": {
            "text/plain": [
              "array([0., 1., 0., 0., 1., 1., 1., 0., 1., 1., 1., 0., 0., 0., 0., 1., 1.,\n",
              "       1., 0., 0., 1., 0., 1., 0., 1., 1., 0., 1., 1., 1., 0., 1.],\n",
              "      dtype=float32)"
            ]
          },
          "metadata": {
            "tags": []
          },
          "execution_count": 22
        }
      ]
    },
    {
      "cell_type": "markdown",
      "metadata": {
        "id": "7nUUJs9o85k2"
      },
      "source": [
        "* .__getitem__(idx) : 원하는 index 의 batch 데이터 호출"
      ]
    },
    {
      "cell_type": "code",
      "metadata": {
        "id": "r_J09v1Iwrca"
      },
      "source": [
        "x, y = train_generator.__getitem__(0)"
      ],
      "execution_count": null,
      "outputs": []
    },
    {
      "cell_type": "code",
      "metadata": {
        "id": "Zwd-XWtsws0F",
        "colab": {
          "base_uri": "https://localhost:8080/"
        },
        "outputId": "14c9f7e3-6879-4f01-d0b7-bf1fbb5a06fb"
      },
      "source": [
        "x.shape, y.shape"
      ],
      "execution_count": null,
      "outputs": [
        {
          "output_type": "execute_result",
          "data": {
            "text/plain": [
              "((32, 150, 150, 3), (32,))"
            ]
          },
          "metadata": {
            "tags": []
          },
          "execution_count": 24
        }
      ]
    },
    {
      "cell_type": "code",
      "metadata": {
        "id": "BUF4p1z7wiWM"
      },
      "source": [
        "x, y = train_generator.__getitem__(62)"
      ],
      "execution_count": null,
      "outputs": []
    },
    {
      "cell_type": "code",
      "metadata": {
        "id": "sGHTBoePwjY1",
        "colab": {
          "base_uri": "https://localhost:8080/"
        },
        "outputId": "9bd1d60a-f7aa-4d11-ee9a-2ac806dc9312"
      },
      "source": [
        "x.shape, y.shape"
      ],
      "execution_count": null,
      "outputs": [
        {
          "output_type": "execute_result",
          "data": {
            "text/plain": [
              "((16, 150, 150, 3), (16,))"
            ]
          },
          "metadata": {
            "tags": []
          },
          "execution_count": 26
        }
      ]
    },
    {
      "cell_type": "code",
      "metadata": {
        "id": "hvP0ij2NImWV"
      },
      "source": [
        "train_generator.reset()"
      ],
      "execution_count": null,
      "outputs": []
    },
    {
      "cell_type": "code",
      "metadata": {
        "id": "Xi9BEqgPInjt",
        "colab": {
          "base_uri": "https://localhost:8080/",
          "height": 1000
        },
        "outputId": "2a1435d2-fec2-456f-9169-a6f21e0b5ec5"
      },
      "source": [
        "for idx, data in enumerate(train_generator):\n",
        "  print(idx, data[0].shape)"
      ],
      "execution_count": null,
      "outputs": [
        {
          "output_type": "stream",
          "text": [
            "0 (32, 150, 150, 3)\n",
            "1 (32, 150, 150, 3)\n",
            "2 (32, 150, 150, 3)\n",
            "3 (32, 150, 150, 3)\n",
            "4 (32, 150, 150, 3)\n",
            "5 (32, 150, 150, 3)\n",
            "6 (32, 150, 150, 3)\n",
            "7 (32, 150, 150, 3)\n",
            "8 (32, 150, 150, 3)\n",
            "9 (32, 150, 150, 3)\n",
            "10 (32, 150, 150, 3)\n",
            "11 (32, 150, 150, 3)\n",
            "12 (32, 150, 150, 3)\n",
            "13 (32, 150, 150, 3)\n",
            "14 (32, 150, 150, 3)\n",
            "15 (32, 150, 150, 3)\n",
            "16 (32, 150, 150, 3)\n",
            "17 (32, 150, 150, 3)\n",
            "18 (32, 150, 150, 3)\n",
            "19 (32, 150, 150, 3)\n",
            "20 (32, 150, 150, 3)\n",
            "21 (32, 150, 150, 3)\n",
            "22 (32, 150, 150, 3)\n",
            "23 (32, 150, 150, 3)\n",
            "24 (32, 150, 150, 3)\n",
            "25 (32, 150, 150, 3)\n",
            "26 (32, 150, 150, 3)\n",
            "27 (32, 150, 150, 3)\n",
            "28 (32, 150, 150, 3)\n",
            "29 (32, 150, 150, 3)\n",
            "30 (32, 150, 150, 3)\n",
            "31 (32, 150, 150, 3)\n",
            "32 (32, 150, 150, 3)\n",
            "33 (32, 150, 150, 3)\n",
            "34 (32, 150, 150, 3)\n",
            "35 (32, 150, 150, 3)\n",
            "36 (32, 150, 150, 3)\n",
            "37 (32, 150, 150, 3)\n",
            "38 (32, 150, 150, 3)\n",
            "39 (32, 150, 150, 3)\n",
            "40 (32, 150, 150, 3)\n",
            "41 (32, 150, 150, 3)\n",
            "42 (32, 150, 150, 3)\n",
            "43 (32, 150, 150, 3)\n",
            "44 (32, 150, 150, 3)\n",
            "45 (32, 150, 150, 3)\n",
            "46 (32, 150, 150, 3)\n",
            "47 (32, 150, 150, 3)\n",
            "48 (32, 150, 150, 3)\n",
            "49 (32, 150, 150, 3)\n",
            "50 (32, 150, 150, 3)\n",
            "51 (32, 150, 150, 3)\n",
            "52 (32, 150, 150, 3)\n",
            "53 (32, 150, 150, 3)\n",
            "54 (32, 150, 150, 3)\n",
            "55 (32, 150, 150, 3)\n",
            "56 (32, 150, 150, 3)\n",
            "57 (32, 150, 150, 3)\n",
            "58 (32, 150, 150, 3)\n",
            "59 (32, 150, 150, 3)\n",
            "60 (32, 150, 150, 3)\n",
            "61 (32, 150, 150, 3)\n",
            "62 (16, 150, 150, 3)\n",
            "63 (32, 150, 150, 3)\n",
            "64 (32, 150, 150, 3)\n",
            "65 (32, 150, 150, 3)\n",
            "66 (32, 150, 150, 3)\n",
            "67 (32, 150, 150, 3)\n",
            "68 (32, 150, 150, 3)\n",
            "69 (32, 150, 150, 3)\n",
            "70 (32, 150, 150, 3)\n",
            "71 (32, 150, 150, 3)\n",
            "72 (32, 150, 150, 3)\n",
            "73 (32, 150, 150, 3)\n",
            "74 (32, 150, 150, 3)\n",
            "75 (32, 150, 150, 3)\n",
            "76 (32, 150, 150, 3)\n",
            "77 (32, 150, 150, 3)\n",
            "78 (32, 150, 150, 3)\n",
            "79 (32, 150, 150, 3)\n",
            "80 (32, 150, 150, 3)\n",
            "81 (32, 150, 150, 3)\n",
            "82 (32, 150, 150, 3)\n",
            "83 (32, 150, 150, 3)\n",
            "84 (32, 150, 150, 3)\n",
            "85 (32, 150, 150, 3)\n",
            "86 (32, 150, 150, 3)\n",
            "87 (32, 150, 150, 3)\n",
            "88 (32, 150, 150, 3)\n",
            "89 (32, 150, 150, 3)\n",
            "90 (32, 150, 150, 3)\n",
            "91 (32, 150, 150, 3)\n",
            "92 (32, 150, 150, 3)\n",
            "93 (32, 150, 150, 3)\n",
            "94 (32, 150, 150, 3)\n",
            "95 (32, 150, 150, 3)\n",
            "96 (32, 150, 150, 3)\n",
            "97 (32, 150, 150, 3)\n",
            "98 (32, 150, 150, 3)\n",
            "99 (32, 150, 150, 3)\n",
            "100 (32, 150, 150, 3)\n",
            "101 (32, 150, 150, 3)\n",
            "102 (32, 150, 150, 3)\n",
            "103 (32, 150, 150, 3)\n",
            "104 (32, 150, 150, 3)\n",
            "105 (32, 150, 150, 3)\n",
            "106 (32, 150, 150, 3)\n",
            "107 (32, 150, 150, 3)\n",
            "108 (32, 150, 150, 3)\n",
            "109 (32, 150, 150, 3)\n",
            "110 (32, 150, 150, 3)\n",
            "111 (32, 150, 150, 3)\n",
            "112 (32, 150, 150, 3)\n",
            "113 (32, 150, 150, 3)\n",
            "114 (32, 150, 150, 3)\n",
            "115 (32, 150, 150, 3)\n",
            "116 (32, 150, 150, 3)\n",
            "117 (32, 150, 150, 3)\n",
            "118 (32, 150, 150, 3)\n",
            "119 (32, 150, 150, 3)\n",
            "120 (32, 150, 150, 3)\n",
            "121 (32, 150, 150, 3)\n",
            "122 (32, 150, 150, 3)\n",
            "123 (32, 150, 150, 3)\n",
            "124 (32, 150, 150, 3)\n",
            "125 (16, 150, 150, 3)\n",
            "126 (32, 150, 150, 3)\n",
            "127 (32, 150, 150, 3)\n",
            "128 (32, 150, 150, 3)\n",
            "129 (32, 150, 150, 3)\n",
            "130 (32, 150, 150, 3)\n",
            "131 (32, 150, 150, 3)\n",
            "132 (32, 150, 150, 3)\n",
            "133 (32, 150, 150, 3)\n",
            "134 (32, 150, 150, 3)\n",
            "135 (32, 150, 150, 3)\n",
            "136 (32, 150, 150, 3)\n",
            "137 (32, 150, 150, 3)\n",
            "138 (32, 150, 150, 3)\n",
            "139 (32, 150, 150, 3)\n",
            "140 (32, 150, 150, 3)\n",
            "141 (32, 150, 150, 3)\n",
            "142 (32, 150, 150, 3)\n",
            "143 (32, 150, 150, 3)\n",
            "144 (32, 150, 150, 3)\n",
            "145 (32, 150, 150, 3)\n",
            "146 (32, 150, 150, 3)\n",
            "147 (32, 150, 150, 3)\n",
            "148 (32, 150, 150, 3)\n",
            "149 (32, 150, 150, 3)\n",
            "150 (32, 150, 150, 3)\n",
            "151 (32, 150, 150, 3)\n",
            "152 (32, 150, 150, 3)\n",
            "153 (32, 150, 150, 3)\n",
            "154 (32, 150, 150, 3)\n",
            "155 (32, 150, 150, 3)\n",
            "156 (32, 150, 150, 3)\n",
            "157 (32, 150, 150, 3)\n",
            "158 (32, 150, 150, 3)\n",
            "159 (32, 150, 150, 3)\n",
            "160 (32, 150, 150, 3)\n",
            "161 (32, 150, 150, 3)\n",
            "162 (32, 150, 150, 3)\n",
            "163 (32, 150, 150, 3)\n",
            "164 (32, 150, 150, 3)\n",
            "165 (32, 150, 150, 3)\n",
            "166 (32, 150, 150, 3)\n",
            "167 (32, 150, 150, 3)\n",
            "168 (32, 150, 150, 3)\n",
            "169 (32, 150, 150, 3)\n",
            "170 (32, 150, 150, 3)\n",
            "171 (32, 150, 150, 3)\n",
            "172 (32, 150, 150, 3)\n",
            "173 (32, 150, 150, 3)\n",
            "174 (32, 150, 150, 3)\n",
            "175 (32, 150, 150, 3)\n",
            "176 (32, 150, 150, 3)\n",
            "177 (32, 150, 150, 3)\n",
            "178 (32, 150, 150, 3)\n",
            "179 (32, 150, 150, 3)\n",
            "180 (32, 150, 150, 3)\n",
            "181 (32, 150, 150, 3)\n",
            "182 (32, 150, 150, 3)\n",
            "183 (32, 150, 150, 3)\n",
            "184 (32, 150, 150, 3)\n",
            "185 (32, 150, 150, 3)\n",
            "186 (32, 150, 150, 3)\n",
            "187 (32, 150, 150, 3)\n",
            "188 (16, 150, 150, 3)\n",
            "189 (32, 150, 150, 3)\n",
            "190 (32, 150, 150, 3)\n",
            "191 (32, 150, 150, 3)\n",
            "192 (32, 150, 150, 3)\n",
            "193 (32, 150, 150, 3)\n",
            "194 (32, 150, 150, 3)\n",
            "195 (32, 150, 150, 3)\n",
            "196 (32, 150, 150, 3)\n",
            "197 (32, 150, 150, 3)\n",
            "198 (32, 150, 150, 3)\n",
            "199 (32, 150, 150, 3)\n",
            "200 (32, 150, 150, 3)\n",
            "201 (32, 150, 150, 3)\n",
            "202 (32, 150, 150, 3)\n",
            "203 (32, 150, 150, 3)\n"
          ],
          "name": "stdout"
        },
        {
          "output_type": "error",
          "ename": "KeyboardInterrupt",
          "evalue": "ignored",
          "traceback": [
            "\u001b[0;31m---------------------------------------------------------------------------\u001b[0m",
            "\u001b[0;31mKeyboardInterrupt\u001b[0m                         Traceback (most recent call last)",
            "\u001b[0;32m<ipython-input-28-3da4e5249014>\u001b[0m in \u001b[0;36m<module>\u001b[0;34m()\u001b[0m\n\u001b[0;32m----> 1\u001b[0;31m \u001b[0;32mfor\u001b[0m \u001b[0midx\u001b[0m\u001b[0;34m,\u001b[0m \u001b[0mdata\u001b[0m \u001b[0;32min\u001b[0m \u001b[0menumerate\u001b[0m\u001b[0;34m(\u001b[0m\u001b[0mtrain_generator\u001b[0m\u001b[0;34m)\u001b[0m\u001b[0;34m:\u001b[0m\u001b[0;34m\u001b[0m\u001b[0;34m\u001b[0m\u001b[0m\n\u001b[0m\u001b[1;32m      2\u001b[0m   \u001b[0mprint\u001b[0m\u001b[0;34m(\u001b[0m\u001b[0midx\u001b[0m\u001b[0;34m,\u001b[0m \u001b[0mdata\u001b[0m\u001b[0;34m[\u001b[0m\u001b[0;36m0\u001b[0m\u001b[0;34m]\u001b[0m\u001b[0;34m.\u001b[0m\u001b[0mshape\u001b[0m\u001b[0;34m)\u001b[0m\u001b[0;34m\u001b[0m\u001b[0;34m\u001b[0m\u001b[0m\n",
            "\u001b[0;32m/usr/local/lib/python3.7/dist-packages/keras_preprocessing/image/iterator.py\u001b[0m in \u001b[0;36m__next__\u001b[0;34m(self, *args, **kwargs)\u001b[0m\n\u001b[1;32m    102\u001b[0m \u001b[0;34m\u001b[0m\u001b[0m\n\u001b[1;32m    103\u001b[0m     \u001b[0;32mdef\u001b[0m \u001b[0m__next__\u001b[0m\u001b[0;34m(\u001b[0m\u001b[0mself\u001b[0m\u001b[0;34m,\u001b[0m \u001b[0;34m*\u001b[0m\u001b[0margs\u001b[0m\u001b[0;34m,\u001b[0m \u001b[0;34m**\u001b[0m\u001b[0mkwargs\u001b[0m\u001b[0;34m)\u001b[0m\u001b[0;34m:\u001b[0m\u001b[0;34m\u001b[0m\u001b[0;34m\u001b[0m\u001b[0m\n\u001b[0;32m--> 104\u001b[0;31m         \u001b[0;32mreturn\u001b[0m \u001b[0mself\u001b[0m\u001b[0;34m.\u001b[0m\u001b[0mnext\u001b[0m\u001b[0;34m(\u001b[0m\u001b[0;34m*\u001b[0m\u001b[0margs\u001b[0m\u001b[0;34m,\u001b[0m \u001b[0;34m**\u001b[0m\u001b[0mkwargs\u001b[0m\u001b[0;34m)\u001b[0m\u001b[0;34m\u001b[0m\u001b[0;34m\u001b[0m\u001b[0m\n\u001b[0m\u001b[1;32m    105\u001b[0m \u001b[0;34m\u001b[0m\u001b[0m\n\u001b[1;32m    106\u001b[0m     \u001b[0;32mdef\u001b[0m \u001b[0mnext\u001b[0m\u001b[0;34m(\u001b[0m\u001b[0mself\u001b[0m\u001b[0;34m)\u001b[0m\u001b[0;34m:\u001b[0m\u001b[0;34m\u001b[0m\u001b[0;34m\u001b[0m\u001b[0m\n",
            "\u001b[0;32m/usr/local/lib/python3.7/dist-packages/keras_preprocessing/image/iterator.py\u001b[0m in \u001b[0;36mnext\u001b[0;34m(self)\u001b[0m\n\u001b[1;32m    114\u001b[0m         \u001b[0;31m# The transformation of images is not under thread lock\u001b[0m\u001b[0;34m\u001b[0m\u001b[0;34m\u001b[0m\u001b[0;34m\u001b[0m\u001b[0m\n\u001b[1;32m    115\u001b[0m         \u001b[0;31m# so it can be done in parallel\u001b[0m\u001b[0;34m\u001b[0m\u001b[0;34m\u001b[0m\u001b[0;34m\u001b[0m\u001b[0m\n\u001b[0;32m--> 116\u001b[0;31m         \u001b[0;32mreturn\u001b[0m \u001b[0mself\u001b[0m\u001b[0;34m.\u001b[0m\u001b[0m_get_batches_of_transformed_samples\u001b[0m\u001b[0;34m(\u001b[0m\u001b[0mindex_array\u001b[0m\u001b[0;34m)\u001b[0m\u001b[0;34m\u001b[0m\u001b[0;34m\u001b[0m\u001b[0m\n\u001b[0m\u001b[1;32m    117\u001b[0m \u001b[0;34m\u001b[0m\u001b[0m\n\u001b[1;32m    118\u001b[0m     \u001b[0;32mdef\u001b[0m \u001b[0m_get_batches_of_transformed_samples\u001b[0m\u001b[0;34m(\u001b[0m\u001b[0mself\u001b[0m\u001b[0;34m,\u001b[0m \u001b[0mindex_array\u001b[0m\u001b[0;34m)\u001b[0m\u001b[0;34m:\u001b[0m\u001b[0;34m\u001b[0m\u001b[0;34m\u001b[0m\u001b[0m\n",
            "\u001b[0;32m/usr/local/lib/python3.7/dist-packages/keras_preprocessing/image/iterator.py\u001b[0m in \u001b[0;36m_get_batches_of_transformed_samples\u001b[0;34m(self, index_array)\u001b[0m\n\u001b[1;32m    228\u001b[0m                            \u001b[0mcolor_mode\u001b[0m\u001b[0;34m=\u001b[0m\u001b[0mself\u001b[0m\u001b[0;34m.\u001b[0m\u001b[0mcolor_mode\u001b[0m\u001b[0;34m,\u001b[0m\u001b[0;34m\u001b[0m\u001b[0;34m\u001b[0m\u001b[0m\n\u001b[1;32m    229\u001b[0m                            \u001b[0mtarget_size\u001b[0m\u001b[0;34m=\u001b[0m\u001b[0mself\u001b[0m\u001b[0;34m.\u001b[0m\u001b[0mtarget_size\u001b[0m\u001b[0;34m,\u001b[0m\u001b[0;34m\u001b[0m\u001b[0;34m\u001b[0m\u001b[0m\n\u001b[0;32m--> 230\u001b[0;31m                            interpolation=self.interpolation)\n\u001b[0m\u001b[1;32m    231\u001b[0m             \u001b[0mx\u001b[0m \u001b[0;34m=\u001b[0m \u001b[0mimg_to_array\u001b[0m\u001b[0;34m(\u001b[0m\u001b[0mimg\u001b[0m\u001b[0;34m,\u001b[0m \u001b[0mdata_format\u001b[0m\u001b[0;34m=\u001b[0m\u001b[0mself\u001b[0m\u001b[0;34m.\u001b[0m\u001b[0mdata_format\u001b[0m\u001b[0;34m)\u001b[0m\u001b[0;34m\u001b[0m\u001b[0;34m\u001b[0m\u001b[0m\n\u001b[1;32m    232\u001b[0m             \u001b[0;31m# Pillow images should be closed after `load_img`,\u001b[0m\u001b[0;34m\u001b[0m\u001b[0;34m\u001b[0m\u001b[0;34m\u001b[0m\u001b[0m\n",
            "\u001b[0;32m/usr/local/lib/python3.7/dist-packages/keras_preprocessing/image/utils.py\u001b[0m in \u001b[0;36mload_img\u001b[0;34m(path, grayscale, color_mode, target_size, interpolation)\u001b[0m\n\u001b[1;32m    136\u001b[0m                             \", \".join(_PIL_INTERPOLATION_METHODS.keys())))\n\u001b[1;32m    137\u001b[0m                 \u001b[0mresample\u001b[0m \u001b[0;34m=\u001b[0m \u001b[0m_PIL_INTERPOLATION_METHODS\u001b[0m\u001b[0;34m[\u001b[0m\u001b[0minterpolation\u001b[0m\u001b[0;34m]\u001b[0m\u001b[0;34m\u001b[0m\u001b[0;34m\u001b[0m\u001b[0m\n\u001b[0;32m--> 138\u001b[0;31m                 \u001b[0mimg\u001b[0m \u001b[0;34m=\u001b[0m \u001b[0mimg\u001b[0m\u001b[0;34m.\u001b[0m\u001b[0mresize\u001b[0m\u001b[0;34m(\u001b[0m\u001b[0mwidth_height_tuple\u001b[0m\u001b[0;34m,\u001b[0m \u001b[0mresample\u001b[0m\u001b[0;34m)\u001b[0m\u001b[0;34m\u001b[0m\u001b[0;34m\u001b[0m\u001b[0m\n\u001b[0m\u001b[1;32m    139\u001b[0m         \u001b[0;32mreturn\u001b[0m \u001b[0mimg\u001b[0m\u001b[0;34m\u001b[0m\u001b[0;34m\u001b[0m\u001b[0m\n\u001b[1;32m    140\u001b[0m \u001b[0;34m\u001b[0m\u001b[0m\n",
            "\u001b[0;32m/usr/local/lib/python3.7/dist-packages/PIL/Image.py\u001b[0m in \u001b[0;36mresize\u001b[0;34m(self, size, resample, box, reducing_gap)\u001b[0m\n\u001b[1;32m   1884\u001b[0m             \u001b[0;32mreturn\u001b[0m \u001b[0mim\u001b[0m\u001b[0;34m.\u001b[0m\u001b[0mconvert\u001b[0m\u001b[0;34m(\u001b[0m\u001b[0mself\u001b[0m\u001b[0;34m.\u001b[0m\u001b[0mmode\u001b[0m\u001b[0;34m)\u001b[0m\u001b[0;34m\u001b[0m\u001b[0;34m\u001b[0m\u001b[0m\n\u001b[1;32m   1885\u001b[0m \u001b[0;34m\u001b[0m\u001b[0m\n\u001b[0;32m-> 1886\u001b[0;31m         \u001b[0mself\u001b[0m\u001b[0;34m.\u001b[0m\u001b[0mload\u001b[0m\u001b[0;34m(\u001b[0m\u001b[0;34m)\u001b[0m\u001b[0;34m\u001b[0m\u001b[0;34m\u001b[0m\u001b[0m\n\u001b[0m\u001b[1;32m   1887\u001b[0m \u001b[0;34m\u001b[0m\u001b[0m\n\u001b[1;32m   1888\u001b[0m         \u001b[0;32mif\u001b[0m \u001b[0mreducing_gap\u001b[0m \u001b[0;32mis\u001b[0m \u001b[0;32mnot\u001b[0m \u001b[0;32mNone\u001b[0m \u001b[0;32mand\u001b[0m \u001b[0mresample\u001b[0m \u001b[0;34m!=\u001b[0m \u001b[0mNEAREST\u001b[0m\u001b[0;34m:\u001b[0m\u001b[0;34m\u001b[0m\u001b[0;34m\u001b[0m\u001b[0m\n",
            "\u001b[0;32m/usr/local/lib/python3.7/dist-packages/PIL/ImageFile.py\u001b[0m in \u001b[0;36mload\u001b[0;34m(self)\u001b[0m\n\u001b[1;32m    249\u001b[0m \u001b[0;34m\u001b[0m\u001b[0m\n\u001b[1;32m    250\u001b[0m                             \u001b[0mb\u001b[0m \u001b[0;34m=\u001b[0m \u001b[0mb\u001b[0m \u001b[0;34m+\u001b[0m \u001b[0ms\u001b[0m\u001b[0;34m\u001b[0m\u001b[0;34m\u001b[0m\u001b[0m\n\u001b[0;32m--> 251\u001b[0;31m                             \u001b[0mn\u001b[0m\u001b[0;34m,\u001b[0m \u001b[0merr_code\u001b[0m \u001b[0;34m=\u001b[0m \u001b[0mdecoder\u001b[0m\u001b[0;34m.\u001b[0m\u001b[0mdecode\u001b[0m\u001b[0;34m(\u001b[0m\u001b[0mb\u001b[0m\u001b[0;34m)\u001b[0m\u001b[0;34m\u001b[0m\u001b[0;34m\u001b[0m\u001b[0m\n\u001b[0m\u001b[1;32m    252\u001b[0m                             \u001b[0;32mif\u001b[0m \u001b[0mn\u001b[0m \u001b[0;34m<\u001b[0m \u001b[0;36m0\u001b[0m\u001b[0;34m:\u001b[0m\u001b[0;34m\u001b[0m\u001b[0;34m\u001b[0m\u001b[0m\n\u001b[1;32m    253\u001b[0m                                 \u001b[0;32mbreak\u001b[0m\u001b[0;34m\u001b[0m\u001b[0;34m\u001b[0m\u001b[0m\n",
            "\u001b[0;31mKeyboardInterrupt\u001b[0m: "
          ]
        }
      ]
    },
    {
      "cell_type": "code",
      "metadata": {
        "id": "ipgRk9gwJCjd"
      },
      "source": [
        ""
      ],
      "execution_count": null,
      "outputs": []
    }
  ]
}
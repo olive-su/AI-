{
  "nbformat": 4,
  "nbformat_minor": 0,
  "metadata": {
    "colab": {
      "name": "CNN 모델을 이용한 FASHION-MNIST 분류 분석.ipynb",
      "provenance": [],
      "collapsed_sections": [],
      "authorship_tag": "ABX9TyPJyc/sseu515OyFNIpoXWv",
      "include_colab_link": true
    },
    "kernelspec": {
      "display_name": "Python 3",
      "name": "python3"
    },
    "language_info": {
      "name": "python"
    },
    "accelerator": "GPU"
  },
  "cells": [
    {
      "cell_type": "markdown",
      "metadata": {
        "id": "view-in-github",
        "colab_type": "text"
      },
      "source": [
        "<a href=\"https://colab.research.google.com/github/olive-su/AI_codepresso/blob/master/CNN_%EB%AA%A8%EB%8D%B8%EC%9D%84_%EC%9D%B4%EC%9A%A9%ED%95%9C_FASHION_MNIST_%EB%B6%84%EB%A5%98_%EB%B6%84%EC%84%9D.ipynb\" target=\"_parent\"><img src=\"https://colab.research.google.com/assets/colab-badge.svg\" alt=\"Open In Colab\"/></a>"
      ]
    },
    {
      "cell_type": "code",
      "metadata": {
        "id": "oR5u2_ksHKQt"
      },
      "source": [
        "import tensorflow as tf\n",
        "import tensorflow_datasets as ds \n",
        "import numpy as np"
      ],
      "execution_count": 1,
      "outputs": []
    },
    {
      "cell_type": "code",
      "metadata": {
        "id": "Ng775Zt7kbOJ"
      },
      "source": [
        "from tensorflow.keras.datasets import fashion_mnist"
      ],
      "execution_count": 2,
      "outputs": []
    },
    {
      "cell_type": "code",
      "metadata": {
        "id": "u4uPOiRCkjaI",
        "colab": {
          "base_uri": "https://localhost:8080/"
        },
        "outputId": "17b2e55a-1876-4286-adac-f1d6289264fd"
      },
      "source": [
        "(train_x, train_y), (test_x, test_y) = fashion_mnist.load_data()"
      ],
      "execution_count": 3,
      "outputs": [
        {
          "output_type": "stream",
          "text": [
            "Downloading data from https://storage.googleapis.com/tensorflow/tf-keras-datasets/train-labels-idx1-ubyte.gz\n",
            "32768/29515 [=================================] - 0s 0us/step\n",
            "Downloading data from https://storage.googleapis.com/tensorflow/tf-keras-datasets/train-images-idx3-ubyte.gz\n",
            "26427392/26421880 [==============================] - 0s 0us/step\n",
            "Downloading data from https://storage.googleapis.com/tensorflow/tf-keras-datasets/t10k-labels-idx1-ubyte.gz\n",
            "8192/5148 [===============================================] - 0s 0us/step\n",
            "Downloading data from https://storage.googleapis.com/tensorflow/tf-keras-datasets/t10k-images-idx3-ubyte.gz\n",
            "4423680/4422102 [==============================] - 0s 0us/step\n"
          ],
          "name": "stdout"
        }
      ]
    },
    {
      "cell_type": "code",
      "metadata": {
        "colab": {
          "base_uri": "https://localhost:8080/"
        },
        "id": "VtnNPQ_Zktlr",
        "outputId": "7e53a25a-bbb3-45f7-e510-ecce1c0454a8"
      },
      "source": [
        "train_x.shape, train_y.shape"
      ],
      "execution_count": 4,
      "outputs": [
        {
          "output_type": "execute_result",
          "data": {
            "text/plain": [
              "((60000, 28, 28), (60000,))"
            ]
          },
          "metadata": {
            "tags": []
          },
          "execution_count": 4
        }
      ]
    },
    {
      "cell_type": "code",
      "metadata": {
        "colab": {
          "base_uri": "https://localhost:8080/"
        },
        "id": "vkUcbO8UlAdV",
        "outputId": "c96dd233-ce86-46a7-b49f-3714b0ab4d8a"
      },
      "source": [
        "test_x.shape, test_y.shape"
      ],
      "execution_count": 5,
      "outputs": [
        {
          "output_type": "execute_result",
          "data": {
            "text/plain": [
              "((10000, 28, 28), (10000,))"
            ]
          },
          "metadata": {
            "tags": []
          },
          "execution_count": 5
        }
      ]
    },
    {
      "cell_type": "code",
      "metadata": {
        "colab": {
          "base_uri": "https://localhost:8080/"
        },
        "id": "dOiCDndClDbB",
        "outputId": "1bdf7a6b-f6c4-49cd-834a-a35361c9f96f"
      },
      "source": [
        "# label data : label encoding\n",
        "train_y[:10]"
      ],
      "execution_count": 6,
      "outputs": [
        {
          "output_type": "execute_result",
          "data": {
            "text/plain": [
              "array([9, 0, 0, 3, 0, 2, 7, 2, 5, 5], dtype=uint8)"
            ]
          },
          "metadata": {
            "tags": []
          },
          "execution_count": 6
        }
      ]
    },
    {
      "cell_type": "code",
      "metadata": {
        "id": "nD82YIewlgb0"
      },
      "source": [
        "train_x = train_x.reshape((-1, 28, 28, 1))\n",
        "test_x = test_x.reshape((-1, 28, 28, 1))"
      ],
      "execution_count": 7,
      "outputs": []
    },
    {
      "cell_type": "code",
      "metadata": {
        "colab": {
          "base_uri": "https://localhost:8080/"
        },
        "id": "f5NjtyV6mbmZ",
        "outputId": "a74025ab-c50a-4f5d-fa3f-d523377e6c92"
      },
      "source": [
        "train_x.shape, test_x.shape"
      ],
      "execution_count": 8,
      "outputs": [
        {
          "output_type": "execute_result",
          "data": {
            "text/plain": [
              "((60000, 28, 28, 1), (10000, 28, 28, 1))"
            ]
          },
          "metadata": {
            "tags": []
          },
          "execution_count": 8
        }
      ]
    },
    {
      "cell_type": "code",
      "metadata": {
        "id": "6DfyIGYHnl3U"
      },
      "source": [
        "from tensorflow.keras import models,layers"
      ],
      "execution_count": 9,
      "outputs": []
    },
    {
      "cell_type": "code",
      "metadata": {
        "id": "rleJ842LsO1y"
      },
      "source": [
        "# []로 모델내 레이어 한번에 생성도 가능\n",
        "model = models.Sequential()"
      ],
      "execution_count": 10,
      "outputs": []
    },
    {
      "cell_type": "markdown",
      "metadata": {
        "id": "yTsmXiYCezhS"
      },
      "source": [
        "# 모델 설계\n",
        "1. 1st Conv2D\n",
        "* filter_cnt : 32, kerner_size : (3,3), activation : relu\n",
        "2. 1st MaxPool2D\n",
        "* pool_size = (2, 2)\n",
        "3. 2st Conv2D\n",
        "* filter_cnt : 64, kerner_size : (3,3), activation : relu\n",
        "4. 2st MaxPool2D\n",
        "* pool_size = (2, 2)\n",
        "5. 3st Conv2D\n",
        "* filter_cnt : 64, kerner_size : (3,3), activation : relu\n",
        "\n",
        "6. Flatten\n",
        "7. classification module"
      ]
    },
    {
      "cell_type": "code",
      "metadata": {
        "id": "DzVveXe9qCJR"
      },
      "source": [
        "model.add(layers.Conv2D(filters=32, kernel_size=3, activation='relu',input_shape=(28, 28,1),name='block_1_conv'))\n",
        "model.add(layers.MaxPool2D(pool_size=2, name='block_1_pool'))\n",
        "model.add(layers.Conv2D(filters=64, kernel_size=3, activation='relu', name='block_2_conv'))\n",
        "model.add(layers.MaxPool2D(pool_size=2, name='block_2_pool'))\n",
        "model.add(layers.Conv2D(filters=64, kernel_size=3, activation='relu', name='block_3_conv'))\n",
        "\n",
        "model.add(layers.Flatten())\n",
        "\n",
        "model.add(layers.Dense(units=64, activation='relu'))\n",
        "model.add(layers.Dense(units=10, activation='softmax'))"
      ],
      "execution_count": 11,
      "outputs": []
    },
    {
      "cell_type": "code",
      "metadata": {
        "colab": {
          "base_uri": "https://localhost:8080/"
        },
        "id": "1bQ29Rjjq5Jz",
        "outputId": "3a055784-bc70-4368-c312-9ff555b9eda9"
      },
      "source": [
        "model.summary()"
      ],
      "execution_count": 12,
      "outputs": [
        {
          "output_type": "stream",
          "text": [
            "Model: \"sequential\"\n",
            "_________________________________________________________________\n",
            "Layer (type)                 Output Shape              Param #   \n",
            "=================================================================\n",
            "block_1_conv (Conv2D)        (None, 26, 26, 32)        320       \n",
            "_________________________________________________________________\n",
            "block_1_pool (MaxPooling2D)  (None, 13, 13, 32)        0         \n",
            "_________________________________________________________________\n",
            "block_2_conv (Conv2D)        (None, 11, 11, 64)        18496     \n",
            "_________________________________________________________________\n",
            "block_2_pool (MaxPooling2D)  (None, 5, 5, 64)          0         \n",
            "_________________________________________________________________\n",
            "block_3_conv (Conv2D)        (None, 3, 3, 64)          36928     \n",
            "_________________________________________________________________\n",
            "flatten (Flatten)            (None, 576)               0         \n",
            "_________________________________________________________________\n",
            "dense (Dense)                (None, 64)                36928     \n",
            "_________________________________________________________________\n",
            "dense_1 (Dense)              (None, 10)                650       \n",
            "=================================================================\n",
            "Total params: 93,322\n",
            "Trainable params: 93,322\n",
            "Non-trainable params: 0\n",
            "_________________________________________________________________\n"
          ],
          "name": "stdout"
        }
      ]
    },
    {
      "cell_type": "code",
      "metadata": {
        "id": "doJgswN3rWio"
      },
      "source": [
        "model.compile(loss='sparse_categorical_crossentropy',\n",
        "              optimizer='rmsprop',\n",
        "              metrics=['accuracy'])"
      ],
      "execution_count": 13,
      "outputs": []
    },
    {
      "cell_type": "code",
      "metadata": {
        "colab": {
          "base_uri": "https://localhost:8080/"
        },
        "id": "BJRoZqOpzNUz",
        "outputId": "ed65e5f7-46e3-4225-eb6d-16cbc5aee647"
      },
      "source": [
        "model.fit(x=train_x, y=train_y, epochs=50, batch_size=128, validation_split=0.2)"
      ],
      "execution_count": 14,
      "outputs": [
        {
          "output_type": "stream",
          "text": [
            "Epoch 1/50\n",
            "375/375 [==============================] - 34s 6ms/step - loss: 0.9294 - accuracy: 0.7828 - val_loss: 0.3970 - val_accuracy: 0.8571\n",
            "Epoch 2/50\n",
            "375/375 [==============================] - 2s 5ms/step - loss: 0.3659 - accuracy: 0.8668 - val_loss: 0.3387 - val_accuracy: 0.8808\n",
            "Epoch 3/50\n",
            "375/375 [==============================] - 2s 5ms/step - loss: 0.3059 - accuracy: 0.8878 - val_loss: 0.3581 - val_accuracy: 0.8723\n",
            "Epoch 4/50\n",
            "375/375 [==============================] - 2s 5ms/step - loss: 0.2693 - accuracy: 0.9009 - val_loss: 0.3103 - val_accuracy: 0.8904\n",
            "Epoch 5/50\n",
            "375/375 [==============================] - 2s 5ms/step - loss: 0.2473 - accuracy: 0.9077 - val_loss: 0.3327 - val_accuracy: 0.8860\n",
            "Epoch 6/50\n",
            "375/375 [==============================] - 2s 5ms/step - loss: 0.2260 - accuracy: 0.9161 - val_loss: 0.3419 - val_accuracy: 0.8820\n",
            "Epoch 7/50\n",
            "375/375 [==============================] - 2s 5ms/step - loss: 0.2137 - accuracy: 0.9209 - val_loss: 0.3023 - val_accuracy: 0.8956\n",
            "Epoch 8/50\n",
            "375/375 [==============================] - 2s 5ms/step - loss: 0.1988 - accuracy: 0.9276 - val_loss: 0.3642 - val_accuracy: 0.8893\n",
            "Epoch 9/50\n",
            "375/375 [==============================] - 2s 5ms/step - loss: 0.1880 - accuracy: 0.9311 - val_loss: 0.3346 - val_accuracy: 0.8978\n",
            "Epoch 10/50\n",
            "375/375 [==============================] - 2s 5ms/step - loss: 0.1768 - accuracy: 0.9345 - val_loss: 0.4244 - val_accuracy: 0.8862\n",
            "Epoch 11/50\n",
            "375/375 [==============================] - 2s 5ms/step - loss: 0.1681 - accuracy: 0.9376 - val_loss: 0.3753 - val_accuracy: 0.8968\n",
            "Epoch 12/50\n",
            "375/375 [==============================] - 2s 5ms/step - loss: 0.1556 - accuracy: 0.9426 - val_loss: 0.3753 - val_accuracy: 0.8963\n",
            "Epoch 13/50\n",
            "375/375 [==============================] - 2s 5ms/step - loss: 0.1557 - accuracy: 0.9436 - val_loss: 0.4267 - val_accuracy: 0.8946\n",
            "Epoch 14/50\n",
            "375/375 [==============================] - 2s 5ms/step - loss: 0.1479 - accuracy: 0.9458 - val_loss: 0.3677 - val_accuracy: 0.8977\n",
            "Epoch 15/50\n",
            "375/375 [==============================] - 2s 5ms/step - loss: 0.1425 - accuracy: 0.9486 - val_loss: 0.4289 - val_accuracy: 0.8961\n",
            "Epoch 16/50\n",
            "375/375 [==============================] - 2s 5ms/step - loss: 0.1386 - accuracy: 0.9501 - val_loss: 0.4714 - val_accuracy: 0.8896\n",
            "Epoch 17/50\n",
            "375/375 [==============================] - 2s 5ms/step - loss: 0.1370 - accuracy: 0.9502 - val_loss: 0.6206 - val_accuracy: 0.8967\n",
            "Epoch 18/50\n",
            "375/375 [==============================] - 2s 5ms/step - loss: 0.1300 - accuracy: 0.9534 - val_loss: 0.5262 - val_accuracy: 0.8928\n",
            "Epoch 19/50\n",
            "375/375 [==============================] - 2s 5ms/step - loss: 0.1307 - accuracy: 0.9528 - val_loss: 0.5000 - val_accuracy: 0.9003\n",
            "Epoch 20/50\n",
            "375/375 [==============================] - 2s 5ms/step - loss: 0.1292 - accuracy: 0.9544 - val_loss: 0.5016 - val_accuracy: 0.8852\n",
            "Epoch 21/50\n",
            "375/375 [==============================] - 2s 5ms/step - loss: 0.1294 - accuracy: 0.9561 - val_loss: 0.6022 - val_accuracy: 0.8973\n",
            "Epoch 22/50\n",
            "375/375 [==============================] - 2s 5ms/step - loss: 0.1279 - accuracy: 0.9557 - val_loss: 0.5610 - val_accuracy: 0.8911\n",
            "Epoch 23/50\n",
            "375/375 [==============================] - 2s 5ms/step - loss: 0.1200 - accuracy: 0.9581 - val_loss: 0.5933 - val_accuracy: 0.8988\n",
            "Epoch 24/50\n",
            "375/375 [==============================] - 2s 5ms/step - loss: 0.1189 - accuracy: 0.9595 - val_loss: 0.5574 - val_accuracy: 0.8977\n",
            "Epoch 25/50\n",
            "375/375 [==============================] - 2s 5ms/step - loss: 0.1243 - accuracy: 0.9583 - val_loss: 0.5900 - val_accuracy: 0.8957\n",
            "Epoch 26/50\n",
            "375/375 [==============================] - 2s 5ms/step - loss: 0.1209 - accuracy: 0.9586 - val_loss: 0.5692 - val_accuracy: 0.8939\n",
            "Epoch 27/50\n",
            "375/375 [==============================] - 2s 5ms/step - loss: 0.1195 - accuracy: 0.9603 - val_loss: 0.6171 - val_accuracy: 0.8931\n",
            "Epoch 28/50\n",
            "375/375 [==============================] - 2s 5ms/step - loss: 0.1222 - accuracy: 0.9597 - val_loss: 0.5610 - val_accuracy: 0.8859\n",
            "Epoch 29/50\n",
            "375/375 [==============================] - 2s 5ms/step - loss: 0.1205 - accuracy: 0.9602 - val_loss: 0.7542 - val_accuracy: 0.8951\n",
            "Epoch 30/50\n",
            "375/375 [==============================] - 2s 5ms/step - loss: 0.1152 - accuracy: 0.9614 - val_loss: 0.7150 - val_accuracy: 0.8849\n",
            "Epoch 31/50\n",
            "375/375 [==============================] - 2s 5ms/step - loss: 0.1188 - accuracy: 0.9612 - val_loss: 0.7836 - val_accuracy: 0.8870\n",
            "Epoch 32/50\n",
            "375/375 [==============================] - 2s 5ms/step - loss: 0.1187 - accuracy: 0.9610 - val_loss: 0.9480 - val_accuracy: 0.8932\n",
            "Epoch 33/50\n",
            "375/375 [==============================] - 2s 5ms/step - loss: 0.1197 - accuracy: 0.9613 - val_loss: 0.7033 - val_accuracy: 0.8937\n",
            "Epoch 34/50\n",
            "375/375 [==============================] - 2s 5ms/step - loss: 0.1257 - accuracy: 0.9618 - val_loss: 0.7897 - val_accuracy: 0.8934\n",
            "Epoch 35/50\n",
            "375/375 [==============================] - 2s 5ms/step - loss: 0.1233 - accuracy: 0.9615 - val_loss: 0.7603 - val_accuracy: 0.8892\n",
            "Epoch 36/50\n",
            "375/375 [==============================] - 2s 5ms/step - loss: 0.1176 - accuracy: 0.9623 - val_loss: 0.8263 - val_accuracy: 0.8843\n",
            "Epoch 37/50\n",
            "375/375 [==============================] - 2s 5ms/step - loss: 0.1184 - accuracy: 0.9638 - val_loss: 0.9150 - val_accuracy: 0.8852\n",
            "Epoch 38/50\n",
            "375/375 [==============================] - 2s 5ms/step - loss: 0.1210 - accuracy: 0.9623 - val_loss: 0.9917 - val_accuracy: 0.8797\n",
            "Epoch 39/50\n",
            "375/375 [==============================] - 2s 5ms/step - loss: 0.1220 - accuracy: 0.9620 - val_loss: 0.8839 - val_accuracy: 0.8835\n",
            "Epoch 40/50\n",
            "375/375 [==============================] - 2s 5ms/step - loss: 0.1305 - accuracy: 0.9617 - val_loss: 0.8988 - val_accuracy: 0.8902\n",
            "Epoch 41/50\n",
            "375/375 [==============================] - 2s 5ms/step - loss: 0.1258 - accuracy: 0.9610 - val_loss: 0.9313 - val_accuracy: 0.8968\n",
            "Epoch 42/50\n",
            "375/375 [==============================] - 2s 5ms/step - loss: 0.1260 - accuracy: 0.9607 - val_loss: 0.7960 - val_accuracy: 0.8858\n",
            "Epoch 43/50\n",
            "375/375 [==============================] - 2s 5ms/step - loss: 0.1231 - accuracy: 0.9625 - val_loss: 0.8729 - val_accuracy: 0.8872\n",
            "Epoch 44/50\n",
            "375/375 [==============================] - 2s 5ms/step - loss: 0.1198 - accuracy: 0.9625 - val_loss: 0.6999 - val_accuracy: 0.8848\n",
            "Epoch 45/50\n",
            "375/375 [==============================] - 2s 5ms/step - loss: 0.1183 - accuracy: 0.9633 - val_loss: 1.1494 - val_accuracy: 0.8836\n",
            "Epoch 46/50\n",
            "375/375 [==============================] - 2s 5ms/step - loss: 0.1236 - accuracy: 0.9616 - val_loss: 1.0066 - val_accuracy: 0.8960\n",
            "Epoch 47/50\n",
            "375/375 [==============================] - 2s 5ms/step - loss: 0.1208 - accuracy: 0.9635 - val_loss: 0.6287 - val_accuracy: 0.8732\n",
            "Epoch 48/50\n",
            "375/375 [==============================] - 2s 5ms/step - loss: 0.1214 - accuracy: 0.9630 - val_loss: 0.8100 - val_accuracy: 0.8855\n",
            "Epoch 49/50\n",
            "375/375 [==============================] - 2s 5ms/step - loss: 0.1329 - accuracy: 0.9630 - val_loss: 0.8810 - val_accuracy: 0.8938\n",
            "Epoch 50/50\n",
            "375/375 [==============================] - 2s 5ms/step - loss: 0.1226 - accuracy: 0.9638 - val_loss: 1.2887 - val_accuracy: 0.8825\n"
          ],
          "name": "stdout"
        },
        {
          "output_type": "execute_result",
          "data": {
            "text/plain": [
              "<tensorflow.python.keras.callbacks.History at 0x7f3a7027cf10>"
            ]
          },
          "metadata": {
            "tags": []
          },
          "execution_count": 14
        }
      ]
    },
    {
      "cell_type": "code",
      "metadata": {
        "colab": {
          "base_uri": "https://localhost:8080/"
        },
        "id": "zw2uKcep0XBO",
        "outputId": "60031881-77af-4b13-c8a4-38928e959397"
      },
      "source": [
        "loss, accuracy = model.evaluate(x=test_x, y=test_y)"
      ],
      "execution_count": 15,
      "outputs": [
        {
          "output_type": "stream",
          "text": [
            "313/313 [==============================] - 1s 2ms/step - loss: 1.5184 - accuracy: 0.8802\n"
          ],
          "name": "stdout"
        }
      ]
    }
  ]
}
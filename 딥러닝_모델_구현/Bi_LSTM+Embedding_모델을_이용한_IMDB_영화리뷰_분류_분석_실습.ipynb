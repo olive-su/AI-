{
  "nbformat": 4,
  "nbformat_minor": 0,
  "metadata": {
    "kernelspec": {
      "name": "python3",
      "display_name": "Python 3"
    },
    "language_info": {
      "codemirror_mode": {
        "name": "ipython",
        "version": 3
      },
      "file_extension": ".py",
      "mimetype": "text/x-python",
      "name": "python",
      "nbconvert_exporter": "python",
      "pygments_lexer": "ipython3",
      "version": "3.6.6"
    },
    "colab": {
      "name": "Bi-LSTM+Embedding 모델을 이용한 IMDB 영화리뷰 분류 분석_실습.ipynb",
      "provenance": [],
      "collapsed_sections": [],
      "include_colab_link": true
    },
    "accelerator": "GPU"
  },
  "cells": [
    {
      "cell_type": "markdown",
      "metadata": {
        "id": "view-in-github",
        "colab_type": "text"
      },
      "source": [
        "<a href=\"https://colab.research.google.com/github/olive-su/AI_codepresso/blob/master/Bi_LSTM%2BEmbedding_%EB%AA%A8%EB%8D%B8%EC%9D%84_%EC%9D%B4%EC%9A%A9%ED%95%9C_IMDB_%EC%98%81%ED%99%94%EB%A6%AC%EB%B7%B0_%EB%B6%84%EB%A5%98_%EB%B6%84%EC%84%9D_%EC%8B%A4%EC%8A%B5.ipynb\" target=\"_parent\"><img src=\"https://colab.research.google.com/assets/colab-badge.svg\" alt=\"Open In Colab\"/></a>"
      ]
    },
    {
      "cell_type": "markdown",
      "metadata": {
        "id": "hiwEVOV3G3dF"
      },
      "source": [
        "## 적층 LSTM 모델을 이용한 영화리뷰 분류 분석"
      ]
    },
    {
      "cell_type": "code",
      "metadata": {
        "id": "73nNmH04Ag7D"
      },
      "source": [
        "import matplotlib.pyplot as plt\n",
        "\n",
        "import tensorflow as tf\n",
        "from tensorflow.keras.datasets import imdb"
      ],
      "execution_count": null,
      "outputs": []
    },
    {
      "cell_type": "markdown",
      "metadata": {
        "id": "jJGbMTr8Ag7R"
      },
      "source": [
        "### Step 1-1. Input tensor 와 Target tensor 준비(훈련데이터)\n",
        "* IMDB 영화 리뷰 데이터 down"
      ]
    },
    {
      "cell_type": "code",
      "metadata": {
        "id": "73MqaPo_Ag7R",
        "colab": {
          "base_uri": "https://localhost:8080/"
        },
        "outputId": "11d499c2-87d4-44f5-fbdb-49c86f89bb3c"
      },
      "source": [
        "(input_train, y_train), (input_test, y_test) = imdb.load_data(num_words=10000)"
      ],
      "execution_count": null,
      "outputs": [
        {
          "output_type": "stream",
          "text": [
            "Downloading data from https://storage.googleapis.com/tensorflow/tf-keras-datasets/imdb.npz\n",
            "17465344/17464789 [==============================] - 0s 0us/step\n"
          ],
          "name": "stdout"
        },
        {
          "output_type": "stream",
          "text": [
            "<string>:6: VisibleDeprecationWarning: Creating an ndarray from ragged nested sequences (which is a list-or-tuple of lists-or-tuples-or ndarrays with different lengths or shapes) is deprecated. If you meant to do this, you must specify 'dtype=object' when creating the ndarray\n",
            "/usr/local/lib/python3.7/dist-packages/tensorflow/python/keras/datasets/imdb.py:155: VisibleDeprecationWarning: Creating an ndarray from ragged nested sequences (which is a list-or-tuple of lists-or-tuples-or ndarrays with different lengths or shapes) is deprecated. If you meant to do this, you must specify 'dtype=object' when creating the ndarray\n",
            "  x_train, y_train = np.array(xs[:idx]), np.array(labels[:idx])\n",
            "/usr/local/lib/python3.7/dist-packages/tensorflow/python/keras/datasets/imdb.py:156: VisibleDeprecationWarning: Creating an ndarray from ragged nested sequences (which is a list-or-tuple of lists-or-tuples-or ndarrays with different lengths or shapes) is deprecated. If you meant to do this, you must specify 'dtype=object' when creating the ndarray\n",
            "  x_test, y_test = np.array(xs[idx:]), np.array(labels[idx:])\n"
          ],
          "name": "stderr"
        }
      ]
    },
    {
      "cell_type": "markdown",
      "metadata": {
        "id": "jFdUAnJlLTvK"
      },
      "source": [
        "### Step 1-2. 입력 데이터의 전처리 \n",
        "* LSTM 모델에 데이터를 입력하기 위해 시퀀스 데이터의 길이를 통일"
      ]
    },
    {
      "cell_type": "code",
      "metadata": {
        "id": "37iQ2jnz7oD4"
      },
      "source": [
        "from tensorflow.keras.preprocessing import sequence"
      ],
      "execution_count": null,
      "outputs": []
    },
    {
      "cell_type": "code",
      "metadata": {
        "id": "UvoXgzITArVM"
      },
      "source": [
        "input_train = sequence.pad_sequences(input_train, 800)\n",
        "input_test = sequence.pad_sequences(input_test, 800)"
      ],
      "execution_count": null,
      "outputs": []
    },
    {
      "cell_type": "code",
      "metadata": {
        "id": "7cD70xDWIQya",
        "colab": {
          "base_uri": "https://localhost:8080/"
        },
        "outputId": "74e19f50-75b6-414a-e97a-ca81ce0ea049"
      },
      "source": [
        "input_train.shape, input_test.shape"
      ],
      "execution_count": null,
      "outputs": [
        {
          "output_type": "execute_result",
          "data": {
            "text/plain": [
              "((25000, 800), (25000, 800))"
            ]
          },
          "metadata": {
            "tags": []
          },
          "execution_count": 5
        }
      ]
    },
    {
      "cell_type": "markdown",
      "metadata": {
        "id": "HlYZ5ncTs8LP"
      },
      "source": [
        "### Step2. Bi-LSTM 모델 디자인"
      ]
    },
    {
      "cell_type": "code",
      "metadata": {
        "id": "5VYZ7LeX7ym3"
      },
      "source": [
        "from tensorflow.keras import layers, models"
      ],
      "execution_count": null,
      "outputs": []
    },
    {
      "cell_type": "code",
      "metadata": {
        "id": "N6LKApiSWa3K"
      },
      "source": [
        "del model"
      ],
      "execution_count": null,
      "outputs": []
    },
    {
      "cell_type": "code",
      "metadata": {
        "id": "t2zMhzYbm_M2"
      },
      "source": [
        "# embedding layer: 32차원, hidden layer : Bi-LSTM 1개[32]\n",
        "model = models.Sequential()\n",
        "model.add(layers.Embedding(input_dim=10000, output_dim=32, input_length=800))\n",
        "model.add(layers.Bidirectional(layers.LSTM(units=32)))\n",
        "model.add(layers.Dense(units=1, activation='sigmoid'))"
      ],
      "execution_count": null,
      "outputs": []
    },
    {
      "cell_type": "code",
      "metadata": {
        "id": "92GAoFNvtCn_",
        "colab": {
          "base_uri": "https://localhost:8080/"
        },
        "outputId": "4341ea48-9fba-43e6-9d76-32cfa165dcab"
      },
      "source": [
        "model.summary()"
      ],
      "execution_count": null,
      "outputs": [
        {
          "output_type": "stream",
          "text": [
            "Model: \"sequential_3\"\n",
            "_________________________________________________________________\n",
            "Layer (type)                 Output Shape              Param #   \n",
            "=================================================================\n",
            "embedding_3 (Embedding)      (None, 800, 32)           320000    \n",
            "_________________________________________________________________\n",
            "bidirectional_3 (Bidirection (None, 64)                16640     \n",
            "_________________________________________________________________\n",
            "dense_3 (Dense)              (None, 1)                 65        \n",
            "=================================================================\n",
            "Total params: 336,705\n",
            "Trainable params: 336,705\n",
            "Non-trainable params: 0\n",
            "_________________________________________________________________\n"
          ],
          "name": "stdout"
        }
      ]
    },
    {
      "cell_type": "code",
      "metadata": {
        "id": "8gPQf_OStIkq"
      },
      "source": [
        "# loss : binary crossentropy/ optimizer : rmsprop/ metric : accuracy\n",
        "model.compile(loss='binary_crossentropy',\n",
        "              optimizer='rmsprop',\n",
        "              metrics=['accuracy'])"
      ],
      "execution_count": null,
      "outputs": []
    },
    {
      "cell_type": "code",
      "metadata": {
        "id": "s0eZdMMXtLu4",
        "colab": {
          "base_uri": "https://localhost:8080/"
        },
        "outputId": "b834284a-d25a-4623-9c91-e44e78f6e2dc"
      },
      "source": [
        "# batch size : 128, epochs : 10, validation data set percent : 20%\n",
        "history = model.fit(\n",
        "    x=input_train, y=y_train,\n",
        "    batch_size=128,\n",
        "    epochs=10,\n",
        "    validation_split=0.2\n",
        ")"
      ],
      "execution_count": null,
      "outputs": [
        {
          "output_type": "stream",
          "text": [
            "Epoch 1/10\n",
            "157/157 [==============================] - 18s 76ms/step - loss: 0.5088 - accuracy: 0.7541 - val_loss: 0.3537 - val_accuracy: 0.8608\n",
            "Epoch 2/10\n",
            "157/157 [==============================] - 11s 71ms/step - loss: 0.2884 - accuracy: 0.8882 - val_loss: 0.3141 - val_accuracy: 0.8734\n",
            "Epoch 3/10\n",
            "157/157 [==============================] - 11s 71ms/step - loss: 0.2350 - accuracy: 0.9133 - val_loss: 0.3082 - val_accuracy: 0.8674\n",
            "Epoch 4/10\n",
            "157/157 [==============================] - 11s 72ms/step - loss: 0.1997 - accuracy: 0.9279 - val_loss: 0.2972 - val_accuracy: 0.8722\n",
            "Epoch 5/10\n",
            "157/157 [==============================] - 11s 72ms/step - loss: 0.1784 - accuracy: 0.9363 - val_loss: 0.3702 - val_accuracy: 0.8628\n",
            "Epoch 6/10\n",
            "157/157 [==============================] - 11s 71ms/step - loss: 0.1734 - accuracy: 0.9413 - val_loss: 0.3038 - val_accuracy: 0.8906\n",
            "Epoch 7/10\n",
            "157/157 [==============================] - 11s 72ms/step - loss: 0.1463 - accuracy: 0.9485 - val_loss: 0.3838 - val_accuracy: 0.8526\n",
            "Epoch 8/10\n",
            "157/157 [==============================] - 11s 71ms/step - loss: 0.1355 - accuracy: 0.9534 - val_loss: 0.3181 - val_accuracy: 0.8746\n",
            "Epoch 9/10\n",
            "157/157 [==============================] - 11s 72ms/step - loss: 0.1235 - accuracy: 0.9571 - val_loss: 0.3725 - val_accuracy: 0.8750\n",
            "Epoch 10/10\n",
            "157/157 [==============================] - 11s 71ms/step - loss: 0.1304 - accuracy: 0.9590 - val_loss: 0.3480 - val_accuracy: 0.8754\n"
          ],
          "name": "stdout"
        }
      ]
    },
    {
      "cell_type": "code",
      "metadata": {
        "id": "c36CUjVGtOOQ"
      },
      "source": [
        "# 학습과정 시각화를 위한 정보 추출\n",
        "acc = history.history['accuracy']\n",
        "val_acc = history.history['val_accuracy']\n",
        "loss = history.history['loss']\n",
        "val_loss = history.history['val_loss']\n",
        "\n",
        "epochs = range(1, len(acc) + 1)"
      ],
      "execution_count": null,
      "outputs": []
    },
    {
      "cell_type": "code",
      "metadata": {
        "id": "plOhTdYctSKC",
        "colab": {
          "base_uri": "https://localhost:8080/",
          "height": 281
        },
        "outputId": "20a0031b-5798-4fd0-ff17-78adad58819a"
      },
      "source": [
        "# 정합도 정보 시각화\n",
        "plt.plot(epochs, acc, label='Training acc')\n",
        "plt.plot(epochs, val_acc, label='Validation acc')\n",
        "plt.title('Training and validation accuracy')\n",
        "plt.legend()\n",
        "plt.show()"
      ],
      "execution_count": null,
      "outputs": [
        {
          "output_type": "display_data",
          "data": {
            "image/png": "[encoded data removed]",
            "text/plain": [
              "<Figure size 432x288 with 1 Axes>"
            ]
          },
          "metadata": {
            "tags": [],
            "needs_background": "light"
          }
        }
      ]
    },
    {
      "cell_type": "code",
      "metadata": {
        "id": "5EUQzV1GtV7H",
        "colab": {
          "base_uri": "https://localhost:8080/",
          "height": 281
        },
        "outputId": "8acad744-b963-48b5-c91a-a16c8170e288"
      },
      "source": [
        "# loss 정보 시각화\n",
        "plt.plot(epochs, loss, label='Training loss')\n",
        "plt.plot(epochs, val_loss, label='Validation loss')\n",
        "plt.title('Training and validation loss')\n",
        "plt.legend()\n",
        "\n",
        "plt.show()"
      ],
      "execution_count": null,
      "outputs": [
        {
          "output_type": "display_data",
          "data": {
            "image/png": "[encoded data removed]",
            "text/plain": [
              "<Figure size 432x288 with 1 Axes>"
            ]
          },
          "metadata": {
            "tags": [],
            "needs_background": "light"
          }
        }
      ]
    },
    {
      "cell_type": "code",
      "metadata": {
        "id": "1dIM7a4mtYkX",
        "colab": {
          "base_uri": "https://localhost:8080/"
        },
        "outputId": "e2f7e919-c1cc-4d5b-b4eb-f3e6431fbee6"
      },
      "source": [
        "# 테스트 데이터 셋을 통한 성능 측정\n",
        "test_loss, test_acc = model.evaluate(x=input_test, y=y_test)"
      ],
      "execution_count": null,
      "outputs": [
        {
          "output_type": "stream",
          "text": [
            "782/782 [==============================] - 21s 27ms/step - loss: 0.4030 - accuracy: 0.8694\n"
          ],
          "name": "stdout"
        }
      ]
    }
  ]
}
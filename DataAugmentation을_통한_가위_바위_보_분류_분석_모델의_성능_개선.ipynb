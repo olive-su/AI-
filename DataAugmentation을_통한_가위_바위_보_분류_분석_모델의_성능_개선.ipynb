{
  "nbformat": 4,
  "nbformat_minor": 0,
  "metadata": {
    "colab": {
      "name": "[DAY3-2] DataAugmentation을 통한 가위-바위-보 분류 분석 모델의 성능 개선.ipynb",
      "provenance": [],
      "collapsed_sections": [],
      "include_colab_link": true
    },
    "kernelspec": {
      "display_name": "Python 3",
      "language": "python",
      "name": "python3"
    },
    "language_info": {
      "codemirror_mode": {
        "name": "ipython",
        "version": 3
      },
      "file_extension": ".py",
      "mimetype": "text/x-python",
      "name": "python",
      "nbconvert_exporter": "python",
      "pygments_lexer": "ipython3",
      "version": "3.6.8"
    },
    "accelerator": "GPU"
  },
  "cells": [
    {
      "cell_type": "markdown",
      "metadata": {
        "id": "view-in-github",
        "colab_type": "text"
      },
      "source": [
        "<a href=\"https://colab.research.google.com/github/olive-su/AI_codepresso/blob/master/DataAugmentation%EC%9D%84_%ED%86%B5%ED%95%9C_%EA%B0%80%EC%9C%84_%EB%B0%94%EC%9C%84_%EB%B3%B4_%EB%B6%84%EB%A5%98_%EB%B6%84%EC%84%9D_%EB%AA%A8%EB%8D%B8%EC%9D%98_%EC%84%B1%EB%8A%A5_%EA%B0%9C%EC%84%A0.ipynb\" target=\"_parent\"><img src=\"https://colab.research.google.com/assets/colab-badge.svg\" alt=\"Open In Colab\"/></a>"
      ]
    },
    {
      "cell_type": "code",
      "metadata": {
        "id": "nttUXJ5-8GBu"
      },
      "source": [
        "from tensorflow import keras"
      ],
      "execution_count": 2,
      "outputs": []
    },
    {
      "cell_type": "markdown",
      "metadata": {
        "id": "AsvLNgTDOhwV"
      },
      "source": [
        "## Data Augmention 을 통한 가위-바위-보 데이터 셋 분류 성능 개선"
      ]
    },
    {
      "cell_type": "markdown",
      "metadata": {
        "id": "awpp41STJMNX"
      },
      "source": [
        "### Step 1. Input tensor 와 Target tensor 준비(훈련데이터)"
      ]
    },
    {
      "cell_type": "markdown",
      "metadata": {
        "id": "9fb6nJMfPD_W"
      },
      "source": [
        "(1) 가위-바위-보 데이터셋 다운로드"
      ]
    },
    {
      "cell_type": "code",
      "metadata": {
        "id": "66m-HupE-MD1",
        "colab": {
          "base_uri": "https://localhost:8080/"
        },
        "outputId": "7100717f-e4c4-4457-e950-e2b6e0a4d6c7"
      },
      "source": [
        "url = 'https://storage.googleapis.com/laurencemoroney-blog.appspot.com/rps.zip'\n",
        "\n",
        "path_to_zip = keras.utils.get_file('rps.zip',\n",
        "                                   origin=url,\n",
        "                                   extract=True,\n",
        "                                   cache_dir='/content')"
      ],
      "execution_count": 3,
      "outputs": [
        {
          "output_type": "stream",
          "name": "stdout",
          "text": [
            "Downloading data from https://storage.googleapis.com/laurencemoroney-blog.appspot.com/rps.zip\n",
            "200687616/200682221 [==============================] - 5s 0us/step\n",
            "200695808/200682221 [==============================] - 5s 0us/step\n"
          ]
        }
      ]
    },
    {
      "cell_type": "code",
      "metadata": {
        "id": "W76LYwIG25Cj",
        "colab": {
          "base_uri": "https://localhost:8080/"
        },
        "outputId": "823f21a9-9a5b-4ab0-974b-7cf210540166"
      },
      "source": [
        "url = 'https://storage.googleapis.com/laurencemoroney-blog.appspot.com/rps-test-set.zip'\n",
        "\n",
        "path_to_zip = keras.utils.get_file('rps_test.zip',\n",
        "                                   origin=url,\n",
        "                                   extract=True,\n",
        "                                   cache_dir='/content')"
      ],
      "execution_count": 4,
      "outputs": [
        {
          "output_type": "stream",
          "name": "stdout",
          "text": [
            "Downloading data from https://storage.googleapis.com/laurencemoroney-blog.appspot.com/rps-test-set.zip\n",
            "29523968/29516758 [==============================] - 1s 0us/step\n",
            "29532160/29516758 [==============================] - 1s 0us/step\n"
          ]
        }
      ]
    },
    {
      "cell_type": "markdown",
      "metadata": {
        "id": "2AOJddjQPIgB"
      },
      "source": [
        "(2) ImageDataGenerator를 이용해 이미지 파일을 load 하기 위한 경로 지정"
      ]
    },
    {
      "cell_type": "code",
      "metadata": {
        "id": "4tdUe6aPwUHy"
      },
      "source": [
        "train_dir = '/content/datasets/rps'\n",
        "test_dir = '/content/datasets/rps-test-set'"
      ],
      "execution_count": 5,
      "outputs": []
    },
    {
      "cell_type": "markdown",
      "metadata": {
        "id": "9uupmn1IPN3J"
      },
      "source": [
        "(3) ImageDataGenerator 객체 생성  \n",
        "* 객체 생성 시 rescale 인자를 이용하여 텐서 내 원소의 범위를 [0 ~ 255] => [0 ~ 1] 로 ReScaling 진행\n",
        "* Data Augmentation 을 위한 정보들 설정"
      ]
    },
    {
      "cell_type": "code",
      "metadata": {
        "id": "ZMTsU6LoiQyQ"
      },
      "source": [
        "from tensorflow.keras.preprocessing.image import ImageDataGenerator"
      ],
      "execution_count": 6,
      "outputs": []
    },
    {
      "cell_type": "code",
      "metadata": {
        "id": "8AjVlr3_MISA"
      },
      "source": [
        "# Augmentation 수행 인자\n",
        "# rotation : 40\n",
        "# width : 0.2\n",
        "# hight : 0.2\n",
        "# share : 0.2\n",
        "# zoom : 0.2\n",
        "# horizontal : True\n",
        "train_datagen = ImageDataGenerator(\n",
        "    rescale=1./225.,\n",
        "    rotation_range=40,\n",
        "    width_shift_range=0.2,\n",
        "    height_shift_range=0.2,\n",
        "    shear_range=0.2,\n",
        "    zoom_range=0.2,\n",
        "    horizontal_flip=True)\n",
        "\n",
        "validation_datagen = ImageDataGenerator(rescale=1./255., validation_split=0.2)\n",
        "\n",
        "test_datagen = ImageDataGenerator(rescale=1./255.)"
      ],
      "execution_count": 7,
      "outputs": []
    },
    {
      "cell_type": "markdown",
      "metadata": {
        "id": "97reh_oxPe2U"
      },
      "source": [
        "* .flow_from_directory() 메서드를 이용하여 학습데이터와 검증데이터를 위한 DirectoryIterator 객체 생성"
      ]
    },
    {
      "cell_type": "code",
      "metadata": {
        "id": "aEHvzPOwBJp1",
        "colab": {
          "base_uri": "https://localhost:8080/"
        },
        "outputId": "3da9f046-25c5-459b-89f8-2eadb7794333"
      },
      "source": [
        "train_generator = train_datagen.flow_from_directory(\n",
        "    train_dir,\n",
        "    target_size=(150, 150),\n",
        "    batch_size=32,\n",
        "    shuffle=True,\n",
        "    class_mode='categorical'\n",
        ")\n",
        "\n",
        "validation_generator = validation_datagen.flow_from_directory(\n",
        "    train_dir,\n",
        "    target_size=(150, 150),\n",
        "    batch_size=32,\n",
        "    shuffle=True,\n",
        "    class_mode='categorical',\n",
        "    subset='validation'\n",
        ")\n",
        "\n",
        "test_generator = test_datagen.flow_from_directory(\n",
        "    test_dir,\n",
        "    target_size=(150, 150),\n",
        "    batch_size=32,\n",
        "    class_mode='categorical'\n",
        ")"
      ],
      "execution_count": 8,
      "outputs": [
        {
          "output_type": "stream",
          "name": "stdout",
          "text": [
            "Found 2520 images belonging to 3 classes.\n",
            "Found 504 images belonging to 3 classes.\n",
            "Found 372 images belonging to 3 classes.\n"
          ]
        }
      ]
    },
    {
      "cell_type": "markdown",
      "metadata": {
        "id": "2xE1fshxPlpX"
      },
      "source": [
        "### Step 2. CNN 모델 디자인 및 학습 정보 설정"
      ]
    },
    {
      "cell_type": "markdown",
      "metadata": {
        "id": "9eRU8I11PpoZ"
      },
      "source": [
        "(1) CNN 모델 구성"
      ]
    },
    {
      "cell_type": "code",
      "metadata": {
        "id": "A2c9fqg9u6wU"
      },
      "source": [
        "model = keras.Sequential()\n",
        "model.add(keras.layers.Conv2D(32, (3, 3), activation='relu',\n",
        "                        input_shape=(150, 150, 3)))\n",
        "model.add(keras.layers.MaxPooling2D((2, 2)))\n",
        "model.add(keras.layers.Conv2D(64, (3, 3), activation='relu'))\n",
        "model.add(keras.layers.MaxPooling2D((2, 2)))\n",
        "model.add(keras.layers.Conv2D(128, (3, 3), activation='relu'))\n",
        "model.add(keras.layers.MaxPooling2D((2, 2)))\n",
        "model.add(keras.layers.Conv2D(128, (3, 3), activation='relu'))\n",
        "model.add(keras.layers.MaxPooling2D((2, 2)))\n",
        "\n",
        "model.add(keras.layers.Flatten())\n",
        "model.add(keras.layers.Dense(512, activation='relu'))\n",
        "model.add(keras.layers.Dense(3, activation='sigmoid'))"
      ],
      "execution_count": 9,
      "outputs": []
    },
    {
      "cell_type": "markdown",
      "metadata": {
        "id": "m9HvXu_PP5CR"
      },
      "source": [
        "(2) 학습을 위한 설정 정보 지정"
      ]
    },
    {
      "cell_type": "code",
      "metadata": {
        "id": "G6IdqQtWL1dM"
      },
      "source": [
        "model.compile(loss='categorical_crossentropy',\n",
        "              optimizer='rmsprop',\n",
        "              metrics=['accuracy'])"
      ],
      "execution_count": 10,
      "outputs": []
    },
    {
      "cell_type": "markdown",
      "metadata": {
        "id": "RdpYcivWP9UB"
      },
      "source": [
        "### Step 3. 모델에 데이터 generator 연결 후 학습 \n",
        "  * model.fit() 이용하여 데이터 연결 및 학습시키기"
      ]
    },
    {
      "cell_type": "code",
      "metadata": {
        "id": "SN_cR_vEvIZZ",
        "colab": {
          "base_uri": "https://localhost:8080/"
        },
        "outputId": "c6bed61f-5643-419d-93e1-730c84f5381d"
      },
      "source": [
        "history = model.fit(\n",
        "      train_generator,\n",
        "      steps_per_epoch=len(train_generator),\n",
        "      epochs=10,\n",
        "      validation_data=validation_generator,\n",
        "      validation_steps=len(validation_generator))"
      ],
      "execution_count": 11,
      "outputs": [
        {
          "output_type": "stream",
          "name": "stdout",
          "text": [
            "Epoch 1/10\n",
            "79/79 [==============================] - 37s 313ms/step - loss: 1.2281 - accuracy: 0.4179 - val_loss: 0.8705 - val_accuracy: 0.4802\n",
            "Epoch 2/10\n",
            "79/79 [==============================] - 24s 306ms/step - loss: 0.8446 - accuracy: 0.6333 - val_loss: 1.8708 - val_accuracy: 0.4385\n",
            "Epoch 3/10\n",
            "79/79 [==============================] - 25s 310ms/step - loss: 0.5233 - accuracy: 0.7861 - val_loss: 0.1804 - val_accuracy: 0.9722\n",
            "Epoch 4/10\n",
            "79/79 [==============================] - 25s 311ms/step - loss: 0.2997 - accuracy: 0.8877 - val_loss: 0.0554 - val_accuracy: 1.0000\n",
            "Epoch 5/10\n",
            "79/79 [==============================] - 25s 310ms/step - loss: 0.2170 - accuracy: 0.9167 - val_loss: 0.0733 - val_accuracy: 0.9683\n",
            "Epoch 6/10\n",
            "79/79 [==============================] - 24s 309ms/step - loss: 0.1899 - accuracy: 0.9381 - val_loss: 0.0972 - val_accuracy: 0.9623\n",
            "Epoch 7/10\n",
            "79/79 [==============================] - 24s 309ms/step - loss: 0.1370 - accuracy: 0.9492 - val_loss: 0.5923 - val_accuracy: 0.6944\n",
            "Epoch 8/10\n",
            "79/79 [==============================] - 24s 308ms/step - loss: 0.1462 - accuracy: 0.9552 - val_loss: 0.0102 - val_accuracy: 1.0000\n",
            "Epoch 9/10\n",
            "79/79 [==============================] - 24s 310ms/step - loss: 0.1215 - accuracy: 0.9599 - val_loss: 0.0878 - val_accuracy: 0.9563\n",
            "Epoch 10/10\n",
            "79/79 [==============================] - 25s 316ms/step - loss: 0.1077 - accuracy: 0.9635 - val_loss: 3.8159e-04 - val_accuracy: 1.0000\n"
          ]
        }
      ]
    },
    {
      "cell_type": "markdown",
      "metadata": {
        "id": "RYQnScauRf2l"
      },
      "source": [
        "### Step 4. 테스트 데이터 셋을 통한 모델의 성능 평가"
      ]
    },
    {
      "cell_type": "code",
      "metadata": {
        "id": "WhdByEOaL8zO",
        "colab": {
          "base_uri": "https://localhost:8080/"
        },
        "outputId": "a107a41c-f3e7-4fab-c8cb-ef0d8170cffb"
      },
      "source": [
        "loss, accuracy = model.evaluate(test_generator)"
      ],
      "execution_count": 12,
      "outputs": [
        {
          "output_type": "stream",
          "name": "stdout",
          "text": [
            "12/12 [==============================] - 2s 143ms/step - loss: 0.0870 - accuracy: 0.9597\n"
          ]
        }
      ]
    },
    {
      "cell_type": "code",
      "metadata": {
        "id": "mmr8cLeEnkj4"
      },
      "source": [
        ""
      ],
      "execution_count": 12,
      "outputs": []
    }
  ]
}